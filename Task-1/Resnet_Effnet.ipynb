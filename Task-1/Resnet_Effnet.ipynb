{
 "cells": [
  {
   "cell_type": "code",
   "execution_count": 31,
   "id": "c5f87ec2-7eca-452e-81b7-f77b21e0e889",
   "metadata": {},
   "outputs": [
    {
     "data": {
      "text/html": [
       "<pre style=\"white-space:pre;overflow-x:auto;line-height:normal;font-family:Menlo,'DejaVu Sans Mono',consolas,'Courier New',monospace\"><span style=\"color: #6a994e; text-decoration-color: #6a994e; font-weight: bold\"> Notebook color scheme </span>\n",
       "</pre>\n"
      ],
      "text/plain": [
       "\u001b[1;38;2;106;153;78m Notebook color scheme \u001b[0m\n"
      ]
     },
     "metadata": {},
     "output_type": "display_data"
    },
    {
     "data": {
      "image/png": "[encoded data removed]",
      "text/plain": [
       "<Figure size 300x100 with 1 Axes>"
      ]
     },
     "metadata": {},
     "output_type": "display_data"
    }
   ],
   "source": [
    "from typing import Any, List, Tuple, Optional, Dict\n",
    "\n",
    "import numpy as np\n",
    "import pandas as pd\n",
    "import matplotlib.pyplot as plt\n",
    "import seaborn as sns\n",
    "import torch\n",
    "import torch.nn as nn\n",
    "import torch.nn.functional as F\n",
    "import torch.utils.data as td\n",
    "import lightning.pytorch as pl\n",
    "import torchvision\n",
    "import torchmetrics\n",
    "import albumentations\n",
    "import wandb\n",
    "import os\n",
    "import sys\n",
    "import warnings \n",
    "import json\n",
    "import gc\n",
    "\n",
    "\n",
    "from PIL import Image\n",
    "from sklearn.model_selection import train_test_split\n",
    "\n",
    "from deepspeed.ops.adam import FusedAdam\n",
    "\n",
    "from IPython.display import display_markdown, display_latex\n",
    "from matplotlib.colors import ListedColormap\n",
    "from rich.console import Console\n",
    "from rich.progress import track\n",
    "from rich.table import Table\n",
    "from rich import print as rprint\n",
    "\n",
    "from collections import defaultdict\n",
    "\n",
    "MY_COLORS = [\"#ff6b6b\", \"#fcbf49\", \"#6a994e\"]\n",
    "MY_COLORMAP = ListedColormap(MY_COLORS)\n",
    "\n",
    "WANDB_CONFIG = {\"experiment\":\"GSoc2023\", \"_wandb_kernel\":\"aot\"}\n",
    "\n",
    "rprint(\"[bold #6a994e] Notebook color scheme [/bold #6a994e]\")\n",
    "sns.palplot(sns.color_palette(MY_COLORS))\n",
    "plt.show()"
   ]
  },
  {
   "cell_type": "code",
   "execution_count": 2,
   "id": "fff04cac-c44e-4658-b59b-254497558ef7",
   "metadata": {
    "tags": []
   },
   "outputs": [
    {
     "name": "stdout",
     "output_type": "stream",
     "text": [
      "\u001b[34m\u001b[1mwandb\u001b[0m: Appending key for api.wandb.ai to your netrc file: /home/darthvader/.netrc\n"
     ]
    }
   ],
   "source": [
    "api_key = os.environ[\"WANDB_API_KEY\"]\n",
    "!wandb login $api_key"
   ]
  },
  {
   "cell_type": "markdown",
   "id": "af0377a5-add2-4743-9754-1e88e92b3dbf",
   "metadata": {},
   "source": [
    "# Create MetaData"
   ]
  },
  {
   "cell_type": "code",
   "execution_count": 3,
   "id": "87d4373e-a938-4863-99a3-2af61837fc45",
   "metadata": {
    "tags": []
   },
   "outputs": [],
   "source": [
    "def metaCreate(root_dir:str, sub_dir:str) -> \"pd.DataFrame\":\n",
    "    \"\"\"\n",
    "    This function is used to create the metaData for the files.\n",
    "\n",
    "    :param root_dir: the root directory of the datasets.\n",
    "    :param sub_dir: the sub-directory, i.e. train/val in the datasets.\n",
    "\n",
    "    :returns: a dataframe consisting of the data paths and their corresponding labels\n",
    "    \"\"\"\n",
    "    data = {\"path\":list(), \"label\":list()}\n",
    "\n",
    "    for folder in os.listdir(os.path.join(root_dir, sub_dir)):\n",
    "        if not folder.startswith(\".\"):\n",
    "            for files in os.listdir(os.path.join(root_dir, sub_dir, folder)):\n",
    "                data[\"path\"].append(os.path.join(root_dir, sub_dir, folder, files))\n",
    "                data[\"label\"].append(folder)\n",
    "\n",
    "    data = pd.DataFrame(data)\n",
    "    data = data.sample(frac=1, random_state=1234)\n",
    "    return data"
   ]
  },
  {
   "cell_type": "code",
   "execution_count": 4,
   "id": "8bccf0cb-3189-4ec6-885a-217d1a485f70",
   "metadata": {
    "tags": []
   },
   "outputs": [
    {
     "data": {
      "text/html": [
       "<pre style=\"white-space:pre;overflow-x:auto;line-height:normal;font-family:Menlo,'DejaVu Sans Mono',consolas,'Courier New',monospace\"><span style=\"color: #ff6b6b; text-decoration-color: #ff6b6b; font-style: italic\"> Shape of the training dataframe </span>: <span style=\"font-weight: bold\">(</span><span style=\"color: #008080; text-decoration-color: #008080; font-weight: bold\">30000</span>, <span style=\"color: #008080; text-decoration-color: #008080; font-weight: bold\">2</span><span style=\"font-weight: bold\">)</span>\n",
       "</pre>\n"
      ],
      "text/plain": [
       "\u001b[3;38;2;255;107;107m Shape of the training dataframe \u001b[0m: \u001b[1m(\u001b[0m\u001b[1;36m30000\u001b[0m, \u001b[1;36m2\u001b[0m\u001b[1m)\u001b[0m\n"
      ]
     },
     "metadata": {},
     "output_type": "display_data"
    },
    {
     "data": {
      "text/html": [
       "<pre style=\"white-space:pre;overflow-x:auto;line-height:normal;font-family:Menlo,'DejaVu Sans Mono',consolas,'Courier New',monospace\"><span style=\"color: #fcbf49; text-decoration-color: #fcbf49; font-style: italic\"> Shape of the validation dataframe </span>: <span style=\"font-weight: bold\">(</span><span style=\"color: #008080; text-decoration-color: #008080; font-weight: bold\">7500</span>, <span style=\"color: #008080; text-decoration-color: #008080; font-weight: bold\">2</span><span style=\"font-weight: bold\">)</span>\n",
       "</pre>\n"
      ],
      "text/plain": [
       "\u001b[3;38;2;252;191;73m Shape of the validation dataframe \u001b[0m: \u001b[1m(\u001b[0m\u001b[1;36m7500\u001b[0m, \u001b[1;36m2\u001b[0m\u001b[1m)\u001b[0m\n"
      ]
     },
     "metadata": {},
     "output_type": "display_data"
    }
   ],
   "source": [
    "df_train = metaCreate(\"../data/dataset/dataset/\", \"train/\")\n",
    "df_val = metaCreate(\"../data/dataset/dataset/\", \"val/\")\n",
    "\n",
    "rprint(f\"[italic #ff6b6b] Shape of the training dataframe [/italic #ff6b6b]: {df_train.shape}\")\n",
    "rprint(f\"[italic #fcbf49] Shape of the validation dataframe [/italic #fcbf49]: {df_val.shape}\")"
   ]
  },
  {
   "cell_type": "code",
   "execution_count": 5,
   "id": "3d84b4f3-8bd9-42e5-8788-b93ccda094f1",
   "metadata": {
    "tags": []
   },
   "outputs": [
    {
     "data": {
      "text/html": [
       "<pre style=\"white-space:pre;overflow-x:auto;line-height:normal;font-family:Menlo,'DejaVu Sans Mono',consolas,'Courier New',monospace\"><span style=\"color: #00ff00; text-decoration-color: #00ff00\">───────────────────────────────────────────────── </span><span style=\"color: #ff6b6b; text-decoration-color: #ff6b6b; font-weight: bold\"> Training Data</span><span style=\"color: #00ff00; text-decoration-color: #00ff00\"> ──────────────────────────────────────────────────</span>\n",
       "</pre>\n"
      ],
      "text/plain": [
       "\u001b[92m───────────────────────────────────────────────── \u001b[0m\u001b[1;38;2;255;107;107m Training Data\u001b[0m\u001b[92m ──────────────────────────────────────────────────\u001b[0m\n"
      ]
     },
     "metadata": {},
     "output_type": "display_data"
    },
    {
     "data": {
      "text/html": [
       "<pre style=\"white-space:pre;overflow-x:auto;line-height:normal;font-family:Menlo,'DejaVu Sans Mono',consolas,'Courier New',monospace\"><span style=\"font-style: italic\">                     Training Data                     </span>\n",
       "┏━━━━━━━━━━━━━━━━━━━━━━━━━━━━━━━━━━━━━━━━━━━━━┳━━━━━━━┓\n",
       "┃<span style=\"font-weight: bold\">                                 Image Paths </span>┃<span style=\"font-weight: bold\"> Label </span>┃\n",
       "┡━━━━━━━━━━━━━━━━━━━━━━━━━━━━━━━━━━━━━━━━━━━━━╇━━━━━━━┩\n",
       "│<span style=\"color: #6a994e; text-decoration-color: #6a994e\">   ../data/dataset/dataset/train/no/3566.npy </span>│<span style=\"color: #fcbf49; text-decoration-color: #fcbf49\">  no   </span>│\n",
       "│<span style=\"color: #6a994e; text-decoration-color: #6a994e\">    ../data/dataset/dataset/train/no/951.npy </span>│<span style=\"color: #fcbf49; text-decoration-color: #fcbf49\">  no   </span>│\n",
       "│<span style=\"color: #6a994e; text-decoration-color: #6a994e\">    ../data/dataset/dataset/train/no/530.npy </span>│<span style=\"color: #fcbf49; text-decoration-color: #fcbf49\">  no   </span>│\n",
       "│<span style=\"color: #6a994e; text-decoration-color: #6a994e\"> ../data/dataset/dataset/train/vort/1819.npy </span>│<span style=\"color: #fcbf49; text-decoration-color: #fcbf49\"> vort  </span>│\n",
       "│<span style=\"color: #6a994e; text-decoration-color: #6a994e\"> ../data/dataset/dataset/train/vort/6170.npy </span>│<span style=\"color: #fcbf49; text-decoration-color: #fcbf49\"> vort  </span>│\n",
       "└─────────────────────────────────────────────┴───────┘\n",
       "</pre>\n"
      ],
      "text/plain": [
       "\u001b[3m                     Training Data                     \u001b[0m\n",
       "┏━━━━━━━━━━━━━━━━━━━━━━━━━━━━━━━━━━━━━━━━━━━━━┳━━━━━━━┓\n",
       "┃\u001b[1m \u001b[0m\u001b[1m                                Image Paths\u001b[0m\u001b[1m \u001b[0m┃\u001b[1m \u001b[0m\u001b[1mLabel\u001b[0m\u001b[1m \u001b[0m┃\n",
       "┡━━━━━━━━━━━━━━━━━━━━━━━━━━━━━━━━━━━━━━━━━━━━━╇━━━━━━━┩\n",
       "│\u001b[38;2;106;153;78m \u001b[0m\u001b[38;2;106;153;78m  ../data/dataset/dataset/train/no/3566.npy\u001b[0m\u001b[38;2;106;153;78m \u001b[0m│\u001b[38;2;252;191;73m \u001b[0m\u001b[38;2;252;191;73m no  \u001b[0m\u001b[38;2;252;191;73m \u001b[0m│\n",
       "│\u001b[38;2;106;153;78m \u001b[0m\u001b[38;2;106;153;78m   ../data/dataset/dataset/train/no/951.npy\u001b[0m\u001b[38;2;106;153;78m \u001b[0m│\u001b[38;2;252;191;73m \u001b[0m\u001b[38;2;252;191;73m no  \u001b[0m\u001b[38;2;252;191;73m \u001b[0m│\n",
       "│\u001b[38;2;106;153;78m \u001b[0m\u001b[38;2;106;153;78m   ../data/dataset/dataset/train/no/530.npy\u001b[0m\u001b[38;2;106;153;78m \u001b[0m│\u001b[38;2;252;191;73m \u001b[0m\u001b[38;2;252;191;73m no  \u001b[0m\u001b[38;2;252;191;73m \u001b[0m│\n",
       "│\u001b[38;2;106;153;78m \u001b[0m\u001b[38;2;106;153;78m../data/dataset/dataset/train/vort/1819.npy\u001b[0m\u001b[38;2;106;153;78m \u001b[0m│\u001b[38;2;252;191;73m \u001b[0m\u001b[38;2;252;191;73mvort \u001b[0m\u001b[38;2;252;191;73m \u001b[0m│\n",
       "│\u001b[38;2;106;153;78m \u001b[0m\u001b[38;2;106;153;78m../data/dataset/dataset/train/vort/6170.npy\u001b[0m\u001b[38;2;106;153;78m \u001b[0m│\u001b[38;2;252;191;73m \u001b[0m\u001b[38;2;252;191;73mvort \u001b[0m\u001b[38;2;252;191;73m \u001b[0m│\n",
       "└─────────────────────────────────────────────┴───────┘\n"
      ]
     },
     "metadata": {},
     "output_type": "display_data"
    },
    {
     "data": {
      "text/html": [
       "<pre style=\"white-space:pre;overflow-x:auto;line-height:normal;font-family:Menlo,'DejaVu Sans Mono',consolas,'Courier New',monospace\"><span style=\"color: #00ff00; text-decoration-color: #00ff00\">──────────────────────────────────────────────── </span><span style=\"color: #ff6b6b; text-decoration-color: #ff6b6b; font-weight: bold\"> Validation Data</span><span style=\"color: #00ff00; text-decoration-color: #00ff00\"> ─────────────────────────────────────────────────</span>\n",
       "</pre>\n"
      ],
      "text/plain": [
       "\u001b[92m──────────────────────────────────────────────── \u001b[0m\u001b[1;38;2;255;107;107m Validation Data\u001b[0m\u001b[92m ─────────────────────────────────────────────────\u001b[0m\n"
      ]
     },
     "metadata": {},
     "output_type": "display_data"
    },
    {
     "data": {
      "text/html": [
       "<pre style=\"white-space:pre;overflow-x:auto;line-height:normal;font-family:Menlo,'DejaVu Sans Mono',consolas,'Courier New',monospace\"><span style=\"font-style: italic\">                    Validation Data                     </span>\n",
       "┏━━━━━━━━━━━━━━━━━━━━━━━━━━━━━━━━━━━━━━━━━━━━━┳━━━━━━━━┓\n",
       "┃<span style=\"font-weight: bold\">                                 Image Paths </span>┃<span style=\"font-weight: bold\"> Label  </span>┃\n",
       "┡━━━━━━━━━━━━━━━━━━━━━━━━━━━━━━━━━━━━━━━━━━━━━╇━━━━━━━━┩\n",
       "│<span style=\"color: #6a994e; text-decoration-color: #6a994e\">    ../data/dataset/dataset/val/vort/687.npy </span>│<span style=\"color: #fcbf49; text-decoration-color: #fcbf49\">  vort  </span>│\n",
       "│<span style=\"color: #6a994e; text-decoration-color: #6a994e\">       ../data/dataset/dataset/val/no/90.npy </span>│<span style=\"color: #fcbf49; text-decoration-color: #fcbf49\">   no   </span>│\n",
       "│<span style=\"color: #6a994e; text-decoration-color: #6a994e\">     ../data/dataset/dataset/val/no/2370.npy </span>│<span style=\"color: #fcbf49; text-decoration-color: #fcbf49\">   no   </span>│\n",
       "│<span style=\"color: #6a994e; text-decoration-color: #6a994e\"> ../data/dataset/dataset/val/sphere/2234.npy </span>│<span style=\"color: #fcbf49; text-decoration-color: #fcbf49\"> sphere </span>│\n",
       "│<span style=\"color: #6a994e; text-decoration-color: #6a994e\">      ../data/dataset/dataset/val/no/374.npy </span>│<span style=\"color: #fcbf49; text-decoration-color: #fcbf49\">   no   </span>│\n",
       "└─────────────────────────────────────────────┴────────┘\n",
       "</pre>\n"
      ],
      "text/plain": [
       "\u001b[3m                    Validation Data                     \u001b[0m\n",
       "┏━━━━━━━━━━━━━━━━━━━━━━━━━━━━━━━━━━━━━━━━━━━━━┳━━━━━━━━┓\n",
       "┃\u001b[1m \u001b[0m\u001b[1m                                Image Paths\u001b[0m\u001b[1m \u001b[0m┃\u001b[1m \u001b[0m\u001b[1mLabel \u001b[0m\u001b[1m \u001b[0m┃\n",
       "┡━━━━━━━━━━━━━━━━━━━━━━━━━━━━━━━━━━━━━━━━━━━━━╇━━━━━━━━┩\n",
       "│\u001b[38;2;106;153;78m \u001b[0m\u001b[38;2;106;153;78m   ../data/dataset/dataset/val/vort/687.npy\u001b[0m\u001b[38;2;106;153;78m \u001b[0m│\u001b[38;2;252;191;73m \u001b[0m\u001b[38;2;252;191;73m vort \u001b[0m\u001b[38;2;252;191;73m \u001b[0m│\n",
       "│\u001b[38;2;106;153;78m \u001b[0m\u001b[38;2;106;153;78m      ../data/dataset/dataset/val/no/90.npy\u001b[0m\u001b[38;2;106;153;78m \u001b[0m│\u001b[38;2;252;191;73m \u001b[0m\u001b[38;2;252;191;73m  no  \u001b[0m\u001b[38;2;252;191;73m \u001b[0m│\n",
       "│\u001b[38;2;106;153;78m \u001b[0m\u001b[38;2;106;153;78m    ../data/dataset/dataset/val/no/2370.npy\u001b[0m\u001b[38;2;106;153;78m \u001b[0m│\u001b[38;2;252;191;73m \u001b[0m\u001b[38;2;252;191;73m  no  \u001b[0m\u001b[38;2;252;191;73m \u001b[0m│\n",
       "│\u001b[38;2;106;153;78m \u001b[0m\u001b[38;2;106;153;78m../data/dataset/dataset/val/sphere/2234.npy\u001b[0m\u001b[38;2;106;153;78m \u001b[0m│\u001b[38;2;252;191;73m \u001b[0m\u001b[38;2;252;191;73msphere\u001b[0m\u001b[38;2;252;191;73m \u001b[0m│\n",
       "│\u001b[38;2;106;153;78m \u001b[0m\u001b[38;2;106;153;78m     ../data/dataset/dataset/val/no/374.npy\u001b[0m\u001b[38;2;106;153;78m \u001b[0m│\u001b[38;2;252;191;73m \u001b[0m\u001b[38;2;252;191;73m  no  \u001b[0m\u001b[38;2;252;191;73m \u001b[0m│\n",
       "└─────────────────────────────────────────────┴────────┘\n"
      ]
     },
     "metadata": {},
     "output_type": "display_data"
    }
   ],
   "source": [
    "def print_table(data:\"pd.DataFrame\", head:Optional[int]=5, title:Optional[str]=\"Title\") -> None:\n",
    "    \"\"\"\n",
    "    This function is used for pretty printing pandas dataframe\n",
    "\n",
    "    :param data: a dataframe which needs to be pretty printed.\n",
    "    :param head: the number of rows to print of the dataframe.\n",
    "    :param title: a title to give the table.\n",
    "\n",
    "    \"\"\"\n",
    "\n",
    "    data = data.head(head)\n",
    "\n",
    "    table = Table(title=title)\n",
    "    table.add_column(\"Image Paths\", justify=\"right\", style=MY_COLORS[2], no_wrap=True)\n",
    "    table.add_column(\"Label\", justify=\"center\", style=MY_COLORS[1])\n",
    "\n",
    "    for row in data.iterrows():\n",
    "        table.add_row(row[1][0], row[1][1])\n",
    "\n",
    "    console = Console()\n",
    "    console.rule(f\"[bold {MY_COLORS[0]}] {title}\")\n",
    "    console.print(table)\n",
    "\n",
    "print_table(df_train, head=5, title=\"Training Data\")\n",
    "print_table(df_val, head=5, title=\"Validation Data\")"
   ]
  },
  {
   "cell_type": "markdown",
   "id": "090d0008-8832-4e90-b181-7ad0a0f029cd",
   "metadata": {},
   "source": [
    "# Create DataLoaders"
   ]
  },
  {
   "cell_type": "code",
   "execution_count": 6,
   "id": "42d5296e-c212-4943-9c13-69d117cbe620",
   "metadata": {
    "tags": []
   },
   "outputs": [],
   "source": [
    "LABELS2IDX = {k:v for v, k in enumerate(df_train['label'].unique())}\n",
    "IDX2LABELS = {v:k for k, v in LABELS2IDX.items()}\n",
    "\n",
    "\n",
    "class LensDataset(td.Dataset):\n",
    "    def __init__(self, data: \"pd.DataFrame\", resize: Optional[Tuple] = None, \n",
    "                 resampling: Optional[\"Image.Resampling\"] = Image.Resampling.BILINEAR,\n",
    "                 transformations: Optional[\"albumentations.Compose\"] = None):\n",
    "        \n",
    "        self.data = data\n",
    "        self.resize = resize\n",
    "        self.resampling = resampling\n",
    "        self.transformations = transformations\n",
    "\n",
    "    def __len__(self):\n",
    "        return len(self.data)\n",
    "    \n",
    "    def __getitem__(self, index: int) -> Dict:\n",
    "        \n",
    "        path = self.data.iloc[index][\"path\"]\n",
    "        label = self.data.iloc[index][\"label\"]\n",
    "\n",
    "        img = np.load(path)\n",
    "        img = np.transpose(img, (2, 1, 0)) # Converting to CHW to HWC for resizing and transformations\n",
    "        \n",
    "        img = Image.fromarray(img.squeeze(axis=-1))\n",
    "        \n",
    "        if self.resize is not None:\n",
    "            img = img.resize((self.resize[0], self.resize[1]), resample=self.resampling)\n",
    "        \n",
    "        img = np.array(img)\n",
    "        img = np.expand_dims(img, -1) # Converting from (h, w) -> (h, w, 1) where 1 indicates a greyscale channel image\n",
    "        img = img.repeat(3, axis=-1) # Converting from a single channel i.e. (h, w) -> (h, w, 3)\n",
    "        \n",
    "        if self.transformations is not None:\n",
    "            transform = self.transformations(image=img)\n",
    "            img = transform[\"image\"]\n",
    "\n",
    "        \n",
    "        img = np.transpose(img, (2, 0, 1)).astype(np.float32) # Converting back to CHW from HWC \n",
    "\n",
    "        return {\n",
    "            \"img\" : torch.tensor(img, dtype=torch.float),\n",
    "            \"label\" : torch.tensor(LABELS2IDX[label], dtype=torch.long)\n",
    "        }"
   ]
  },
  {
   "cell_type": "code",
   "execution_count": 7,
   "id": "cfb7e049-55dc-41b2-b7db-e52ae000a525",
   "metadata": {
    "tags": []
   },
   "outputs": [],
   "source": [
    "class LitLensDataset(pl.LightningDataModule):\n",
    "    def __init__(self, data: \"pd.DataFrame\", resize: Optional[Tuple]=None, \n",
    "                 resampling: Optional[\"Image.Resampling\"] = Image.Resampling.BILINEAR,\n",
    "                 transformations: Optional[\"albumentations.Compose\"]=None, batch_sz: Optional[int]=64):\n",
    "        self.data = data\n",
    "        self.resize = resize\n",
    "        self.resampling = resampling\n",
    "        self.transformations = transformations\n",
    "        self.batch_sz = batch_sz\n",
    "\n",
    "        self.train = None\n",
    "        self.val = None\n",
    "        self.test = None\n",
    "\n",
    "    def setup(self, stage: Optional[str]=\"train\"):\n",
    "        \n",
    "        if stage not in [\"train\", \"val\", \"test\"]:\n",
    "            raise Exception(f\"Expected stage to be either of the two 'train/val/test'. Found {stage}.\")\n",
    "        \n",
    "        if stage == \"train\":\n",
    "            self.train = LensDataset(self.data, resize=self.resize, resampling = self.resampling, transformations=self.transformations)\n",
    "        \n",
    "        elif stage == \"val\":\n",
    "            self.val = LensDataset(self.data, resize=self.resize, resampling = self.resampling, transformations=self.transformations)\n",
    "\n",
    "        else:\n",
    "            self.test = LensDataset(self.data, resize=self.resize, resampling = self.resampling, transformations=self.transformations)\n",
    "\n",
    "\n",
    "    def train_dataloader(self) -> \"td.DataLoader\":\n",
    "        return td.DataLoader(self.train, batch_size=self.batch_sz, shuffle=True, \n",
    "                             num_workers=4, pin_memory=True)\n",
    "    \n",
    "    def val_dataloader(self) -> \"td.DataLoader\":\n",
    "        return td.DataLoader(self.val, batch_size=self.batch_sz, shuffle=False, \n",
    "                             num_workers=4, pin_memory=True)\n",
    "\n",
    "    def test_dataloader(self) -> \"td.DataLoader\":\n",
    "        return td.DataLoader(self.test, batch_size=self.batch_sz, shuffle=False, \n",
    "                             num_workers=4, pin_memory=True)"
   ]
  },
  {
   "cell_type": "markdown",
   "id": "135348a2-3e7f-4834-a47c-9c7d83d22b87",
   "metadata": {},
   "source": [
    "# Model"
   ]
  },
  {
   "cell_type": "code",
   "execution_count": 17,
   "id": "d4a7d6d6-d1a7-4580-adf0-cce851e92b2f",
   "metadata": {
    "tags": []
   },
   "outputs": [],
   "source": [
    "class LitClassifier(pl.LightningModule):\n",
    "    def __init__(self, n_classes: int, model_name: str, lr: Optional[float]=1e-4, min_lr: Optional[float]=1e-6, weight_decay: Optional[float]=1e-6,\n",
    "                wandb_log: Optional[\"wandb.Api\"] = None, freeze_layers: Optional[bool] = True):\n",
    "\n",
    "        super().__init__()\n",
    "        \n",
    "        if model_name not in [\"resnet\", \"effnet\"]:\n",
    "            raise Exception(f\"Expected model_name to be either resnet/effnet. Found {model_name}\")\n",
    "            \n",
    "        self.model_name = model_name\n",
    "        \n",
    "        if model_name == \"resnet\":\n",
    "            self.model = torchvision.models.resnet50(weights=torchvision.models.ResNet50_Weights.IMAGENET1K_V1)\n",
    "            self.model.fc = nn.Identity()\n",
    "            \n",
    "        else:\n",
    "            self.model = torchvision.models.efficientnet_b2(weights=torchvision.models.EfficientNet_B2_Weights.IMAGENET1K_V1)\n",
    "            self.model.classifier[-1] = nn.Identity()\n",
    "            \n",
    "        if freeze_layers:\n",
    "            for param in self.model.parameters():\n",
    "                param.requires_grad = False\n",
    "            \n",
    "        self.classifier = nn.LazyLinear(out_features=n_classes)\n",
    "\n",
    "        self.train_res = dict(acc=list(), f1=list(), aucroc=list())\n",
    "        self.val_res = dict(acc=list(), f1=list(), aucroc=list())\n",
    "        self.test_res = dict(acc=list(), f1=list(), aucroc=list(), loss=list())\n",
    "\n",
    "        self.lr = lr\n",
    "        self.min_lr = min_lr\n",
    "        self.weight_decay = weight_decay\n",
    "        \n",
    "        self.wandb_log = wandb_log\n",
    "        \n",
    "        self.accScore = torchmetrics.Accuracy(task=\"multiclass\", num_classes=n_classes, average=\"weighted\")\n",
    "        self.f1Score = torchmetrics.F1Score(task=\"multiclass\", num_classes=n_classes, average='weighted')\n",
    "        self.auc_roc = torchmetrics.AUROC(task=\"multiclass\", num_classes=n_classes)\n",
    "\n",
    "        self.save_hyperparameters('lr', 'min_lr', 'weight_decay')\n",
    "\n",
    "    def forward(self, x: \"torch.Tensor\"):\n",
    "        feats = self.model(x)\n",
    "        logits = self.classifier(feats)\n",
    "\n",
    "        return logits\n",
    "    \n",
    "    def compute_loss(self, logits: \"torch.Tensor\", y: \"torch.Tensor\") -> \"torch.Tensor\":\n",
    "        return F.cross_entropy(logits, y)\n",
    "    \n",
    "\n",
    "    def compute_metrics(self, logits: \"torch.Tensor\", y:\"torch.Tensor\") -> Dict:\n",
    "        \n",
    "        yhat = torch.argmax(logits, dim=-1)\n",
    "\n",
    "        return {\n",
    "            'accScore' : self.accScore(yhat, y),\n",
    "            'f1Score' : self.f1Score(yhat, y),\n",
    "            'aucrocScore' : self.auc_roc(F.softmax(logits, dim=1), y)\n",
    "        }\n",
    "\n",
    "    \n",
    "    def training_step(self, batch, batch_idx):\n",
    "        x, y = batch[\"img\"], batch[\"label\"]\n",
    "        logits = self(x)\n",
    "        loss = self.compute_loss(logits, y)\n",
    "\n",
    "        metrics = self.compute_metrics(logits, y)\n",
    "\n",
    "        self.train_res['acc'].append(metrics['accScore'])\n",
    "        self.train_res['f1'].append(metrics['f1Score'])\n",
    "        self.train_res['aucroc'].append(metrics['aucrocScore'])\n",
    "\n",
    "        self.log(\"train_loss\", loss, prog_bar=True, on_step=False, on_epoch=True, logger=True)\n",
    "        \n",
    "        if self.wandb_log is not None:\n",
    "            self.wandb_log.log({\"train/loss\" : loss})\n",
    "\n",
    "        return loss\n",
    "    \n",
    "    def validation_step(self, batch, batch_idx):\n",
    "\n",
    "        x, y = batch[\"img\"], batch[\"label\"]\n",
    "        \n",
    "        logits = self(x)\n",
    "        loss = self.compute_loss(logits, y)\n",
    "\n",
    "        metrics = self.compute_metrics(logits, y)\n",
    "\n",
    "        self.val_res['acc'].append(metrics['accScore'])\n",
    "        self.val_res['f1'].append(metrics['f1Score'])\n",
    "        self.val_res['aucroc'].append(metrics['aucrocScore'])\n",
    "\n",
    "        self.log(\"val_loss\", loss, prog_bar=True, on_step=False, on_epoch=True, logger=True)\n",
    "        \n",
    "        if self.wandb_log is not None:\n",
    "            self.wandb_log.log({\"val/loss\" : loss})        \n",
    "\n",
    "        return loss        \n",
    "    \n",
    "    def test_step(self, batch, batch_idx):\n",
    "\n",
    "        x, y = batch[\"img\"], batch[\"label\"]\n",
    "        \n",
    "        logits = self(x)\n",
    "        loss = self.compute_loss(logits, y)\n",
    "\n",
    "        metrics = self.compute_metrics(logits, y)\n",
    "\n",
    "        self.test_res['acc'].append(metrics['accScore'])\n",
    "        self.test_res['f1'].append(metrics['f1Score'])\n",
    "        self.test_res['aucroc'].append(metrics['aucrocScore'])\n",
    "        self.test_res['loss'].append(loss)\n",
    "\n",
    "        self.log(\"test_loss\", loss, prog_bar=True, on_step=False, on_epoch=True, logger=True)\n",
    "\n",
    "        return loss           \n",
    "    \n",
    "\n",
    "    def on_train_epoch_end(self):\n",
    "\n",
    "        all_acc = torch.stack(self.train_res['acc']).mean()\n",
    "        all_f1 = torch.stack(self.train_res['f1']).mean()\n",
    "        all_aucroc = torch.stack(self.train_res['aucroc']).mean()\n",
    "\n",
    "        self.log('train_acc', all_acc, logger=True)\n",
    "        self.log('train_f1', all_f1, logger=True)\n",
    "        self.log('train_aucroc', all_aucroc, logger=True)\n",
    "        \n",
    "        self.train_res['acc'].clear()\n",
    "        self.train_res['f1'].clear()\n",
    "        self.train_res['aucroc'].clear()\n",
    "        \n",
    "        if self.wandb_log is not None:\n",
    "            self.wandb_log.log({'train/Accuracy': all_acc})\n",
    "            self.wandb_log.log({'train/F1Score' : all_f1})\n",
    "            self.wandb_log.log({'train/AUCROC' : all_aucroc})\n",
    "\n",
    "\n",
    "    def on_validation_epoch_end(self):\n",
    "\n",
    "\n",
    "        all_acc = torch.stack(self.val_res['acc']).mean()\n",
    "        all_f1 = torch.stack(self.val_res['f1']).mean()\n",
    "        all_aucroc = torch.stack(self.val_res['aucroc']).mean()\n",
    "\n",
    "        self.log('val_acc', all_acc, logger=True)\n",
    "        self.log('val_f1', all_f1, logger=True)\n",
    "        self.log('val_aucroc', all_aucroc, logger=True)\n",
    "        \n",
    "        self.val_res['acc'].clear()\n",
    "        self.val_res['f1'].clear()\n",
    "        self.val_res['aucroc'].clear()\n",
    "        \n",
    "        if self.wandb_log is not None:\n",
    "            self.wandb_log.log({'val/Accuracy': all_acc})\n",
    "            self.wandb_log.log({'val/F1Score' : all_f1})\n",
    "            self.wandb_log.log({'val/AUCROC' : all_aucroc})        \n",
    "        \n",
    "        \n",
    "    def on_test_epoch_end(self):\n",
    "\n",
    "\n",
    "        all_acc = torch.stack(self.test_res['acc']).mean()\n",
    "        all_f1 = torch.stack(self.test_res['f1']).mean()\n",
    "        all_aucroc = torch.stack(self.test_res['aucroc']).mean()\n",
    "        all_loss = torch.stack(self.test_res['loss']).mean()\n",
    "\n",
    "        self.log('test_acc', all_acc, logger=True)\n",
    "        self.log('test_f1', all_f1, logger=True)\n",
    "        self.log('test_aucroc', all_aucroc, logger=True)\n",
    "        self.log('test_loss', all_loss, logger=True)\n",
    "        \n",
    "        self.test_res['acc'].clear()\n",
    "        self.test_res['f1'].clear()    \n",
    "        self.test_res['aucroc'].clear()\n",
    "        self.test_res['loss'].clear()\n",
    "        \n",
    "        return {\n",
    "            \"accuracy\" : all_acc,\n",
    "            \"f1Score\" : all_f1,\n",
    "            \"aucroc\" : all_aucroc, \n",
    "            \"loss\" : all_loss\n",
    "        }\n",
    "\n",
    "\n",
    "    def configure_optimizers(self) -> Dict:\n",
    "        \n",
    "        optimizer = torch.optim.AdamW(self.parameters(), lr=self.lr, weight_decay=self.weight_decay)    \n",
    "        scheduler = torch.optim.lr_scheduler.CosineAnnealingWarmRestarts(optimizer, 100, eta_min=self.min_lr)\n",
    "\n",
    "        return {\n",
    "            \"optimizer\" : optimizer,\n",
    "            \"lr_scheduler\" : scheduler\n",
    "        }"
   ]
  },
  {
   "cell_type": "markdown",
   "id": "0b3c2df1-8f0d-4ee5-9956-b5eb59fe4454",
   "metadata": {},
   "source": [
    "# Create DataLoaders"
   ]
  },
  {
   "cell_type": "code",
   "execution_count": 18,
   "id": "4cf0016a-de8c-49a6-a0fb-0bdcb41d42c3",
   "metadata": {
    "tags": []
   },
   "outputs": [
    {
     "data": {
      "text/html": [
       "<pre style=\"white-space:pre;overflow-x:auto;line-height:normal;font-family:Menlo,'DejaVu Sans Mono',consolas,'Courier New',monospace\"><span style=\"color: #ff6b6b; text-decoration-color: #ff6b6b; font-weight: bold\"> Shape of the training data</span> : <span style=\"font-weight: bold\">(</span><span style=\"color: #008080; text-decoration-color: #008080; font-weight: bold\">22500</span>, <span style=\"color: #008080; text-decoration-color: #008080; font-weight: bold\">2</span><span style=\"font-weight: bold\">)</span>\n",
       "</pre>\n"
      ],
      "text/plain": [
       "\u001b[1;38;2;255;107;107m Shape of the training data\u001b[0m : \u001b[1m(\u001b[0m\u001b[1;36m22500\u001b[0m, \u001b[1;36m2\u001b[0m\u001b[1m)\u001b[0m\n"
      ]
     },
     "metadata": {},
     "output_type": "display_data"
    },
    {
     "data": {
      "text/html": [
       "<pre style=\"white-space:pre;overflow-x:auto;line-height:normal;font-family:Menlo,'DejaVu Sans Mono',consolas,'Courier New',monospace\"><span style=\"color: #6a994e; text-decoration-color: #6a994e; font-weight: bold\"> Shape of the validation data</span> : <span style=\"font-weight: bold\">(</span><span style=\"color: #008080; text-decoration-color: #008080; font-weight: bold\">7500</span>, <span style=\"color: #008080; text-decoration-color: #008080; font-weight: bold\">2</span><span style=\"font-weight: bold\">)</span>\n",
       "</pre>\n"
      ],
      "text/plain": [
       "\u001b[1;38;2;106;153;78m Shape of the validation data\u001b[0m : \u001b[1m(\u001b[0m\u001b[1;36m7500\u001b[0m, \u001b[1;36m2\u001b[0m\u001b[1m)\u001b[0m\n"
      ]
     },
     "metadata": {},
     "output_type": "display_data"
    }
   ],
   "source": [
    "train_data, minival_data = train_test_split(df_train, shuffle=True, test_size=.25, random_state=42, stratify=df_train['label'])\n",
    "\n",
    "rprint(f\"[bold #ff6b6b] Shape of the training data[/bold #ff6b6b] : {train_data.shape}\")\n",
    "rprint(f\"[bold #6a994e] Shape of the validation data[/bold #6a994e] : {minival_data.shape}\")"
   ]
  },
  {
   "cell_type": "markdown",
   "id": "294b0733-bee2-4f5b-af5f-c714f499dd59",
   "metadata": {},
   "source": [
    "# Define Model and Trainer"
   ]
  },
  {
   "cell_type": "code",
   "execution_count": 19,
   "id": "cb4ef533-029a-47da-aa64-ea98cfcb7477",
   "metadata": {
    "tags": []
   },
   "outputs": [],
   "source": [
    "def model_training(train_data: \"pd.DataFrame\", val_data: \"pd.DataFrame\", \n",
    "                   model_name: str, chkpt_dir: Optional[str]='./checkpoints', \n",
    "                   chkpt_filename: Optional['str']='best_chkpt', \n",
    "                   early_stop_patience: Optional[int]=3,\n",
    "                   wandb_log: Optional[\"wandb.Api\"]=None, \n",
    "                   freeze_layers: Optional[bool]=True, **kwargs) -> None:\n",
    "    \"\"\"\n",
    "    This function is used to train a model using pytorch lightning\n",
    "    \n",
    "    :params train_dl: the training dataloader.\n",
    "    :params val_dl: the validation dataloader.\n",
    "    :params model_name: The name of the model that has to be trained.\n",
    "    :params chkpt_dir: the directory to save the checkpoints.\n",
    "    :params chkpt_filename: the best checkpoint filename.\n",
    "    :params early_stop_patience: the number of epochs to wait before early stopping.\n",
    "    :params wandb_log: the wandb logging api\n",
    "    \n",
    "    :returns: None\n",
    "    \"\"\"\n",
    "    \n",
    "    if not os.path.exists(chkpt_dir):\n",
    "        os.mkdir(chkpt_dir)\n",
    "    \n",
    "    torch.cuda.empty_cache()\n",
    "    \n",
    "    train_dm, train_dl, val_dm, val_dl = None, None, None, None\n",
    "    \n",
    "    train_transformations = albumentations.Compose([\n",
    "        albumentations.RandomBrightnessContrast(),\n",
    "        albumentations.Rotate(),\n",
    "        albumentations.CenterCrop(224, 224, always_apply=True),\n",
    "        albumentations.Normalize(always_apply=True, max_pixel_value=1.),\n",
    "    ])\n",
    "\n",
    "    val_transformations = albumentations.Compose([\n",
    "        albumentations.CenterCrop(224, 224, always_apply=True),\n",
    "        albumentations.Normalize(always_apply=True, max_pixel_value=1.)\n",
    "    ])    \n",
    "    \n",
    "    \n",
    "    train_dm = LitLensDataset(train_data, resize=(256, 256), transformations=train_transformations)\n",
    "    val_dm = LitLensDataset(val_data, resize=(256, 256), transformations=val_transformations)\n",
    "\n",
    "    train_dm.setup(stage=\"train\")\n",
    "    val_dm.setup(stage=\"val\")\n",
    "\n",
    "    train_dl = train_dm.train_dataloader()\n",
    "    val_dl = val_dm.val_dataloader()\n",
    "        \n",
    "        \n",
    "    \n",
    "    model = LitClassifier(3, model_name, wandb_log = wandb_log, freeze_layers=freeze_layers)\n",
    "    \n",
    "    early_stop = pl.callbacks.EarlyStopping(monitor=\"val_aucroc\", mode=\"max\", patience=early_stop_patience, verbose=True)\n",
    "    model_check = pl.callbacks.ModelCheckpoint(dirpath=chkpt_dir, filename=chkpt_filename, \n",
    "                                               monitor=\"val_aucroc\", mode=\"max\", save_top_k=1, save_on_train_epoch_end=False)\n",
    "    \n",
    "    prog_bar = pl.callbacks.RichProgressBar()\n",
    "    \n",
    "    trainer = pl.Trainer(accelerator=\"gpu\", \n",
    "                         devices=1, \n",
    "                         precision=16, \n",
    "                         max_epochs=10000, \n",
    "                         callbacks=[early_stop, model_check, prog_bar], **kwargs)\n",
    "    \n",
    "    trainer.fit(model, train_dataloaders=train_dl, val_dataloaders=val_dl)\n",
    "    \n",
    "    del model\n",
    "    del trainer\n",
    "    del early_stop\n",
    "    del model_check\n",
    "    del prog_bar\n",
    "    \n",
    "    del train_dm\n",
    "    del train_dl\n",
    "    del val_dm\n",
    "    del val_dl\n",
    "    del train_transformations\n",
    "    del val_transformations\n",
    "    gc.collect()\n",
    "    "
   ]
  },
  {
   "cell_type": "code",
   "execution_count": 11,
   "id": "591be2e3-8cf2-4526-a8ab-78e2966d49df",
   "metadata": {
    "tags": []
   },
   "outputs": [
    {
     "name": "stderr",
     "output_type": "stream",
     "text": [
      "\u001b[34m\u001b[1mwandb\u001b[0m: Currently logged in as: \u001b[33mlmorningstar\u001b[0m. Use \u001b[1m`wandb login --relogin`\u001b[0m to force relogin\n"
     ]
    },
    {
     "data": {
      "text/html": [
       "Tracking run with wandb version 0.14.0"
      ],
      "text/plain": [
       "<IPython.core.display.HTML object>"
      ]
     },
     "metadata": {},
     "output_type": "display_data"
    },
    {
     "data": {
      "text/html": [
       "Run data is saved locally in <code>/home/darthvader/research/gsoc_23/Task-1/wandb/run-20230328_165015-kbvaq43z</code>"
      ],
      "text/plain": [
       "<IPython.core.display.HTML object>"
      ]
     },
     "metadata": {},
     "output_type": "display_data"
    },
    {
     "data": {
      "text/html": [
       "Syncing run <strong><a href='https://wandb.ai/lmorningstar/GSOC23-Task1/runs/kbvaq43z' target=\"_blank\">resnet50</a></strong> to <a href='https://wandb.ai/lmorningstar/GSOC23-Task1' target=\"_blank\">Weights & Biases</a> (<a href='https://wandb.me/run' target=\"_blank\">docs</a>)<br/>"
      ],
      "text/plain": [
       "<IPython.core.display.HTML object>"
      ]
     },
     "metadata": {},
     "output_type": "display_data"
    },
    {
     "data": {
      "text/html": [
       " View project at <a href='https://wandb.ai/lmorningstar/GSOC23-Task1' target=\"_blank\">https://wandb.ai/lmorningstar/GSOC23-Task1</a>"
      ],
      "text/plain": [
       "<IPython.core.display.HTML object>"
      ]
     },
     "metadata": {},
     "output_type": "display_data"
    },
    {
     "data": {
      "text/html": [
       " View run at <a href='https://wandb.ai/lmorningstar/GSOC23-Task1/runs/kbvaq43z' target=\"_blank\">https://wandb.ai/lmorningstar/GSOC23-Task1/runs/kbvaq43z</a>"
      ],
      "text/plain": [
       "<IPython.core.display.HTML object>"
      ]
     },
     "metadata": {},
     "output_type": "display_data"
    },
    {
     "name": "stderr",
     "output_type": "stream",
     "text": [
      "/home/darthvader/miniconda3/envs/mlenv/lib/python3.10/site-packages/torch/nn/modules/lazy.py:180: UserWarning: Lazy modules are a new feature under heavy development so changes to the API or functionality can happen at any moment.\n",
      "  warnings.warn('Lazy modules are a new feature under heavy development '\n",
      "/home/darthvader/miniconda3/envs/mlenv/lib/python3.10/site-packages/lightning/fabric/connector.py:562: UserWarning: 16 is supported for historical reasons but its usage is discouraged. Please set your precision to 16-mixed instead!\n",
      "  rank_zero_warn(\n",
      "Using 16bit Automatic Mixed Precision (AMP)\n",
      "GPU available: True (cuda), used: True\n",
      "TPU available: False, using: 0 TPU cores\n",
      "IPU available: False, using: 0 IPUs\n",
      "HPU available: False, using: 0 HPUs\n",
      "You are using a CUDA device ('NVIDIA GeForce RTX 3070') that has Tensor Cores. To properly utilize them, you should set `torch.set_float32_matmul_precision('medium' | 'high')` which will trade-off precision for performance. For more details, read https://pytorch.org/docs/stable/generated/torch.set_float32_matmul_precision.html#torch.set_float32_matmul_precision\n",
      "/home/darthvader/miniconda3/envs/mlenv/lib/python3.10/site-packages/lightning/pytorch/callbacks/model_checkpoint.py:612: UserWarning: Checkpoint directory /home/darthvader/research/gsoc_23/Task-1/checkpoints exists and is not empty.\n",
      "  rank_zero_warn(f\"Checkpoint directory {dirpath} exists and is not empty.\")\n",
      "LOCAL_RANK: 0 - CUDA_VISIBLE_DEVICES: [0]\n",
      "/home/darthvader/miniconda3/envs/mlenv/lib/python3.10/site-packages/lightning/pytorch/utilities/model_summary/model_summary.py:411: UserWarning: A layer with UninitializedParameter was found. Thus, the total number of parameters detected may be inaccurate.\n",
      "  warning_cache.warn(\n"
     ]
    },
    {
     "data": {
      "text/html": [
       "<pre style=\"white-space:pre;overflow-x:auto;line-height:normal;font-family:Menlo,'DejaVu Sans Mono',consolas,'Courier New',monospace\">┏━━━┳━━━━━━━━━━━━┳━━━━━━━━━━━━━━━━━━━━┳━━━━━━━━┓\n",
       "┃<span style=\"color: #800080; text-decoration-color: #800080; font-weight: bold\">   </span>┃<span style=\"color: #800080; text-decoration-color: #800080; font-weight: bold\"> Name       </span>┃<span style=\"color: #800080; text-decoration-color: #800080; font-weight: bold\"> Type               </span>┃<span style=\"color: #800080; text-decoration-color: #800080; font-weight: bold\"> Params </span>┃\n",
       "┡━━━╇━━━━━━━━━━━━╇━━━━━━━━━━━━━━━━━━━━╇━━━━━━━━┩\n",
       "│<span style=\"color: #7f7f7f; text-decoration-color: #7f7f7f\"> 0 </span>│ model      │ ResNet             │ 23.5 M │\n",
       "│<span style=\"color: #7f7f7f; text-decoration-color: #7f7f7f\"> 1 </span>│ classifier │ LazyLinear         │      0 │\n",
       "│<span style=\"color: #7f7f7f; text-decoration-color: #7f7f7f\"> 2 </span>│ accScore   │ MulticlassAccuracy │      0 │\n",
       "│<span style=\"color: #7f7f7f; text-decoration-color: #7f7f7f\"> 3 </span>│ f1Score    │ MulticlassF1Score  │      0 │\n",
       "│<span style=\"color: #7f7f7f; text-decoration-color: #7f7f7f\"> 4 </span>│ auc_roc    │ MulticlassAUROC    │      0 │\n",
       "└───┴────────────┴────────────────────┴────────┘\n",
       "</pre>\n"
      ],
      "text/plain": [
       "┏━━━┳━━━━━━━━━━━━┳━━━━━━━━━━━━━━━━━━━━┳━━━━━━━━┓\n",
       "┃\u001b[1;35m \u001b[0m\u001b[1;35m \u001b[0m\u001b[1;35m \u001b[0m┃\u001b[1;35m \u001b[0m\u001b[1;35mName      \u001b[0m\u001b[1;35m \u001b[0m┃\u001b[1;35m \u001b[0m\u001b[1;35mType              \u001b[0m\u001b[1;35m \u001b[0m┃\u001b[1;35m \u001b[0m\u001b[1;35mParams\u001b[0m\u001b[1;35m \u001b[0m┃\n",
       "┡━━━╇━━━━━━━━━━━━╇━━━━━━━━━━━━━━━━━━━━╇━━━━━━━━┩\n",
       "│\u001b[2m \u001b[0m\u001b[2m0\u001b[0m\u001b[2m \u001b[0m│ model      │ ResNet             │ 23.5 M │\n",
       "│\u001b[2m \u001b[0m\u001b[2m1\u001b[0m\u001b[2m \u001b[0m│ classifier │ LazyLinear         │      0 │\n",
       "│\u001b[2m \u001b[0m\u001b[2m2\u001b[0m\u001b[2m \u001b[0m│ accScore   │ MulticlassAccuracy │      0 │\n",
       "│\u001b[2m \u001b[0m\u001b[2m3\u001b[0m\u001b[2m \u001b[0m│ f1Score    │ MulticlassF1Score  │      0 │\n",
       "│\u001b[2m \u001b[0m\u001b[2m4\u001b[0m\u001b[2m \u001b[0m│ auc_roc    │ MulticlassAUROC    │      0 │\n",
       "└───┴────────────┴────────────────────┴────────┘\n"
      ]
     },
     "metadata": {},
     "output_type": "display_data"
    },
    {
     "data": {
      "text/html": [
       "<pre style=\"white-space:pre;overflow-x:auto;line-height:normal;font-family:Menlo,'DejaVu Sans Mono',consolas,'Courier New',monospace\"><span style=\"font-weight: bold\">Trainable params</span>: 23.5 M                                                                                           \n",
       "<span style=\"font-weight: bold\">Non-trainable params</span>: 0                                                                                            \n",
       "<span style=\"font-weight: bold\">Total params</span>: 23.5 M                                                                                               \n",
       "<span style=\"font-weight: bold\">Total estimated model params size (MB)</span>: 94                                                                         \n",
       "</pre>\n"
      ],
      "text/plain": [
       "\u001b[1mTrainable params\u001b[0m: 23.5 M                                                                                           \n",
       "\u001b[1mNon-trainable params\u001b[0m: 0                                                                                            \n",
       "\u001b[1mTotal params\u001b[0m: 23.5 M                                                                                               \n",
       "\u001b[1mTotal estimated model params size (MB)\u001b[0m: 94                                                                         \n"
      ]
     },
     "metadata": {},
     "output_type": "display_data"
    },
    {
     "data": {
      "application/vnd.jupyter.widget-view+json": {
       "model_id": "c50a06e429a24b77acd5ca944945ef72",
       "version_major": 2,
       "version_minor": 0
      },
      "text/plain": [
       "Output()"
      ]
     },
     "metadata": {},
     "output_type": "display_data"
    },
    {
     "name": "stderr",
     "output_type": "stream",
     "text": [
      "Metric val_aucroc improved. New best score: 0.915\n",
      "Metric val_aucroc improved by 0.048 >= min_delta = 0.0. New best score: 0.963\n",
      "Metric val_aucroc improved by 0.014 >= min_delta = 0.0. New best score: 0.977\n",
      "Metric val_aucroc improved by 0.001 >= min_delta = 0.0. New best score: 0.978\n",
      "Metric val_aucroc improved by 0.005 >= min_delta = 0.0. New best score: 0.984\n",
      "Metric val_aucroc improved by 0.002 >= min_delta = 0.0. New best score: 0.986\n",
      "Metric val_aucroc improved by 0.001 >= min_delta = 0.0. New best score: 0.988\n",
      "Metric val_aucroc improved by 0.002 >= min_delta = 0.0. New best score: 0.989\n",
      "Monitored metric val_aucroc did not improve in the last 3 records. Best score: 0.989. Signaling Trainer to stop.\n"
     ]
    },
    {
     "data": {
      "text/html": [
       "<pre style=\"white-space:pre;overflow-x:auto;line-height:normal;font-family:Menlo,'DejaVu Sans Mono',consolas,'Courier New',monospace\"></pre>\n"
      ],
      "text/plain": []
     },
     "metadata": {},
     "output_type": "display_data"
    },
    {
     "data": {
      "text/html": [
       "<pre style=\"white-space:pre;overflow-x:auto;line-height:normal;font-family:Menlo,'DejaVu Sans Mono',consolas,'Courier New',monospace\">\n",
       "</pre>\n"
      ],
      "text/plain": [
       "\n"
      ]
     },
     "metadata": {},
     "output_type": "display_data"
    }
   ],
   "source": [
    "run = wandb.init(project=\"GSOC23-Task1\", name=\"resnet50\", config=WANDB_CONFIG)\n",
    "model_training(train_data, minival_data, \"resnet\", chkpt_filename=\"best_resnet_checkpoint\", wandb_log=run, freeze_layers=False)"
   ]
  },
  {
   "cell_type": "code",
   "execution_count": 12,
   "id": "2f3b40de-e23f-425f-a032-57b63d86b3d0",
   "metadata": {
    "tags": []
   },
   "outputs": [
    {
     "data": {
      "text/html": [
       "Waiting for W&B process to finish... <strong style=\"color:green\">(success).</strong>"
      ],
      "text/plain": [
       "<IPython.core.display.HTML object>"
      ]
     },
     "metadata": {},
     "output_type": "display_data"
    },
    {
     "data": {
      "application/vnd.jupyter.widget-view+json": {
       "model_id": "5843a4f610aa42e5aeb7bf4a35cb2cd1",
       "version_major": 2,
       "version_minor": 0
      },
      "text/plain": [
       "VBox(children=(Label(value='0.002 MB of 0.020 MB uploaded (0.000 MB deduped)\\r'), FloatProgress(value=0.106882…"
      ]
     },
     "metadata": {},
     "output_type": "display_data"
    },
    {
     "data": {
      "text/html": [
       "<style>\n",
       "    table.wandb td:nth-child(1) { padding: 0 10px; text-align: left ; width: auto;} td:nth-child(2) {text-align: left ; width: 100%}\n",
       "    .wandb-row { display: flex; flex-direction: row; flex-wrap: wrap; justify-content: flex-start; width: 100% }\n",
       "    .wandb-col { display: flex; flex-direction: column; flex-basis: 100%; flex: 1; padding: 10px; }\n",
       "    </style>\n",
       "<div class=\"wandb-row\"><div class=\"wandb-col\"><h3>Run history:</h3><br/><table class=\"wandb\"><tr><td>train/AUCROC</td><td>▁▇▇▇████████████</td></tr><tr><td>train/Accuracy</td><td>▁▆▇▇▇▇▇▇████████</td></tr><tr><td>train/F1Score</td><td>▁▆▇▇▇▇▇█████████</td></tr><tr><td>train/loss</td><td>█▆▄▃▃▃▂▂▃▂▂▃▂▂▂▁▂▁▂▂▃▁▂▃▃▂▂▃▂▁▁▁▂▁▁▃▂▂▁▁</td></tr><tr><td>val/AUCROC</td><td>▁▇███████████████</td></tr><tr><td>val/Accuracy</td><td>▁▆▇██████████████</td></tr><tr><td>val/F1Score</td><td>▁▇▇██████████████</td></tr><tr><td>val/loss</td><td>█▇█▅▅▅▅▅▂▃▄▃▆▄▅▃▃▄▃▂▂▂▃▂▂▄▄▂▂▆▅▃▁▆▄▃▃▂▄▂</td></tr></table><br/></div><div class=\"wandb-col\"><h3>Run summary:</h3><br/><table class=\"wandb\"><tr><td>train/AUCROC</td><td>0.99006</td></tr><tr><td>train/Accuracy</td><td>0.93253</td></tr><tr><td>train/F1Score</td><td>0.93255</td></tr><tr><td>train/loss</td><td>0.07726</td></tr><tr><td>val/AUCROC</td><td>0.98821</td></tr><tr><td>val/Accuracy</td><td>0.93348</td></tr><tr><td>val/F1Score</td><td>0.93363</td></tr><tr><td>val/loss</td><td>0.33094</td></tr></table><br/></div></div>"
      ],
      "text/plain": [
       "<IPython.core.display.HTML object>"
      ]
     },
     "metadata": {},
     "output_type": "display_data"
    },
    {
     "data": {
      "text/html": [
       " View run <strong style=\"color:#cdcd00\">resnet50</strong> at: <a href='https://wandb.ai/lmorningstar/GSOC23-Task1/runs/kbvaq43z' target=\"_blank\">https://wandb.ai/lmorningstar/GSOC23-Task1/runs/kbvaq43z</a><br/>Synced 6 W&B file(s), 0 media file(s), 0 artifact file(s) and 0 other file(s)"
      ],
      "text/plain": [
       "<IPython.core.display.HTML object>"
      ]
     },
     "metadata": {},
     "output_type": "display_data"
    },
    {
     "data": {
      "text/html": [
       "Find logs at: <code>./wandb/run-20230328_165015-kbvaq43z/logs</code>"
      ],
      "text/plain": [
       "<IPython.core.display.HTML object>"
      ]
     },
     "metadata": {},
     "output_type": "display_data"
    }
   ],
   "source": [
    "wandb.finish()"
   ]
  },
  {
   "cell_type": "code",
   "execution_count": 21,
   "id": "d8a85b4e-25ff-4168-aa0f-5f7186dada51",
   "metadata": {
    "tags": []
   },
   "outputs": [
    {
     "data": {
      "text/html": [
       "Tracking run with wandb version 0.14.0"
      ],
      "text/plain": [
       "<IPython.core.display.HTML object>"
      ]
     },
     "metadata": {},
     "output_type": "display_data"
    },
    {
     "data": {
      "text/html": [
       "Run data is saved locally in <code>/home/darthvader/research/gsoc_23/Task-1/wandb/run-20230328_172429-npgsh3pz</code>"
      ],
      "text/plain": [
       "<IPython.core.display.HTML object>"
      ]
     },
     "metadata": {},
     "output_type": "display_data"
    },
    {
     "data": {
      "text/html": [
       "Syncing run <strong><a href='https://wandb.ai/lmorningstar/GSOC23-Task1/runs/npgsh3pz' target=\"_blank\">effnet</a></strong> to <a href='https://wandb.ai/lmorningstar/GSOC23-Task1' target=\"_blank\">Weights & Biases</a> (<a href='https://wandb.me/run' target=\"_blank\">docs</a>)<br/>"
      ],
      "text/plain": [
       "<IPython.core.display.HTML object>"
      ]
     },
     "metadata": {},
     "output_type": "display_data"
    },
    {
     "data": {
      "text/html": [
       " View project at <a href='https://wandb.ai/lmorningstar/GSOC23-Task1' target=\"_blank\">https://wandb.ai/lmorningstar/GSOC23-Task1</a>"
      ],
      "text/plain": [
       "<IPython.core.display.HTML object>"
      ]
     },
     "metadata": {},
     "output_type": "display_data"
    },
    {
     "data": {
      "text/html": [
       " View run at <a href='https://wandb.ai/lmorningstar/GSOC23-Task1/runs/npgsh3pz' target=\"_blank\">https://wandb.ai/lmorningstar/GSOC23-Task1/runs/npgsh3pz</a>"
      ],
      "text/plain": [
       "<IPython.core.display.HTML object>"
      ]
     },
     "metadata": {},
     "output_type": "display_data"
    },
    {
     "name": "stderr",
     "output_type": "stream",
     "text": [
      "Using 16bit Automatic Mixed Precision (AMP)\n",
      "GPU available: True (cuda), used: True\n",
      "TPU available: False, using: 0 TPU cores\n",
      "IPU available: False, using: 0 IPUs\n",
      "HPU available: False, using: 0 HPUs\n",
      "You are using a CUDA device ('NVIDIA GeForce RTX 3070') that has Tensor Cores. To properly utilize them, you should set `torch.set_float32_matmul_precision('medium' | 'high')` which will trade-off precision for performance. For more details, read https://pytorch.org/docs/stable/generated/torch.set_float32_matmul_precision.html#torch.set_float32_matmul_precision\n",
      "LOCAL_RANK: 0 - CUDA_VISIBLE_DEVICES: [0]\n"
     ]
    },
    {
     "data": {
      "text/html": [
       "<pre style=\"white-space:pre;overflow-x:auto;line-height:normal;font-family:Menlo,'DejaVu Sans Mono',consolas,'Courier New',monospace\">┏━━━┳━━━━━━━━━━━━┳━━━━━━━━━━━━━━━━━━━━┳━━━━━━━━┓\n",
       "┃<span style=\"color: #800080; text-decoration-color: #800080; font-weight: bold\">   </span>┃<span style=\"color: #800080; text-decoration-color: #800080; font-weight: bold\"> Name       </span>┃<span style=\"color: #800080; text-decoration-color: #800080; font-weight: bold\"> Type               </span>┃<span style=\"color: #800080; text-decoration-color: #800080; font-weight: bold\"> Params </span>┃\n",
       "┡━━━╇━━━━━━━━━━━━╇━━━━━━━━━━━━━━━━━━━━╇━━━━━━━━┩\n",
       "│<span style=\"color: #7f7f7f; text-decoration-color: #7f7f7f\"> 0 </span>│ model      │ EfficientNet       │  7.7 M │\n",
       "│<span style=\"color: #7f7f7f; text-decoration-color: #7f7f7f\"> 1 </span>│ classifier │ LazyLinear         │      0 │\n",
       "│<span style=\"color: #7f7f7f; text-decoration-color: #7f7f7f\"> 2 </span>│ accScore   │ MulticlassAccuracy │      0 │\n",
       "│<span style=\"color: #7f7f7f; text-decoration-color: #7f7f7f\"> 3 </span>│ f1Score    │ MulticlassF1Score  │      0 │\n",
       "│<span style=\"color: #7f7f7f; text-decoration-color: #7f7f7f\"> 4 </span>│ auc_roc    │ MulticlassAUROC    │      0 │\n",
       "└───┴────────────┴────────────────────┴────────┘\n",
       "</pre>\n"
      ],
      "text/plain": [
       "┏━━━┳━━━━━━━━━━━━┳━━━━━━━━━━━━━━━━━━━━┳━━━━━━━━┓\n",
       "┃\u001b[1;35m \u001b[0m\u001b[1;35m \u001b[0m\u001b[1;35m \u001b[0m┃\u001b[1;35m \u001b[0m\u001b[1;35mName      \u001b[0m\u001b[1;35m \u001b[0m┃\u001b[1;35m \u001b[0m\u001b[1;35mType              \u001b[0m\u001b[1;35m \u001b[0m┃\u001b[1;35m \u001b[0m\u001b[1;35mParams\u001b[0m\u001b[1;35m \u001b[0m┃\n",
       "┡━━━╇━━━━━━━━━━━━╇━━━━━━━━━━━━━━━━━━━━╇━━━━━━━━┩\n",
       "│\u001b[2m \u001b[0m\u001b[2m0\u001b[0m\u001b[2m \u001b[0m│ model      │ EfficientNet       │  7.7 M │\n",
       "│\u001b[2m \u001b[0m\u001b[2m1\u001b[0m\u001b[2m \u001b[0m│ classifier │ LazyLinear         │      0 │\n",
       "│\u001b[2m \u001b[0m\u001b[2m2\u001b[0m\u001b[2m \u001b[0m│ accScore   │ MulticlassAccuracy │      0 │\n",
       "│\u001b[2m \u001b[0m\u001b[2m3\u001b[0m\u001b[2m \u001b[0m│ f1Score    │ MulticlassF1Score  │      0 │\n",
       "│\u001b[2m \u001b[0m\u001b[2m4\u001b[0m\u001b[2m \u001b[0m│ auc_roc    │ MulticlassAUROC    │      0 │\n",
       "└───┴────────────┴────────────────────┴────────┘\n"
      ]
     },
     "metadata": {},
     "output_type": "display_data"
    },
    {
     "data": {
      "text/html": [
       "<pre style=\"white-space:pre;overflow-x:auto;line-height:normal;font-family:Menlo,'DejaVu Sans Mono',consolas,'Courier New',monospace\"><span style=\"font-weight: bold\">Trainable params</span>: 7.7 M                                                                                            \n",
       "<span style=\"font-weight: bold\">Non-trainable params</span>: 0                                                                                            \n",
       "<span style=\"font-weight: bold\">Total params</span>: 7.7 M                                                                                                \n",
       "<span style=\"font-weight: bold\">Total estimated model params size (MB)</span>: 30                                                                         \n",
       "</pre>\n"
      ],
      "text/plain": [
       "\u001b[1mTrainable params\u001b[0m: 7.7 M                                                                                            \n",
       "\u001b[1mNon-trainable params\u001b[0m: 0                                                                                            \n",
       "\u001b[1mTotal params\u001b[0m: 7.7 M                                                                                                \n",
       "\u001b[1mTotal estimated model params size (MB)\u001b[0m: 30                                                                         \n"
      ]
     },
     "metadata": {},
     "output_type": "display_data"
    },
    {
     "data": {
      "application/vnd.jupyter.widget-view+json": {
       "model_id": "f1767bc64e954eb2919d57f1ec077cc7",
       "version_major": 2,
       "version_minor": 0
      },
      "text/plain": [
       "Output()"
      ]
     },
     "metadata": {},
     "output_type": "display_data"
    },
    {
     "name": "stderr",
     "output_type": "stream",
     "text": [
      "Metric val_aucroc improved. New best score: 0.717\n",
      "Metric val_aucroc improved by 0.147 >= min_delta = 0.0. New best score: 0.864\n",
      "Metric val_aucroc improved by 0.053 >= min_delta = 0.0. New best score: 0.917\n",
      "Metric val_aucroc improved by 0.025 >= min_delta = 0.0. New best score: 0.943\n",
      "Metric val_aucroc improved by 0.015 >= min_delta = 0.0. New best score: 0.958\n",
      "Metric val_aucroc improved by 0.005 >= min_delta = 0.0. New best score: 0.963\n",
      "Metric val_aucroc improved by 0.006 >= min_delta = 0.0. New best score: 0.969\n",
      "Metric val_aucroc improved by 0.007 >= min_delta = 0.0. New best score: 0.977\n",
      "Metric val_aucroc improved by 0.001 >= min_delta = 0.0. New best score: 0.978\n",
      "Metric val_aucroc improved by 0.002 >= min_delta = 0.0. New best score: 0.980\n",
      "Metric val_aucroc improved by 0.000 >= min_delta = 0.0. New best score: 0.980\n",
      "Metric val_aucroc improved by 0.000 >= min_delta = 0.0. New best score: 0.981\n",
      "Metric val_aucroc improved by 0.001 >= min_delta = 0.0. New best score: 0.982\n",
      "Metric val_aucroc improved by 0.003 >= min_delta = 0.0. New best score: 0.985\n",
      "Metric val_aucroc improved by 0.001 >= min_delta = 0.0. New best score: 0.986\n",
      "Metric val_aucroc improved by 0.000 >= min_delta = 0.0. New best score: 0.986\n",
      "Metric val_aucroc improved by 0.001 >= min_delta = 0.0. New best score: 0.988\n",
      "Metric val_aucroc improved by 0.001 >= min_delta = 0.0. New best score: 0.989\n",
      "Monitored metric val_aucroc did not improve in the last 3 records. Best score: 0.989. Signaling Trainer to stop.\n"
     ]
    },
    {
     "data": {
      "text/html": [
       "<pre style=\"white-space:pre;overflow-x:auto;line-height:normal;font-family:Menlo,'DejaVu Sans Mono',consolas,'Courier New',monospace\"></pre>\n"
      ],
      "text/plain": []
     },
     "metadata": {},
     "output_type": "display_data"
    },
    {
     "data": {
      "text/html": [
       "<pre style=\"white-space:pre;overflow-x:auto;line-height:normal;font-family:Menlo,'DejaVu Sans Mono',consolas,'Courier New',monospace\">\n",
       "</pre>\n"
      ],
      "text/plain": [
       "\n"
      ]
     },
     "metadata": {},
     "output_type": "display_data"
    }
   ],
   "source": [
    "run = wandb.init(project=\"GSOC23-Task1\", name=\"effnet\", config=WANDB_CONFIG)\n",
    "model_training(train_data, minival_data, \"effnet\", chkpt_filename=\"best_effnet_checkpoint\", wandb_log=run, freeze_layers=False)"
   ]
  },
  {
   "cell_type": "code",
   "execution_count": 22,
   "id": "8994f43a-b863-4d99-8f8e-66cf6a045998",
   "metadata": {
    "tags": []
   },
   "outputs": [
    {
     "data": {
      "text/html": [
       "Waiting for W&B process to finish... <strong style=\"color:green\">(success).</strong>"
      ],
      "text/plain": [
       "<IPython.core.display.HTML object>"
      ]
     },
     "metadata": {},
     "output_type": "display_data"
    },
    {
     "data": {
      "text/html": [
       "<style>\n",
       "    table.wandb td:nth-child(1) { padding: 0 10px; text-align: left ; width: auto;} td:nth-child(2) {text-align: left ; width: 100%}\n",
       "    .wandb-row { display: flex; flex-direction: row; flex-wrap: wrap; justify-content: flex-start; width: 100% }\n",
       "    .wandb-col { display: flex; flex-direction: column; flex-basis: 100%; flex: 1; padding: 10px; }\n",
       "    </style>\n",
       "<div class=\"wandb-row\"><div class=\"wandb-col\"><h3>Run history:</h3><br/><table class=\"wandb\"><tr><td>train/AUCROC</td><td>▁▄▆▇▇▇▇▇████████████████████</td></tr><tr><td>train/Accuracy</td><td>▁▃▅▆▆▇▇▇▇▇▇▇▇▇██████████████</td></tr><tr><td>train/F1Score</td><td>▁▃▅▆▆▆▇▇▇▇▇▇▇▇██████████████</td></tr><tr><td>train/loss</td><td>██▇▅▆▄▄▃▂▃▃▂▃▃▃▃▂▂▃▂▂▂▂▂▂▂▁▃▂▂▂▂▂▂▂▁▁▂▂▂</td></tr><tr><td>val/AUCROC</td><td>▁▄▆▇▇████████████████████████</td></tr><tr><td>val/Accuracy</td><td>▁▃▅▆▇▇▇▇▇████████████████████</td></tr><tr><td>val/F1Score</td><td>▁▃▆▆▇▇▇▇▇████████████████████</td></tr><tr><td>val/loss</td><td>▇█▆▅▆▃▄▄▃▃▃▂▂▃▃▂▂▂▃▄▃▂▂▁▂▂▃▂▁▂▂▂▃▁▂▁▂▃▂▃</td></tr></table><br/></div><div class=\"wandb-col\"><h3>Run summary:</h3><br/><table class=\"wandb\"><tr><td>train/AUCROC</td><td>0.99029</td></tr><tr><td>train/Accuracy</td><td>0.9323</td></tr><tr><td>train/F1Score</td><td>0.93227</td></tr><tr><td>train/loss</td><td>0.28701</td></tr><tr><td>val/AUCROC</td><td>0.98868</td></tr><tr><td>val/Accuracy</td><td>0.93927</td></tr><tr><td>val/F1Score</td><td>0.93901</td></tr><tr><td>val/loss</td><td>0.61641</td></tr></table><br/></div></div>"
      ],
      "text/plain": [
       "<IPython.core.display.HTML object>"
      ]
     },
     "metadata": {},
     "output_type": "display_data"
    },
    {
     "data": {
      "text/html": [
       " View run <strong style=\"color:#cdcd00\">effnet</strong> at: <a href='https://wandb.ai/lmorningstar/GSOC23-Task1/runs/npgsh3pz' target=\"_blank\">https://wandb.ai/lmorningstar/GSOC23-Task1/runs/npgsh3pz</a><br/>Synced 6 W&B file(s), 0 media file(s), 0 artifact file(s) and 0 other file(s)"
      ],
      "text/plain": [
       "<IPython.core.display.HTML object>"
      ]
     },
     "metadata": {},
     "output_type": "display_data"
    },
    {
     "data": {
      "text/html": [
       "Find logs at: <code>./wandb/run-20230328_172429-npgsh3pz/logs</code>"
      ],
      "text/plain": [
       "<IPython.core.display.HTML object>"
      ]
     },
     "metadata": {},
     "output_type": "display_data"
    }
   ],
   "source": [
    "wandb.finish()"
   ]
  },
  {
   "cell_type": "code",
   "execution_count": 28,
   "id": "6a94f898-c35f-42b9-b64c-6fc8eb380270",
   "metadata": {
    "tags": []
   },
   "outputs": [],
   "source": [
    "def model_testing(data: \"pd.DataFrame\", model_name: str, chkpt_path: str) -> None:\n",
    "    \"\"\"\n",
    "    This function is used to test our model.\n",
    "    \n",
    "    :param data: Represents the test dataset\n",
    "    :param model_name: Represents the model name \n",
    "    :param chkpt_path: Represents the trained model saved path\n",
    "    \n",
    "    :returns: None\n",
    "    \"\"\"\n",
    "    \n",
    "    transformations = albumentations.Compose([\n",
    "        albumentations.CenterCrop(224, 224, always_apply=True),\n",
    "        albumentations.Normalize(always_apply=True, max_pixel_value=1.)\n",
    "    ])\n",
    "    \n",
    "    test_dm = LitLensDataset(data, resize=(256, 256), resampling=Image.Resampling.BILINEAR, \n",
    "                             transformations=transformations, batch_sz=128)\n",
    "    \n",
    "    test_dm.setup(stage=\"test\")\n",
    "    test_dl = test_dm.test_dataloader()\n",
    "    \n",
    "    trained_model = LitClassifier.load_from_checkpoint(chkpt_path, n_classes=3, model_name=model_name)\n",
    "    trained_model.freeze()\n",
    "    \n",
    "    trainer = pl.Trainer(accelerator=\"gpu\", devices=1, callbacks=[pl.callbacks.RichProgressBar()])\n",
    "    test_res = trainer.test(trained_model, dataloaders=test_dl)\n",
    "    \n",
    "    with open(f'./results/{model_name}_results.json', 'w') as fp:\n",
    "        json.dump(test_res, fp)"
   ]
  },
  {
   "cell_type": "code",
   "execution_count": 29,
   "id": "d8e906d8-5cb1-4775-a1f8-9346e52a529f",
   "metadata": {
    "tags": []
   },
   "outputs": [
    {
     "name": "stderr",
     "output_type": "stream",
     "text": [
      "/home/darthvader/miniconda3/envs/mlenv/lib/python3.10/site-packages/torch/nn/modules/lazy.py:180: UserWarning: Lazy modules are a new feature under heavy development so changes to the API or functionality can happen at any moment.\n",
      "  warnings.warn('Lazy modules are a new feature under heavy development '\n",
      "GPU available: True (cuda), used: True\n",
      "TPU available: False, using: 0 TPU cores\n",
      "IPU available: False, using: 0 IPUs\n",
      "HPU available: False, using: 0 HPUs\n",
      "You are using a CUDA device ('NVIDIA GeForce RTX 3070') that has Tensor Cores. To properly utilize them, you should set `torch.set_float32_matmul_precision('medium' | 'high')` which will trade-off precision for performance. For more details, read https://pytorch.org/docs/stable/generated/torch.set_float32_matmul_precision.html#torch.set_float32_matmul_precision\n",
      "LOCAL_RANK: 0 - CUDA_VISIBLE_DEVICES: [0]\n"
     ]
    },
    {
     "data": {
      "application/vnd.jupyter.widget-view+json": {
       "model_id": "0d81ee351c884ff18872445eae5a3a11",
       "version_major": 2,
       "version_minor": 0
      },
      "text/plain": [
       "Output()"
      ]
     },
     "metadata": {},
     "output_type": "display_data"
    },
    {
     "data": {
      "text/html": [
       "<pre style=\"white-space:pre;overflow-x:auto;line-height:normal;font-family:Menlo,'DejaVu Sans Mono',consolas,'Courier New',monospace\">┏━━━━━━━━━━━━━━━━━━━━━━━━━━━┳━━━━━━━━━━━━━━━━━━━━━━━━━━━┓\n",
       "┃<span style=\"font-weight: bold\">        Test metric        </span>┃<span style=\"font-weight: bold\">       DataLoader 0        </span>┃\n",
       "┡━━━━━━━━━━━━━━━━━━━━━━━━━━━╇━━━━━━━━━━━━━━━━━━━━━━━━━━━┩\n",
       "│<span style=\"color: #008080; text-decoration-color: #008080\">         test_acc          </span>│<span style=\"color: #800080; text-decoration-color: #800080\">    0.9297223687171936     </span>│\n",
       "│<span style=\"color: #008080; text-decoration-color: #008080\">        test_aucroc        </span>│<span style=\"color: #800080; text-decoration-color: #800080\">    0.9869203567504883     </span>│\n",
       "│<span style=\"color: #008080; text-decoration-color: #008080\">          test_f1          </span>│<span style=\"color: #800080; text-decoration-color: #800080\">    0.9295058250427246     </span>│\n",
       "│<span style=\"color: #008080; text-decoration-color: #008080\">         test_loss         </span>│<span style=\"color: #800080; text-decoration-color: #800080\">    0.20070190727710724    </span>│\n",
       "└───────────────────────────┴───────────────────────────┘\n",
       "</pre>\n"
      ],
      "text/plain": [
       "┏━━━━━━━━━━━━━━━━━━━━━━━━━━━┳━━━━━━━━━━━━━━━━━━━━━━━━━━━┓\n",
       "┃\u001b[1m \u001b[0m\u001b[1m       Test metric       \u001b[0m\u001b[1m \u001b[0m┃\u001b[1m \u001b[0m\u001b[1m      DataLoader 0       \u001b[0m\u001b[1m \u001b[0m┃\n",
       "┡━━━━━━━━━━━━━━━━━━━━━━━━━━━╇━━━━━━━━━━━━━━━━━━━━━━━━━━━┩\n",
       "│\u001b[36m \u001b[0m\u001b[36m        test_acc         \u001b[0m\u001b[36m \u001b[0m│\u001b[35m \u001b[0m\u001b[35m   0.9297223687171936    \u001b[0m\u001b[35m \u001b[0m│\n",
       "│\u001b[36m \u001b[0m\u001b[36m       test_aucroc       \u001b[0m\u001b[36m \u001b[0m│\u001b[35m \u001b[0m\u001b[35m   0.9869203567504883    \u001b[0m\u001b[35m \u001b[0m│\n",
       "│\u001b[36m \u001b[0m\u001b[36m         test_f1         \u001b[0m\u001b[36m \u001b[0m│\u001b[35m \u001b[0m\u001b[35m   0.9295058250427246    \u001b[0m\u001b[35m \u001b[0m│\n",
       "│\u001b[36m \u001b[0m\u001b[36m        test_loss        \u001b[0m\u001b[36m \u001b[0m│\u001b[35m \u001b[0m\u001b[35m   0.20070190727710724   \u001b[0m\u001b[35m \u001b[0m│\n",
       "└───────────────────────────┴───────────────────────────┘\n"
      ]
     },
     "metadata": {},
     "output_type": "display_data"
    },
    {
     "data": {
      "text/html": [
       "<pre style=\"white-space:pre;overflow-x:auto;line-height:normal;font-family:Menlo,'DejaVu Sans Mono',consolas,'Courier New',monospace\"></pre>\n"
      ],
      "text/plain": []
     },
     "metadata": {},
     "output_type": "display_data"
    },
    {
     "data": {
      "text/html": [
       "<pre style=\"white-space:pre;overflow-x:auto;line-height:normal;font-family:Menlo,'DejaVu Sans Mono',consolas,'Courier New',monospace\">\n",
       "</pre>\n"
      ],
      "text/plain": [
       "\n"
      ]
     },
     "metadata": {},
     "output_type": "display_data"
    }
   ],
   "source": [
    "model_testing(df_val, 'resnet', './checkpoints/best_resnet_checkpoint-v3.ckpt')"
   ]
  },
  {
   "cell_type": "code",
   "execution_count": 30,
   "id": "0e94d8ee-834c-4c6b-9369-409251c2b664",
   "metadata": {
    "tags": []
   },
   "outputs": [
    {
     "name": "stderr",
     "output_type": "stream",
     "text": [
      "GPU available: True (cuda), used: True\n",
      "TPU available: False, using: 0 TPU cores\n",
      "IPU available: False, using: 0 IPUs\n",
      "HPU available: False, using: 0 HPUs\n",
      "You are using a CUDA device ('NVIDIA GeForce RTX 3070') that has Tensor Cores. To properly utilize them, you should set `torch.set_float32_matmul_precision('medium' | 'high')` which will trade-off precision for performance. For more details, read https://pytorch.org/docs/stable/generated/torch.set_float32_matmul_precision.html#torch.set_float32_matmul_precision\n",
      "LOCAL_RANK: 0 - CUDA_VISIBLE_DEVICES: [0]\n"
     ]
    },
    {
     "data": {
      "application/vnd.jupyter.widget-view+json": {
       "model_id": "a4e92d0c78ea495d856475b9fe490c37",
       "version_major": 2,
       "version_minor": 0
      },
      "text/plain": [
       "Output()"
      ]
     },
     "metadata": {},
     "output_type": "display_data"
    },
    {
     "data": {
      "text/html": [
       "<pre style=\"white-space:pre;overflow-x:auto;line-height:normal;font-family:Menlo,'DejaVu Sans Mono',consolas,'Courier New',monospace\">┏━━━━━━━━━━━━━━━━━━━━━━━━━━━┳━━━━━━━━━━━━━━━━━━━━━━━━━━━┓\n",
       "┃<span style=\"font-weight: bold\">        Test metric        </span>┃<span style=\"font-weight: bold\">       DataLoader 0        </span>┃\n",
       "┡━━━━━━━━━━━━━━━━━━━━━━━━━━━╇━━━━━━━━━━━━━━━━━━━━━━━━━━━┩\n",
       "│<span style=\"color: #008080; text-decoration-color: #008080\">         test_acc          </span>│<span style=\"color: #800080; text-decoration-color: #800080\">    0.9350119829177856     </span>│\n",
       "│<span style=\"color: #008080; text-decoration-color: #008080\">        test_aucroc        </span>│<span style=\"color: #800080; text-decoration-color: #800080\">    0.9883600473403931     </span>│\n",
       "│<span style=\"color: #008080; text-decoration-color: #008080\">          test_f1          </span>│<span style=\"color: #800080; text-decoration-color: #800080\">    0.9349082112312317     </span>│\n",
       "│<span style=\"color: #008080; text-decoration-color: #008080\">         test_loss         </span>│<span style=\"color: #800080; text-decoration-color: #800080\">    0.20905472338199615    </span>│\n",
       "└───────────────────────────┴───────────────────────────┘\n",
       "</pre>\n"
      ],
      "text/plain": [
       "┏━━━━━━━━━━━━━━━━━━━━━━━━━━━┳━━━━━━━━━━━━━━━━━━━━━━━━━━━┓\n",
       "┃\u001b[1m \u001b[0m\u001b[1m       Test metric       \u001b[0m\u001b[1m \u001b[0m┃\u001b[1m \u001b[0m\u001b[1m      DataLoader 0       \u001b[0m\u001b[1m \u001b[0m┃\n",
       "┡━━━━━━━━━━━━━━━━━━━━━━━━━━━╇━━━━━━━━━━━━━━━━━━━━━━━━━━━┩\n",
       "│\u001b[36m \u001b[0m\u001b[36m        test_acc         \u001b[0m\u001b[36m \u001b[0m│\u001b[35m \u001b[0m\u001b[35m   0.9350119829177856    \u001b[0m\u001b[35m \u001b[0m│\n",
       "│\u001b[36m \u001b[0m\u001b[36m       test_aucroc       \u001b[0m\u001b[36m \u001b[0m│\u001b[35m \u001b[0m\u001b[35m   0.9883600473403931    \u001b[0m\u001b[35m \u001b[0m│\n",
       "│\u001b[36m \u001b[0m\u001b[36m         test_f1         \u001b[0m\u001b[36m \u001b[0m│\u001b[35m \u001b[0m\u001b[35m   0.9349082112312317    \u001b[0m\u001b[35m \u001b[0m│\n",
       "│\u001b[36m \u001b[0m\u001b[36m        test_loss        \u001b[0m\u001b[36m \u001b[0m│\u001b[35m \u001b[0m\u001b[35m   0.20905472338199615   \u001b[0m\u001b[35m \u001b[0m│\n",
       "└───────────────────────────┴───────────────────────────┘\n"
      ]
     },
     "metadata": {},
     "output_type": "display_data"
    },
    {
     "data": {
      "text/html": [
       "<pre style=\"white-space:pre;overflow-x:auto;line-height:normal;font-family:Menlo,'DejaVu Sans Mono',consolas,'Courier New',monospace\"></pre>\n"
      ],
      "text/plain": []
     },
     "metadata": {},
     "output_type": "display_data"
    },
    {
     "data": {
      "text/html": [
       "<pre style=\"white-space:pre;overflow-x:auto;line-height:normal;font-family:Menlo,'DejaVu Sans Mono',consolas,'Courier New',monospace\">\n",
       "</pre>\n"
      ],
      "text/plain": [
       "\n"
      ]
     },
     "metadata": {},
     "output_type": "display_data"
    }
   ],
   "source": [
    "model_testing(df_val, 'effnet', './checkpoints/best_effnet_checkpoint-v1.ckpt')"
   ]
  },
  {
   "cell_type": "markdown",
   "id": "485437f0-a33a-4a9c-89b7-ca9baa987098",
   "metadata": {},
   "source": [
    "# Comparisons"
   ]
  },
  {
   "cell_type": "code",
   "execution_count": 37,
   "id": "8231afce-cbe5-49b5-abcf-c226f81e7ca7",
   "metadata": {
    "tags": []
   },
   "outputs": [],
   "source": [
    "results = defaultdict(lambda : list())\n",
    "\n",
    "for res_files in os.listdir('./results/'):\n",
    "    if res_files.startswith('.'):\n",
    "        continue\n",
    "        \n",
    "    with open(os.path.join('./results', res_files)) as fp:\n",
    "        data = json.load(fp)\n",
    "        results['model_name'].append(res_files.split(\"_\")[0])\n",
    "        for keys, values in data[0].items():\n",
    "            results[keys].append(values)"
   ]
  },
  {
   "cell_type": "code",
   "execution_count": 50,
   "id": "ec869072-b42e-454f-bb64-1d8380785445",
   "metadata": {
    "tags": []
   },
   "outputs": [
    {
     "data": {
      "image/png": "[encoded data removed]",
      "text/plain": [
       "<Figure size 800x500 with 1 Axes>"
      ]
     },
     "metadata": {},
     "output_type": "display_data"
    }
   ],
   "source": [
    "results = pd.DataFrame(results)\n",
    "\n",
    "plt.figure(figsize=(8, 5))\n",
    "sns.set_style(\"whitegrid\")\n",
    "plt.title(\"Comparison of AUC-ROC Scores for different models\", weight=\"bold\", fontsize=14)\n",
    "sns.barplot(x=\"model_name\", y=\"test_aucroc\", data=results, palette=MY_COLORS)\n",
    "plt.xlabel(\"Model Name\")\n",
    "plt.ylabel(\"Test AUC-ROC\")\n",
    "sns.despine()\n",
    "plt.show()"
   ]
  },
  {
   "cell_type": "code",
   "execution_count": null,
   "id": "af2357d1-f142-4ac0-bcb6-4ae44a46e9ee",
   "metadata": {},
   "outputs": [],
   "source": []
  }
 ],
 "metadata": {
  "kernelspec": {
   "display_name": "Python 3 (ipykernel)",
   "language": "python",
   "name": "python3"
  },
  "language_info": {
   "codemirror_mode": {
    "name": "ipython",
    "version": 3
   },
   "file_extension": ".py",
   "mimetype": "text/x-python",
   "name": "python",
   "nbconvert_exporter": "python",
   "pygments_lexer": "ipython3",
   "version": "3.10.10"
  }
 },
 "nbformat": 4,
 "nbformat_minor": 5
}
