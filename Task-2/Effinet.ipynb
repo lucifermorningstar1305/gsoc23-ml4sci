{
 "cells": [
  {
   "cell_type": "code",
   "execution_count": 1,
   "id": "a0bf9d40-0daa-419d-97ef-b1e5eb2e18e1",
   "metadata": {
    "tags": []
   },
   "outputs": [
    {
     "data": {
      "text/html": [
       "<pre style=\"white-space:pre;overflow-x:auto;line-height:normal;font-family:Menlo,'DejaVu Sans Mono',consolas,'Courier New',monospace\"><span style=\"color: #35a7ff; text-decoration-color: #35a7ff; font-weight: bold\"> Notebook color scheme </span>\n",
       "</pre>\n"
      ],
      "text/plain": [
       "\u001b[1;38;2;53;167;255m Notebook color scheme \u001b[0m\n"
      ]
     },
     "metadata": {},
     "output_type": "display_data"
    },
    {
     "data": {
      "image/png": "[encoded data removed]",
      "text/plain": [
       "<Figure size 500x100 with 1 Axes>"
      ]
     },
     "metadata": {},
     "output_type": "display_data"
    }
   ],
   "source": [
    "from typing import Any, Dict, Tuple, List, Optional\n",
    "\n",
    "import numpy as np\n",
    "import pandas as pd\n",
    "import matplotlib.pyplot as plt\n",
    "import seaborn as sns\n",
    "import torch\n",
    "import torch.nn as nn\n",
    "import torch.utils.data as td\n",
    "import torch.nn.functional as F\n",
    "import torchvision\n",
    "import torchmetrics\n",
    "import albumentations\n",
    "import lightning.pytorch as pl\n",
    "import os\n",
    "import sys\n",
    "import wandb\n",
    "import json\n",
    "import gc\n",
    "\n",
    "from astropy.io import fits\n",
    "from sklearn.preprocessing import MinMaxScaler\n",
    "from sklearn.model_selection import train_test_split\n",
    "from PIL import Image\n",
    "from matplotlib.colors import ListedColormap\n",
    "from rich.console import Console\n",
    "from rich.table import Table\n",
    "from rich.progress import track\n",
    "from rich import print as rprint\n",
    "\n",
    "from collections import defaultdict\n",
    "\n",
    "MY_COLORS = [\"#3A7D44\", \"#304C89\", \"#35A7FF\", \"#f8e16c\", \"#F24236\"]\n",
    "MY_COLORMAP = ListedColormap(MY_COLORS)\n",
    "\n",
    "WANDB_CONFIG = {\"experiment\":\"GSoc2023\", \"_wandb_kernel\":\"aot\"}\n",
    "\n",
    "torch.set_float32_matmul_precision('medium')\n",
    "\n",
    "rprint(\"[bold #35A7FF] Notebook color scheme [/bold #35A7FF]\")\n",
    "sns.palplot(sns.color_palette(MY_COLORS))\n",
    "plt.show()"
   ]
  },
  {
   "cell_type": "code",
   "execution_count": 2,
   "id": "88dc9d52-dc17-4def-bde5-3721f31429d8",
   "metadata": {
    "tags": []
   },
   "outputs": [
    {
     "name": "stdout",
     "output_type": "stream",
     "text": [
      "\u001b[34m\u001b[1mwandb\u001b[0m: Appending key for api.wandb.ai to your netrc file: /home/darthvader/.netrc\n"
     ]
    }
   ],
   "source": [
    "api_key = os.environ['WANDB_API_KEY']\n",
    "!wandb login $api_key"
   ]
  },
  {
   "cell_type": "code",
   "execution_count": 3,
   "id": "0b9947f7-ca24-41fe-ab99-7d291e411355",
   "metadata": {
    "tags": []
   },
   "outputs": [],
   "source": [
    "df = pd.read_csv(\"../data/lens_finding/SpaceBasedTraining/classifications.csv\")"
   ]
  },
  {
   "cell_type": "code",
   "execution_count": 4,
   "id": "7cc82bbe-9bc1-4d7a-8abd-7664b6e1438f",
   "metadata": {
    "tags": []
   },
   "outputs": [],
   "source": [
    "def view_table(data: \"pd.DataFrame\", n_rows: Optional[int]=5, title: Optional[str]=\"Title\", rule: Optional[bool]=False) -> None:\n",
    "    \"\"\"\n",
    "    This function is used to create a aesthetic view of a dataframe.\n",
    "    \n",
    "    :params data: the dataframe\n",
    "    :params n_rows: number of n rows to view of the dataframe.\n",
    "    :params title: A title for the aesthetic table.\n",
    "    :params rule: Whether to add any ruler or not.\n",
    "    \n",
    "    :returns: None\n",
    "    \"\"\"\n",
    "    \n",
    "    table = Table(title=title, caption=f\"This data originally has {data.shape[0]} records.\")\n",
    "    data = data.sample(n_rows, random_state=32)\n",
    "    \n",
    "    for idx, col in enumerate(data.columns):\n",
    "        table.add_column(col, justify=\"left\", style=MY_COLORS[idx % len(MY_COLORS)])\n",
    "        \n",
    "    for row in data.iterrows():\n",
    "        row = (str(r) for r in row[1])\n",
    "        table.add_row(*row)\n",
    "        \n",
    "    console = Console()\n",
    "    \n",
    "    if rule:\n",
    "        console.rule(f\"[bold #35A7FF]{title}\")\n",
    "    \n",
    "    console.print(table)"
   ]
  },
  {
   "cell_type": "code",
   "execution_count": 5,
   "id": "e2343c3b-1ba4-4b0c-86c0-cfac3f23d498",
   "metadata": {
    "tags": []
   },
   "outputs": [
    {
     "data": {
      "text/html": [
       "<pre style=\"white-space:pre;overflow-x:auto;line-height:normal;font-family:Menlo,'DejaVu Sans Mono',consolas,'Courier New',monospace\"><span style=\"font-style: italic\">                                      Given MetaData                                       </span>\n",
       "┏━━━━━━━━━━┳━━━━━━━━━┳━━━━━━━━━━━━━━━┳━━━━━━━━━━━━━━━━━━━━━━━┳━━━━━━━━━━━━━━━━━━━━━━━━━━━━┓\n",
       "┃<span style=\"font-weight: bold\"> ID       </span>┃<span style=\"font-weight: bold\"> is_lens </span>┃<span style=\"font-weight: bold\"> Einstein_area </span>┃<span style=\"font-weight: bold\"> numb_pix_lensed_image </span>┃<span style=\"font-weight: bold\"> flux_lensed_image_in_sigma </span>┃\n",
       "┡━━━━━━━━━━╇━━━━━━━━━╇━━━━━━━━━━━━━━━╇━━━━━━━━━━━━━━━━━━━━━━━╇━━━━━━━━━━━━━━━━━━━━━━━━━━━━┩\n",
       "│<span style=\"color: #3a7d44; text-decoration-color: #3a7d44\"> 100891.0 </span>│<span style=\"color: #304c89; text-decoration-color: #304c89\"> 1.0     </span>│<span style=\"color: #35a7ff; text-decoration-color: #35a7ff\"> 3.50228e-12   </span>│<span style=\"color: #f8e16c; text-decoration-color: #f8e16c\"> 46.0                  </span>│<span style=\"color: #f24236; text-decoration-color: #f24236\"> 137.648                    </span>│\n",
       "│<span style=\"color: #3a7d44; text-decoration-color: #3a7d44\"> 116431.0 </span>│<span style=\"color: #304c89; text-decoration-color: #304c89\"> 1.0     </span>│<span style=\"color: #35a7ff; text-decoration-color: #35a7ff\"> 1.40273e-10   </span>│<span style=\"color: #f8e16c; text-decoration-color: #f8e16c\"> 259.0                 </span>│<span style=\"color: #f24236; text-decoration-color: #f24236\"> 905.651                    </span>│\n",
       "│<span style=\"color: #3a7d44; text-decoration-color: #3a7d44\"> 113996.0 </span>│<span style=\"color: #304c89; text-decoration-color: #304c89\"> 1.0     </span>│<span style=\"color: #35a7ff; text-decoration-color: #35a7ff\"> 2.33485e-12   </span>│<span style=\"color: #f8e16c; text-decoration-color: #f8e16c\"> 137.0                 </span>│<span style=\"color: #f24236; text-decoration-color: #f24236\"> 962.784                    </span>│\n",
       "│<span style=\"color: #3a7d44; text-decoration-color: #3a7d44\"> 116920.0 </span>│<span style=\"color: #304c89; text-decoration-color: #304c89\"> 1.0     </span>│<span style=\"color: #35a7ff; text-decoration-color: #35a7ff\"> 7.36775e-12   </span>│<span style=\"color: #f8e16c; text-decoration-color: #f8e16c\"> 116.0                 </span>│<span style=\"color: #f24236; text-decoration-color: #f24236\"> 983.103                    </span>│\n",
       "│<span style=\"color: #3a7d44; text-decoration-color: #3a7d44\"> 105940.0 </span>│<span style=\"color: #304c89; text-decoration-color: #304c89\"> 0.0     </span>│<span style=\"color: #35a7ff; text-decoration-color: #35a7ff\"> 2.04066e-10   </span>│<span style=\"color: #f8e16c; text-decoration-color: #f8e16c\"> 0.0                   </span>│<span style=\"color: #f24236; text-decoration-color: #f24236\"> 0.0                        </span>│\n",
       "└──────────┴─────────┴───────────────┴───────────────────────┴────────────────────────────┘\n",
       "<span style=\"color: #7f7f7f; text-decoration-color: #7f7f7f; font-style: italic\">                          This data originally has 18000 records.                          </span>\n",
       "</pre>\n"
      ],
      "text/plain": [
       "\u001b[3m                                      Given MetaData                                       \u001b[0m\n",
       "┏━━━━━━━━━━┳━━━━━━━━━┳━━━━━━━━━━━━━━━┳━━━━━━━━━━━━━━━━━━━━━━━┳━━━━━━━━━━━━━━━━━━━━━━━━━━━━┓\n",
       "┃\u001b[1m \u001b[0m\u001b[1mID      \u001b[0m\u001b[1m \u001b[0m┃\u001b[1m \u001b[0m\u001b[1mis_lens\u001b[0m\u001b[1m \u001b[0m┃\u001b[1m \u001b[0m\u001b[1mEinstein_area\u001b[0m\u001b[1m \u001b[0m┃\u001b[1m \u001b[0m\u001b[1mnumb_pix_lensed_image\u001b[0m\u001b[1m \u001b[0m┃\u001b[1m \u001b[0m\u001b[1mflux_lensed_image_in_sigma\u001b[0m\u001b[1m \u001b[0m┃\n",
       "┡━━━━━━━━━━╇━━━━━━━━━╇━━━━━━━━━━━━━━━╇━━━━━━━━━━━━━━━━━━━━━━━╇━━━━━━━━━━━━━━━━━━━━━━━━━━━━┩\n",
       "│\u001b[38;2;58;125;68m \u001b[0m\u001b[38;2;58;125;68m100891.0\u001b[0m\u001b[38;2;58;125;68m \u001b[0m│\u001b[38;2;48;76;137m \u001b[0m\u001b[38;2;48;76;137m1.0    \u001b[0m\u001b[38;2;48;76;137m \u001b[0m│\u001b[38;2;53;167;255m \u001b[0m\u001b[38;2;53;167;255m3.50228e-12  \u001b[0m\u001b[38;2;53;167;255m \u001b[0m│\u001b[38;2;248;225;108m \u001b[0m\u001b[38;2;248;225;108m46.0                 \u001b[0m\u001b[38;2;248;225;108m \u001b[0m│\u001b[38;2;242;66;54m \u001b[0m\u001b[38;2;242;66;54m137.648                   \u001b[0m\u001b[38;2;242;66;54m \u001b[0m│\n",
       "│\u001b[38;2;58;125;68m \u001b[0m\u001b[38;2;58;125;68m116431.0\u001b[0m\u001b[38;2;58;125;68m \u001b[0m│\u001b[38;2;48;76;137m \u001b[0m\u001b[38;2;48;76;137m1.0    \u001b[0m\u001b[38;2;48;76;137m \u001b[0m│\u001b[38;2;53;167;255m \u001b[0m\u001b[38;2;53;167;255m1.40273e-10  \u001b[0m\u001b[38;2;53;167;255m \u001b[0m│\u001b[38;2;248;225;108m \u001b[0m\u001b[38;2;248;225;108m259.0                \u001b[0m\u001b[38;2;248;225;108m \u001b[0m│\u001b[38;2;242;66;54m \u001b[0m\u001b[38;2;242;66;54m905.651                   \u001b[0m\u001b[38;2;242;66;54m \u001b[0m│\n",
       "│\u001b[38;2;58;125;68m \u001b[0m\u001b[38;2;58;125;68m113996.0\u001b[0m\u001b[38;2;58;125;68m \u001b[0m│\u001b[38;2;48;76;137m \u001b[0m\u001b[38;2;48;76;137m1.0    \u001b[0m\u001b[38;2;48;76;137m \u001b[0m│\u001b[38;2;53;167;255m \u001b[0m\u001b[38;2;53;167;255m2.33485e-12  \u001b[0m\u001b[38;2;53;167;255m \u001b[0m│\u001b[38;2;248;225;108m \u001b[0m\u001b[38;2;248;225;108m137.0                \u001b[0m\u001b[38;2;248;225;108m \u001b[0m│\u001b[38;2;242;66;54m \u001b[0m\u001b[38;2;242;66;54m962.784                   \u001b[0m\u001b[38;2;242;66;54m \u001b[0m│\n",
       "│\u001b[38;2;58;125;68m \u001b[0m\u001b[38;2;58;125;68m116920.0\u001b[0m\u001b[38;2;58;125;68m \u001b[0m│\u001b[38;2;48;76;137m \u001b[0m\u001b[38;2;48;76;137m1.0    \u001b[0m\u001b[38;2;48;76;137m \u001b[0m│\u001b[38;2;53;167;255m \u001b[0m\u001b[38;2;53;167;255m7.36775e-12  \u001b[0m\u001b[38;2;53;167;255m \u001b[0m│\u001b[38;2;248;225;108m \u001b[0m\u001b[38;2;248;225;108m116.0                \u001b[0m\u001b[38;2;248;225;108m \u001b[0m│\u001b[38;2;242;66;54m \u001b[0m\u001b[38;2;242;66;54m983.103                   \u001b[0m\u001b[38;2;242;66;54m \u001b[0m│\n",
       "│\u001b[38;2;58;125;68m \u001b[0m\u001b[38;2;58;125;68m105940.0\u001b[0m\u001b[38;2;58;125;68m \u001b[0m│\u001b[38;2;48;76;137m \u001b[0m\u001b[38;2;48;76;137m0.0    \u001b[0m\u001b[38;2;48;76;137m \u001b[0m│\u001b[38;2;53;167;255m \u001b[0m\u001b[38;2;53;167;255m2.04066e-10  \u001b[0m\u001b[38;2;53;167;255m \u001b[0m│\u001b[38;2;248;225;108m \u001b[0m\u001b[38;2;248;225;108m0.0                  \u001b[0m\u001b[38;2;248;225;108m \u001b[0m│\u001b[38;2;242;66;54m \u001b[0m\u001b[38;2;242;66;54m0.0                       \u001b[0m\u001b[38;2;242;66;54m \u001b[0m│\n",
       "└──────────┴─────────┴───────────────┴───────────────────────┴────────────────────────────┘\n",
       "\u001b[2;3m                          This data originally has 18000 records.                          \u001b[0m\n"
      ]
     },
     "metadata": {},
     "output_type": "display_data"
    }
   ],
   "source": [
    "view_table(df, title=\"Given MetaData\")"
   ]
  },
  {
   "cell_type": "code",
   "execution_count": 6,
   "id": "ae26852f-9913-47ee-8742-94ba49349468",
   "metadata": {
    "tags": []
   },
   "outputs": [],
   "source": [
    "def addImagePaths(data: \"pd.DataFrame\", img_fp: str) -> \"pd.DataFrame\":\n",
    "    \"\"\"\n",
    "    This function is used to add the image paths to the current MetaData\n",
    "    \n",
    "    :param data: the current metaData\n",
    "    :param img_fp: the directory where the images are present.\n",
    "    \n",
    "    :returns: the metaData with the image paths\n",
    "    \"\"\"\n",
    "    \n",
    "    img_paths = list()\n",
    "    \n",
    "    for ids in track(data[\"ID\"].values):\n",
    "        img_name = f\"imageEUC_VIS-{ids}.fits\"\n",
    "        img_paths.append(os.path.join(img_fp, img_name))\n",
    "        \n",
    "    assert all([os.path.exists(path) for path in img_paths]), \"Some of the files does not exists\"\n",
    "                \n",
    "    data[\"img_path\"] = img_paths\n",
    "    data = data.sample(frac=1, random_state=1234)\n",
    "    return data"
   ]
  },
  {
   "cell_type": "code",
   "execution_count": 7,
   "id": "e5ba5a44-fe10-45c0-8a2d-9e90c72c426e",
   "metadata": {
    "tags": []
   },
   "outputs": [
    {
     "data": {
      "application/vnd.jupyter.widget-view+json": {
       "model_id": "19c52d3b77a0464994d5ca2e22b8d9e4",
       "version_major": 2,
       "version_minor": 0
      },
      "text/plain": [
       "Output()"
      ]
     },
     "metadata": {},
     "output_type": "display_data"
    },
    {
     "data": {
      "text/html": [
       "<pre style=\"white-space:pre;overflow-x:auto;line-height:normal;font-family:Menlo,'DejaVu Sans Mono',consolas,'Courier New',monospace\"></pre>\n"
      ],
      "text/plain": []
     },
     "metadata": {},
     "output_type": "display_data"
    },
    {
     "data": {
      "text/html": [
       "<pre style=\"white-space:pre;overflow-x:auto;line-height:normal;font-family:Menlo,'DejaVu Sans Mono',consolas,'Courier New',monospace\">\n",
       "</pre>\n"
      ],
      "text/plain": [
       "\n"
      ]
     },
     "metadata": {},
     "output_type": "display_data"
    },
    {
     "data": {
      "text/html": [
       "<pre style=\"white-space:pre;overflow-x:auto;line-height:normal;font-family:Menlo,'DejaVu Sans Mono',consolas,'Courier New',monospace\"><span style=\"font-style: italic\">                                                 Modified MetaData                                                 </span>\n",
       "┏━━━━━━━━┳━━━━━━━━━┳━━━━━━━━━━━━━━━┳━━━━━━━━━━━━━━━━━━━━━━━┳━━━━━━━━━━━━━━━━━━━━━━━━━━┳━━━━━━━━━━━━━━━━━━━━━━━━━━━┓\n",
       "┃<span style=\"font-weight: bold\"> ID     </span>┃<span style=\"font-weight: bold\"> is_lens </span>┃<span style=\"font-weight: bold\"> Einstein_area </span>┃<span style=\"font-weight: bold\"> numb_pix_lensed_image </span>┃<span style=\"font-weight: bold\"> flux_lensed_image_in_si… </span>┃<span style=\"font-weight: bold\"> img_path                  </span>┃\n",
       "┡━━━━━━━━╇━━━━━━━━━╇━━━━━━━━━━━━━━━╇━━━━━━━━━━━━━━━━━━━━━━━╇━━━━━━━━━━━━━━━━━━━━━━━━━━╇━━━━━━━━━━━━━━━━━━━━━━━━━━━┩\n",
       "│<span style=\"color: #3a7d44; text-decoration-color: #3a7d44\"> 104049 </span>│<span style=\"color: #304c89; text-decoration-color: #304c89\"> 1       </span>│<span style=\"color: #35a7ff; text-decoration-color: #35a7ff\"> 6.69324e-12   </span>│<span style=\"color: #f8e16c; text-decoration-color: #f8e16c\"> 327                   </span>│<span style=\"color: #f24236; text-decoration-color: #f24236\"> 2051.01                  </span>│<span style=\"color: #3a7d44; text-decoration-color: #3a7d44\"> ../data/lens_finding/Spa… </span>│\n",
       "│<span style=\"color: #3a7d44; text-decoration-color: #3a7d44\"> 111601 </span>│<span style=\"color: #304c89; text-decoration-color: #304c89\"> 1       </span>│<span style=\"color: #35a7ff; text-decoration-color: #35a7ff\"> 2.05986e-11   </span>│<span style=\"color: #f8e16c; text-decoration-color: #f8e16c\"> 132                   </span>│<span style=\"color: #f24236; text-decoration-color: #f24236\"> 620.031                  </span>│<span style=\"color: #3a7d44; text-decoration-color: #3a7d44\"> ../data/lens_finding/Spa… </span>│\n",
       "│<span style=\"color: #3a7d44; text-decoration-color: #3a7d44\"> 106414 </span>│<span style=\"color: #304c89; text-decoration-color: #304c89\"> 1       </span>│<span style=\"color: #35a7ff; text-decoration-color: #35a7ff\"> 8.80836e-10   </span>│<span style=\"color: #f8e16c; text-decoration-color: #f8e16c\"> 511                   </span>│<span style=\"color: #f24236; text-decoration-color: #f24236\"> 1858.27                  </span>│<span style=\"color: #3a7d44; text-decoration-color: #3a7d44\"> ../data/lens_finding/Spa… </span>│\n",
       "│<span style=\"color: #3a7d44; text-decoration-color: #3a7d44\"> 102563 </span>│<span style=\"color: #304c89; text-decoration-color: #304c89\"> 1       </span>│<span style=\"color: #35a7ff; text-decoration-color: #35a7ff\"> 3.53756e-10   </span>│<span style=\"color: #f8e16c; text-decoration-color: #f8e16c\"> 599                   </span>│<span style=\"color: #f24236; text-decoration-color: #f24236\"> 1796.08                  </span>│<span style=\"color: #3a7d44; text-decoration-color: #3a7d44\"> ../data/lens_finding/Spa… </span>│\n",
       "│<span style=\"color: #3a7d44; text-decoration-color: #3a7d44\"> 101056 </span>│<span style=\"color: #304c89; text-decoration-color: #304c89\"> 1       </span>│<span style=\"color: #35a7ff; text-decoration-color: #35a7ff\"> 2.87161e-10   </span>│<span style=\"color: #f8e16c; text-decoration-color: #f8e16c\"> 53                    </span>│<span style=\"color: #f24236; text-decoration-color: #f24236\"> 203.097                  </span>│<span style=\"color: #3a7d44; text-decoration-color: #3a7d44\"> ../data/lens_finding/Spa… </span>│\n",
       "└────────┴─────────┴───────────────┴───────────────────────┴──────────────────────────┴───────────────────────────┘\n",
       "<span style=\"color: #7f7f7f; text-decoration-color: #7f7f7f; font-style: italic\">                                      This data originally has 18000 records.                                      </span>\n",
       "</pre>\n"
      ],
      "text/plain": [
       "\u001b[3m                                                 Modified MetaData                                                 \u001b[0m\n",
       "┏━━━━━━━━┳━━━━━━━━━┳━━━━━━━━━━━━━━━┳━━━━━━━━━━━━━━━━━━━━━━━┳━━━━━━━━━━━━━━━━━━━━━━━━━━┳━━━━━━━━━━━━━━━━━━━━━━━━━━━┓\n",
       "┃\u001b[1m \u001b[0m\u001b[1mID    \u001b[0m\u001b[1m \u001b[0m┃\u001b[1m \u001b[0m\u001b[1mis_lens\u001b[0m\u001b[1m \u001b[0m┃\u001b[1m \u001b[0m\u001b[1mEinstein_area\u001b[0m\u001b[1m \u001b[0m┃\u001b[1m \u001b[0m\u001b[1mnumb_pix_lensed_image\u001b[0m\u001b[1m \u001b[0m┃\u001b[1m \u001b[0m\u001b[1mflux_lensed_image_in_si…\u001b[0m\u001b[1m \u001b[0m┃\u001b[1m \u001b[0m\u001b[1mimg_path                 \u001b[0m\u001b[1m \u001b[0m┃\n",
       "┡━━━━━━━━╇━━━━━━━━━╇━━━━━━━━━━━━━━━╇━━━━━━━━━━━━━━━━━━━━━━━╇━━━━━━━━━━━━━━━━━━━━━━━━━━╇━━━━━━━━━━━━━━━━━━━━━━━━━━━┩\n",
       "│\u001b[38;2;58;125;68m \u001b[0m\u001b[38;2;58;125;68m104049\u001b[0m\u001b[38;2;58;125;68m \u001b[0m│\u001b[38;2;48;76;137m \u001b[0m\u001b[38;2;48;76;137m1      \u001b[0m\u001b[38;2;48;76;137m \u001b[0m│\u001b[38;2;53;167;255m \u001b[0m\u001b[38;2;53;167;255m6.69324e-12  \u001b[0m\u001b[38;2;53;167;255m \u001b[0m│\u001b[38;2;248;225;108m \u001b[0m\u001b[38;2;248;225;108m327                  \u001b[0m\u001b[38;2;248;225;108m \u001b[0m│\u001b[38;2;242;66;54m \u001b[0m\u001b[38;2;242;66;54m2051.01                 \u001b[0m\u001b[38;2;242;66;54m \u001b[0m│\u001b[38;2;58;125;68m \u001b[0m\u001b[38;2;58;125;68m../data/lens_finding/Spa…\u001b[0m\u001b[38;2;58;125;68m \u001b[0m│\n",
       "│\u001b[38;2;58;125;68m \u001b[0m\u001b[38;2;58;125;68m111601\u001b[0m\u001b[38;2;58;125;68m \u001b[0m│\u001b[38;2;48;76;137m \u001b[0m\u001b[38;2;48;76;137m1      \u001b[0m\u001b[38;2;48;76;137m \u001b[0m│\u001b[38;2;53;167;255m \u001b[0m\u001b[38;2;53;167;255m2.05986e-11  \u001b[0m\u001b[38;2;53;167;255m \u001b[0m│\u001b[38;2;248;225;108m \u001b[0m\u001b[38;2;248;225;108m132                  \u001b[0m\u001b[38;2;248;225;108m \u001b[0m│\u001b[38;2;242;66;54m \u001b[0m\u001b[38;2;242;66;54m620.031                 \u001b[0m\u001b[38;2;242;66;54m \u001b[0m│\u001b[38;2;58;125;68m \u001b[0m\u001b[38;2;58;125;68m../data/lens_finding/Spa…\u001b[0m\u001b[38;2;58;125;68m \u001b[0m│\n",
       "│\u001b[38;2;58;125;68m \u001b[0m\u001b[38;2;58;125;68m106414\u001b[0m\u001b[38;2;58;125;68m \u001b[0m│\u001b[38;2;48;76;137m \u001b[0m\u001b[38;2;48;76;137m1      \u001b[0m\u001b[38;2;48;76;137m \u001b[0m│\u001b[38;2;53;167;255m \u001b[0m\u001b[38;2;53;167;255m8.80836e-10  \u001b[0m\u001b[38;2;53;167;255m \u001b[0m│\u001b[38;2;248;225;108m \u001b[0m\u001b[38;2;248;225;108m511                  \u001b[0m\u001b[38;2;248;225;108m \u001b[0m│\u001b[38;2;242;66;54m \u001b[0m\u001b[38;2;242;66;54m1858.27                 \u001b[0m\u001b[38;2;242;66;54m \u001b[0m│\u001b[38;2;58;125;68m \u001b[0m\u001b[38;2;58;125;68m../data/lens_finding/Spa…\u001b[0m\u001b[38;2;58;125;68m \u001b[0m│\n",
       "│\u001b[38;2;58;125;68m \u001b[0m\u001b[38;2;58;125;68m102563\u001b[0m\u001b[38;2;58;125;68m \u001b[0m│\u001b[38;2;48;76;137m \u001b[0m\u001b[38;2;48;76;137m1      \u001b[0m\u001b[38;2;48;76;137m \u001b[0m│\u001b[38;2;53;167;255m \u001b[0m\u001b[38;2;53;167;255m3.53756e-10  \u001b[0m\u001b[38;2;53;167;255m \u001b[0m│\u001b[38;2;248;225;108m \u001b[0m\u001b[38;2;248;225;108m599                  \u001b[0m\u001b[38;2;248;225;108m \u001b[0m│\u001b[38;2;242;66;54m \u001b[0m\u001b[38;2;242;66;54m1796.08                 \u001b[0m\u001b[38;2;242;66;54m \u001b[0m│\u001b[38;2;58;125;68m \u001b[0m\u001b[38;2;58;125;68m../data/lens_finding/Spa…\u001b[0m\u001b[38;2;58;125;68m \u001b[0m│\n",
       "│\u001b[38;2;58;125;68m \u001b[0m\u001b[38;2;58;125;68m101056\u001b[0m\u001b[38;2;58;125;68m \u001b[0m│\u001b[38;2;48;76;137m \u001b[0m\u001b[38;2;48;76;137m1      \u001b[0m\u001b[38;2;48;76;137m \u001b[0m│\u001b[38;2;53;167;255m \u001b[0m\u001b[38;2;53;167;255m2.87161e-10  \u001b[0m\u001b[38;2;53;167;255m \u001b[0m│\u001b[38;2;248;225;108m \u001b[0m\u001b[38;2;248;225;108m53                   \u001b[0m\u001b[38;2;248;225;108m \u001b[0m│\u001b[38;2;242;66;54m \u001b[0m\u001b[38;2;242;66;54m203.097                 \u001b[0m\u001b[38;2;242;66;54m \u001b[0m│\u001b[38;2;58;125;68m \u001b[0m\u001b[38;2;58;125;68m../data/lens_finding/Spa…\u001b[0m\u001b[38;2;58;125;68m \u001b[0m│\n",
       "└────────┴─────────┴───────────────┴───────────────────────┴──────────────────────────┴───────────────────────────┘\n",
       "\u001b[2;3m                                      This data originally has 18000 records.                                      \u001b[0m\n"
      ]
     },
     "metadata": {},
     "output_type": "display_data"
    }
   ],
   "source": [
    "df = addImagePaths(df, \"../data/lens_finding/SpaceBasedTraining/files\")\n",
    "view_table(df, title=\"Modified MetaData\")"
   ]
  },
  {
   "cell_type": "markdown",
   "id": "078227d3-7c39-4463-806f-f4e0e0225145",
   "metadata": {},
   "source": [
    "# Create DataLoaders"
   ]
  },
  {
   "cell_type": "code",
   "execution_count": 8,
   "id": "7a0c8b74-14a9-4745-ba19-b03364cbdac0",
   "metadata": {
    "tags": []
   },
   "outputs": [],
   "source": [
    "class LensFindingDataset(td.Dataset):\n",
    "    def __init__(self, data: \"pd.Dataframe\", resize: Optional[Tuple]=None, is_train: Optional[bool]=True):\n",
    "        \n",
    "        self.data = data\n",
    "        self.resize = resize if resize is not None else (224, 224)\n",
    "        self.is_train = is_train\n",
    "        \n",
    "        \n",
    "    def __len__(self):\n",
    "        return len(self.data)\n",
    "    \n",
    "    def __getitem__(self, idx):\n",
    "        \n",
    "        row = self.data.iloc[idx]\n",
    "        \n",
    "        img_path = row[\"img_path\"]\n",
    "        label = row[\"is_lens\"]\n",
    "        \n",
    "        img = fits.getdata(img_path)\n",
    "        img = np.expand_dims(img, axis=-1)\n",
    "        img = np.concatenate([img, img, img], axis=-1)\n",
    "        \n",
    "        other_features = np.array([row[\"Einstein_area\"], row[\"numb_pix_lensed_image\"], row[\"flux_lensed_image_in_sigma\"]])\n",
    "        \n",
    "        transformations = None\n",
    "        if self.is_train:\n",
    "            transformations = albumentations.Compose([\n",
    "                albumentations.RandomBrightnessContrast(),\n",
    "                albumentations.Rotate(),\n",
    "                albumentations.GaussianBlur(),\n",
    "                albumentations.GaussNoise(),\n",
    "                albumentations.ShiftScaleRotate(),\n",
    "                albumentations.GridDistortion(),\n",
    "                albumentations.OpticalDistortion(),\n",
    "                albumentations.HueSaturationValue(),\n",
    "                albumentations.Resize(self.resize[0], self.resize[1], always_apply=True),\n",
    "                albumentations.CenterCrop(self.resize[0], self.resize[1], always_apply=True)\n",
    "            ])\n",
    "            \n",
    "        else:\n",
    "            transformations = albumentations.Compose([\n",
    "                albumentations.Resize(self.resize[0], self.resize[1], always_apply=True),\n",
    "                albumentations.CenterCrop(self.resize[0], self.resize[1], always_apply=True)\n",
    "            ])\n",
    "            \n",
    "        \n",
    "        aug = transformations(image = img)\n",
    "        img = aug[\"image\"]\n",
    "        \n",
    "        img = np.transpose(img, (2, 0, 1)).astype(np.float32)\n",
    "        \n",
    "        return {\n",
    "            \"img\" : torch.tensor(img, dtype=torch.float),\n",
    "            \"label\" : torch.tensor(label, dtype=torch.float),\n",
    "            \"other_feats\" : torch.tensor(other_features, dtype=torch.float)\n",
    "        }\n",
    "        "
   ]
  },
  {
   "cell_type": "code",
   "execution_count": 9,
   "id": "746a2c0a-2f19-4a2f-a53e-52a54922565e",
   "metadata": {
    "tags": []
   },
   "outputs": [],
   "source": [
    "class LitLensFindingDataLoader(pl.LightningDataModule):\n",
    "    def __init__(self, data: \"pd.DataFrame\", resize: Optional[Tuple]=None, batch_sz: Optional[int]=64):\n",
    "        \n",
    "        self.data = data\n",
    "        self.resize = resize\n",
    "        self.batch_sz = batch_sz\n",
    "        \n",
    "        self.dataset = None\n",
    "        \n",
    "    def setup(self, stage:Optional[str] = None):\n",
    "        \n",
    "        if stage not in [\"train\", \"val\", \"test\"]:\n",
    "            raise Exception(f\"Expected value of stage to be either train/val/test. Found {stage}\")\n",
    "            \n",
    "        if stage == \"train\":\n",
    "            self.dataset = LensFindingDataset(self.data, resize=self.resize, is_train=True)\n",
    "            \n",
    "        else:\n",
    "            self.dataset = LensFindingDataset(self.data, resize=self.resize, is_train=False)\n",
    "            \n",
    "    def train_dataloader(self):\n",
    "        return td.DataLoader(self.dataset, batch_size=self.batch_sz, shuffle=True, num_workers=4, pin_memory=True)\n",
    "    \n",
    "    def val_dataloader(self):\n",
    "        return td.DataLoader(self.dataset, batch_size=self.batch_sz, shuffle=False, num_workers=4, pin_memory=True)\n",
    "    \n",
    "    def test_dataloader(self):\n",
    "        return td.DataLoader(self.dataset, batch_size=self.batch_sz, shuffle=False, num_workers=4, pin_memory=True)"
   ]
  },
  {
   "cell_type": "code",
   "execution_count": 10,
   "id": "0ac4b019-e86c-4e17-8be2-83be1debc89a",
   "metadata": {
    "tags": []
   },
   "outputs": [
    {
     "data": {
      "text/html": [
       "<pre style=\"white-space:pre;overflow-x:auto;line-height:normal;font-family:Menlo,'DejaVu Sans Mono',consolas,'Courier New',monospace\"><span style=\"color: #00ff00; text-decoration-color: #00ff00\">────────────────────────────────────────────────── </span><span style=\"color: #35a7ff; text-decoration-color: #35a7ff; font-weight: bold\">Training Data</span><span style=\"color: #00ff00; text-decoration-color: #00ff00\"> ──────────────────────────────────────────────────</span>\n",
       "</pre>\n"
      ],
      "text/plain": [
       "\u001b[92m────────────────────────────────────────────────── \u001b[0m\u001b[1;38;2;53;167;255mTraining Data\u001b[0m\u001b[92m ──────────────────────────────────────────────────\u001b[0m\n"
      ]
     },
     "metadata": {},
     "output_type": "display_data"
    },
    {
     "data": {
      "text/html": [
       "<pre style=\"white-space:pre;overflow-x:auto;line-height:normal;font-family:Menlo,'DejaVu Sans Mono',consolas,'Courier New',monospace\"><span style=\"font-style: italic\">                                                   Training Data                                                   </span>\n",
       "┏━━━━━━━━┳━━━━━━━━━┳━━━━━━━━━━━━━━━┳━━━━━━━━━━━━━━━━━━━━━━━┳━━━━━━━━━━━━━━━━━━━━━━━━━━┳━━━━━━━━━━━━━━━━━━━━━━━━━━━┓\n",
       "┃<span style=\"font-weight: bold\"> ID     </span>┃<span style=\"font-weight: bold\"> is_lens </span>┃<span style=\"font-weight: bold\"> Einstein_area </span>┃<span style=\"font-weight: bold\"> numb_pix_lensed_image </span>┃<span style=\"font-weight: bold\"> flux_lensed_image_in_si… </span>┃<span style=\"font-weight: bold\"> img_path                  </span>┃\n",
       "┡━━━━━━━━╇━━━━━━━━━╇━━━━━━━━━━━━━━━╇━━━━━━━━━━━━━━━━━━━━━━━╇━━━━━━━━━━━━━━━━━━━━━━━━━━╇━━━━━━━━━━━━━━━━━━━━━━━━━━━┩\n",
       "│<span style=\"color: #3a7d44; text-decoration-color: #3a7d44\"> 102942 </span>│<span style=\"color: #304c89; text-decoration-color: #304c89\"> 1       </span>│<span style=\"color: #35a7ff; text-decoration-color: #35a7ff\"> 1.55527e-10   </span>│<span style=\"color: #f8e16c; text-decoration-color: #f8e16c\"> 638                   </span>│<span style=\"color: #f24236; text-decoration-color: #f24236\"> 1687.67                  </span>│<span style=\"color: #3a7d44; text-decoration-color: #3a7d44\"> ../data/lens_finding/Spa… </span>│\n",
       "│<span style=\"color: #3a7d44; text-decoration-color: #3a7d44\"> 108528 </span>│<span style=\"color: #304c89; text-decoration-color: #304c89\"> 1       </span>│<span style=\"color: #35a7ff; text-decoration-color: #35a7ff\"> 2.23886e-11   </span>│<span style=\"color: #f8e16c; text-decoration-color: #f8e16c\"> 30                    </span>│<span style=\"color: #f24236; text-decoration-color: #f24236\"> 86.6408                  </span>│<span style=\"color: #3a7d44; text-decoration-color: #3a7d44\"> ../data/lens_finding/Spa… </span>│\n",
       "│<span style=\"color: #3a7d44; text-decoration-color: #3a7d44\"> 101163 </span>│<span style=\"color: #304c89; text-decoration-color: #304c89\"> 1       </span>│<span style=\"color: #35a7ff; text-decoration-color: #35a7ff\"> 1.64322e-10   </span>│<span style=\"color: #f8e16c; text-decoration-color: #f8e16c\"> 527                   </span>│<span style=\"color: #f24236; text-decoration-color: #f24236\"> 880.99                   </span>│<span style=\"color: #3a7d44; text-decoration-color: #3a7d44\"> ../data/lens_finding/Spa… </span>│\n",
       "│<span style=\"color: #3a7d44; text-decoration-color: #3a7d44\"> 111399 </span>│<span style=\"color: #304c89; text-decoration-color: #304c89\"> 1       </span>│<span style=\"color: #35a7ff; text-decoration-color: #35a7ff\"> 5.52582e-12   </span>│<span style=\"color: #f8e16c; text-decoration-color: #f8e16c\"> 314                   </span>│<span style=\"color: #f24236; text-decoration-color: #f24236\"> 1354.33                  </span>│<span style=\"color: #3a7d44; text-decoration-color: #3a7d44\"> ../data/lens_finding/Spa… </span>│\n",
       "│<span style=\"color: #3a7d44; text-decoration-color: #3a7d44\"> 110615 </span>│<span style=\"color: #304c89; text-decoration-color: #304c89\"> 1       </span>│<span style=\"color: #35a7ff; text-decoration-color: #35a7ff\"> 1.83426e-09   </span>│<span style=\"color: #f8e16c; text-decoration-color: #f8e16c\"> 146                   </span>│<span style=\"color: #f24236; text-decoration-color: #f24236\"> 28233.6                  </span>│<span style=\"color: #3a7d44; text-decoration-color: #3a7d44\"> ../data/lens_finding/Spa… </span>│\n",
       "└────────┴─────────┴───────────────┴───────────────────────┴──────────────────────────┴───────────────────────────┘\n",
       "<span style=\"color: #7f7f7f; text-decoration-color: #7f7f7f; font-style: italic\">                                      This data originally has 16200 records.                                      </span>\n",
       "</pre>\n"
      ],
      "text/plain": [
       "\u001b[3m                                                   Training Data                                                   \u001b[0m\n",
       "┏━━━━━━━━┳━━━━━━━━━┳━━━━━━━━━━━━━━━┳━━━━━━━━━━━━━━━━━━━━━━━┳━━━━━━━━━━━━━━━━━━━━━━━━━━┳━━━━━━━━━━━━━━━━━━━━━━━━━━━┓\n",
       "┃\u001b[1m \u001b[0m\u001b[1mID    \u001b[0m\u001b[1m \u001b[0m┃\u001b[1m \u001b[0m\u001b[1mis_lens\u001b[0m\u001b[1m \u001b[0m┃\u001b[1m \u001b[0m\u001b[1mEinstein_area\u001b[0m\u001b[1m \u001b[0m┃\u001b[1m \u001b[0m\u001b[1mnumb_pix_lensed_image\u001b[0m\u001b[1m \u001b[0m┃\u001b[1m \u001b[0m\u001b[1mflux_lensed_image_in_si…\u001b[0m\u001b[1m \u001b[0m┃\u001b[1m \u001b[0m\u001b[1mimg_path                 \u001b[0m\u001b[1m \u001b[0m┃\n",
       "┡━━━━━━━━╇━━━━━━━━━╇━━━━━━━━━━━━━━━╇━━━━━━━━━━━━━━━━━━━━━━━╇━━━━━━━━━━━━━━━━━━━━━━━━━━╇━━━━━━━━━━━━━━━━━━━━━━━━━━━┩\n",
       "│\u001b[38;2;58;125;68m \u001b[0m\u001b[38;2;58;125;68m102942\u001b[0m\u001b[38;2;58;125;68m \u001b[0m│\u001b[38;2;48;76;137m \u001b[0m\u001b[38;2;48;76;137m1      \u001b[0m\u001b[38;2;48;76;137m \u001b[0m│\u001b[38;2;53;167;255m \u001b[0m\u001b[38;2;53;167;255m1.55527e-10  \u001b[0m\u001b[38;2;53;167;255m \u001b[0m│\u001b[38;2;248;225;108m \u001b[0m\u001b[38;2;248;225;108m638                  \u001b[0m\u001b[38;2;248;225;108m \u001b[0m│\u001b[38;2;242;66;54m \u001b[0m\u001b[38;2;242;66;54m1687.67                 \u001b[0m\u001b[38;2;242;66;54m \u001b[0m│\u001b[38;2;58;125;68m \u001b[0m\u001b[38;2;58;125;68m../data/lens_finding/Spa…\u001b[0m\u001b[38;2;58;125;68m \u001b[0m│\n",
       "│\u001b[38;2;58;125;68m \u001b[0m\u001b[38;2;58;125;68m108528\u001b[0m\u001b[38;2;58;125;68m \u001b[0m│\u001b[38;2;48;76;137m \u001b[0m\u001b[38;2;48;76;137m1      \u001b[0m\u001b[38;2;48;76;137m \u001b[0m│\u001b[38;2;53;167;255m \u001b[0m\u001b[38;2;53;167;255m2.23886e-11  \u001b[0m\u001b[38;2;53;167;255m \u001b[0m│\u001b[38;2;248;225;108m \u001b[0m\u001b[38;2;248;225;108m30                   \u001b[0m\u001b[38;2;248;225;108m \u001b[0m│\u001b[38;2;242;66;54m \u001b[0m\u001b[38;2;242;66;54m86.6408                 \u001b[0m\u001b[38;2;242;66;54m \u001b[0m│\u001b[38;2;58;125;68m \u001b[0m\u001b[38;2;58;125;68m../data/lens_finding/Spa…\u001b[0m\u001b[38;2;58;125;68m \u001b[0m│\n",
       "│\u001b[38;2;58;125;68m \u001b[0m\u001b[38;2;58;125;68m101163\u001b[0m\u001b[38;2;58;125;68m \u001b[0m│\u001b[38;2;48;76;137m \u001b[0m\u001b[38;2;48;76;137m1      \u001b[0m\u001b[38;2;48;76;137m \u001b[0m│\u001b[38;2;53;167;255m \u001b[0m\u001b[38;2;53;167;255m1.64322e-10  \u001b[0m\u001b[38;2;53;167;255m \u001b[0m│\u001b[38;2;248;225;108m \u001b[0m\u001b[38;2;248;225;108m527                  \u001b[0m\u001b[38;2;248;225;108m \u001b[0m│\u001b[38;2;242;66;54m \u001b[0m\u001b[38;2;242;66;54m880.99                  \u001b[0m\u001b[38;2;242;66;54m \u001b[0m│\u001b[38;2;58;125;68m \u001b[0m\u001b[38;2;58;125;68m../data/lens_finding/Spa…\u001b[0m\u001b[38;2;58;125;68m \u001b[0m│\n",
       "│\u001b[38;2;58;125;68m \u001b[0m\u001b[38;2;58;125;68m111399\u001b[0m\u001b[38;2;58;125;68m \u001b[0m│\u001b[38;2;48;76;137m \u001b[0m\u001b[38;2;48;76;137m1      \u001b[0m\u001b[38;2;48;76;137m \u001b[0m│\u001b[38;2;53;167;255m \u001b[0m\u001b[38;2;53;167;255m5.52582e-12  \u001b[0m\u001b[38;2;53;167;255m \u001b[0m│\u001b[38;2;248;225;108m \u001b[0m\u001b[38;2;248;225;108m314                  \u001b[0m\u001b[38;2;248;225;108m \u001b[0m│\u001b[38;2;242;66;54m \u001b[0m\u001b[38;2;242;66;54m1354.33                 \u001b[0m\u001b[38;2;242;66;54m \u001b[0m│\u001b[38;2;58;125;68m \u001b[0m\u001b[38;2;58;125;68m../data/lens_finding/Spa…\u001b[0m\u001b[38;2;58;125;68m \u001b[0m│\n",
       "│\u001b[38;2;58;125;68m \u001b[0m\u001b[38;2;58;125;68m110615\u001b[0m\u001b[38;2;58;125;68m \u001b[0m│\u001b[38;2;48;76;137m \u001b[0m\u001b[38;2;48;76;137m1      \u001b[0m\u001b[38;2;48;76;137m \u001b[0m│\u001b[38;2;53;167;255m \u001b[0m\u001b[38;2;53;167;255m1.83426e-09  \u001b[0m\u001b[38;2;53;167;255m \u001b[0m│\u001b[38;2;248;225;108m \u001b[0m\u001b[38;2;248;225;108m146                  \u001b[0m\u001b[38;2;248;225;108m \u001b[0m│\u001b[38;2;242;66;54m \u001b[0m\u001b[38;2;242;66;54m28233.6                 \u001b[0m\u001b[38;2;242;66;54m \u001b[0m│\u001b[38;2;58;125;68m \u001b[0m\u001b[38;2;58;125;68m../data/lens_finding/Spa…\u001b[0m\u001b[38;2;58;125;68m \u001b[0m│\n",
       "└────────┴─────────┴───────────────┴───────────────────────┴──────────────────────────┴───────────────────────────┘\n",
       "\u001b[2;3m                                      This data originally has 16200 records.                                      \u001b[0m\n"
      ]
     },
     "metadata": {},
     "output_type": "display_data"
    },
    {
     "data": {
      "text/html": [
       "<pre style=\"white-space:pre;overflow-x:auto;line-height:normal;font-family:Menlo,'DejaVu Sans Mono',consolas,'Courier New',monospace\"><span style=\"color: #00ff00; text-decoration-color: #00ff00\">───────────────────────────────────────────────── </span><span style=\"color: #35a7ff; text-decoration-color: #35a7ff; font-weight: bold\">Validation Data</span><span style=\"color: #00ff00; text-decoration-color: #00ff00\"> ─────────────────────────────────────────────────</span>\n",
       "</pre>\n"
      ],
      "text/plain": [
       "\u001b[92m───────────────────────────────────────────────── \u001b[0m\u001b[1;38;2;53;167;255mValidation Data\u001b[0m\u001b[92m ─────────────────────────────────────────────────\u001b[0m\n"
      ]
     },
     "metadata": {},
     "output_type": "display_data"
    },
    {
     "data": {
      "text/html": [
       "<pre style=\"white-space:pre;overflow-x:auto;line-height:normal;font-family:Menlo,'DejaVu Sans Mono',consolas,'Courier New',monospace\"><span style=\"font-style: italic\">                                                  Validation Data                                                  </span>\n",
       "┏━━━━━━━━┳━━━━━━━━━┳━━━━━━━━━━━━━━━┳━━━━━━━━━━━━━━━━━━━━━━━┳━━━━━━━━━━━━━━━━━━━━━━━━━━┳━━━━━━━━━━━━━━━━━━━━━━━━━━━┓\n",
       "┃<span style=\"font-weight: bold\"> ID     </span>┃<span style=\"font-weight: bold\"> is_lens </span>┃<span style=\"font-weight: bold\"> Einstein_area </span>┃<span style=\"font-weight: bold\"> numb_pix_lensed_image </span>┃<span style=\"font-weight: bold\"> flux_lensed_image_in_si… </span>┃<span style=\"font-weight: bold\"> img_path                  </span>┃\n",
       "┡━━━━━━━━╇━━━━━━━━━╇━━━━━━━━━━━━━━━╇━━━━━━━━━━━━━━━━━━━━━━━╇━━━━━━━━━━━━━━━━━━━━━━━━━━╇━━━━━━━━━━━━━━━━━━━━━━━━━━━┩\n",
       "│<span style=\"color: #3a7d44; text-decoration-color: #3a7d44\"> 100991 </span>│<span style=\"color: #304c89; text-decoration-color: #304c89\"> 0       </span>│<span style=\"color: #35a7ff; text-decoration-color: #35a7ff\"> 1.85525e-09   </span>│<span style=\"color: #f8e16c; text-decoration-color: #f8e16c\"> 0                     </span>│<span style=\"color: #f24236; text-decoration-color: #f24236\"> 0.0                      </span>│<span style=\"color: #3a7d44; text-decoration-color: #3a7d44\"> ../data/lens_finding/Spa… </span>│\n",
       "│<span style=\"color: #3a7d44; text-decoration-color: #3a7d44\"> 104325 </span>│<span style=\"color: #304c89; text-decoration-color: #304c89\"> 1       </span>│<span style=\"color: #35a7ff; text-decoration-color: #35a7ff\"> 7.28941e-10   </span>│<span style=\"color: #f8e16c; text-decoration-color: #f8e16c\"> 920                   </span>│<span style=\"color: #f24236; text-decoration-color: #f24236\"> 1777.84                  </span>│<span style=\"color: #3a7d44; text-decoration-color: #3a7d44\"> ../data/lens_finding/Spa… </span>│\n",
       "│<span style=\"color: #3a7d44; text-decoration-color: #3a7d44\"> 107192 </span>│<span style=\"color: #304c89; text-decoration-color: #304c89\"> 1       </span>│<span style=\"color: #35a7ff; text-decoration-color: #35a7ff\"> 5.26639e-12   </span>│<span style=\"color: #f8e16c; text-decoration-color: #f8e16c\"> 62                    </span>│<span style=\"color: #f24236; text-decoration-color: #f24236\"> 633.679                  </span>│<span style=\"color: #3a7d44; text-decoration-color: #3a7d44\"> ../data/lens_finding/Spa… </span>│\n",
       "│<span style=\"color: #3a7d44; text-decoration-color: #3a7d44\"> 117984 </span>│<span style=\"color: #304c89; text-decoration-color: #304c89\"> 1       </span>│<span style=\"color: #35a7ff; text-decoration-color: #35a7ff\"> 2.54239e-12   </span>│<span style=\"color: #f8e16c; text-decoration-color: #f8e16c\"> 72                    </span>│<span style=\"color: #f24236; text-decoration-color: #f24236\"> 126.21                   </span>│<span style=\"color: #3a7d44; text-decoration-color: #3a7d44\"> ../data/lens_finding/Spa… </span>│\n",
       "│<span style=\"color: #3a7d44; text-decoration-color: #3a7d44\"> 105907 </span>│<span style=\"color: #304c89; text-decoration-color: #304c89\"> 1       </span>│<span style=\"color: #35a7ff; text-decoration-color: #35a7ff\"> 8.60393e-10   </span>│<span style=\"color: #f8e16c; text-decoration-color: #f8e16c\"> 970                   </span>│<span style=\"color: #f24236; text-decoration-color: #f24236\"> 2877.71                  </span>│<span style=\"color: #3a7d44; text-decoration-color: #3a7d44\"> ../data/lens_finding/Spa… </span>│\n",
       "└────────┴─────────┴───────────────┴───────────────────────┴──────────────────────────┴───────────────────────────┘\n",
       "<span style=\"color: #7f7f7f; text-decoration-color: #7f7f7f; font-style: italic\">                                       This data originally has 900 records.                                       </span>\n",
       "</pre>\n"
      ],
      "text/plain": [
       "\u001b[3m                                                  Validation Data                                                  \u001b[0m\n",
       "┏━━━━━━━━┳━━━━━━━━━┳━━━━━━━━━━━━━━━┳━━━━━━━━━━━━━━━━━━━━━━━┳━━━━━━━━━━━━━━━━━━━━━━━━━━┳━━━━━━━━━━━━━━━━━━━━━━━━━━━┓\n",
       "┃\u001b[1m \u001b[0m\u001b[1mID    \u001b[0m\u001b[1m \u001b[0m┃\u001b[1m \u001b[0m\u001b[1mis_lens\u001b[0m\u001b[1m \u001b[0m┃\u001b[1m \u001b[0m\u001b[1mEinstein_area\u001b[0m\u001b[1m \u001b[0m┃\u001b[1m \u001b[0m\u001b[1mnumb_pix_lensed_image\u001b[0m\u001b[1m \u001b[0m┃\u001b[1m \u001b[0m\u001b[1mflux_lensed_image_in_si…\u001b[0m\u001b[1m \u001b[0m┃\u001b[1m \u001b[0m\u001b[1mimg_path                 \u001b[0m\u001b[1m \u001b[0m┃\n",
       "┡━━━━━━━━╇━━━━━━━━━╇━━━━━━━━━━━━━━━╇━━━━━━━━━━━━━━━━━━━━━━━╇━━━━━━━━━━━━━━━━━━━━━━━━━━╇━━━━━━━━━━━━━━━━━━━━━━━━━━━┩\n",
       "│\u001b[38;2;58;125;68m \u001b[0m\u001b[38;2;58;125;68m100991\u001b[0m\u001b[38;2;58;125;68m \u001b[0m│\u001b[38;2;48;76;137m \u001b[0m\u001b[38;2;48;76;137m0      \u001b[0m\u001b[38;2;48;76;137m \u001b[0m│\u001b[38;2;53;167;255m \u001b[0m\u001b[38;2;53;167;255m1.85525e-09  \u001b[0m\u001b[38;2;53;167;255m \u001b[0m│\u001b[38;2;248;225;108m \u001b[0m\u001b[38;2;248;225;108m0                    \u001b[0m\u001b[38;2;248;225;108m \u001b[0m│\u001b[38;2;242;66;54m \u001b[0m\u001b[38;2;242;66;54m0.0                     \u001b[0m\u001b[38;2;242;66;54m \u001b[0m│\u001b[38;2;58;125;68m \u001b[0m\u001b[38;2;58;125;68m../data/lens_finding/Spa…\u001b[0m\u001b[38;2;58;125;68m \u001b[0m│\n",
       "│\u001b[38;2;58;125;68m \u001b[0m\u001b[38;2;58;125;68m104325\u001b[0m\u001b[38;2;58;125;68m \u001b[0m│\u001b[38;2;48;76;137m \u001b[0m\u001b[38;2;48;76;137m1      \u001b[0m\u001b[38;2;48;76;137m \u001b[0m│\u001b[38;2;53;167;255m \u001b[0m\u001b[38;2;53;167;255m7.28941e-10  \u001b[0m\u001b[38;2;53;167;255m \u001b[0m│\u001b[38;2;248;225;108m \u001b[0m\u001b[38;2;248;225;108m920                  \u001b[0m\u001b[38;2;248;225;108m \u001b[0m│\u001b[38;2;242;66;54m \u001b[0m\u001b[38;2;242;66;54m1777.84                 \u001b[0m\u001b[38;2;242;66;54m \u001b[0m│\u001b[38;2;58;125;68m \u001b[0m\u001b[38;2;58;125;68m../data/lens_finding/Spa…\u001b[0m\u001b[38;2;58;125;68m \u001b[0m│\n",
       "│\u001b[38;2;58;125;68m \u001b[0m\u001b[38;2;58;125;68m107192\u001b[0m\u001b[38;2;58;125;68m \u001b[0m│\u001b[38;2;48;76;137m \u001b[0m\u001b[38;2;48;76;137m1      \u001b[0m\u001b[38;2;48;76;137m \u001b[0m│\u001b[38;2;53;167;255m \u001b[0m\u001b[38;2;53;167;255m5.26639e-12  \u001b[0m\u001b[38;2;53;167;255m \u001b[0m│\u001b[38;2;248;225;108m \u001b[0m\u001b[38;2;248;225;108m62                   \u001b[0m\u001b[38;2;248;225;108m \u001b[0m│\u001b[38;2;242;66;54m \u001b[0m\u001b[38;2;242;66;54m633.679                 \u001b[0m\u001b[38;2;242;66;54m \u001b[0m│\u001b[38;2;58;125;68m \u001b[0m\u001b[38;2;58;125;68m../data/lens_finding/Spa…\u001b[0m\u001b[38;2;58;125;68m \u001b[0m│\n",
       "│\u001b[38;2;58;125;68m \u001b[0m\u001b[38;2;58;125;68m117984\u001b[0m\u001b[38;2;58;125;68m \u001b[0m│\u001b[38;2;48;76;137m \u001b[0m\u001b[38;2;48;76;137m1      \u001b[0m\u001b[38;2;48;76;137m \u001b[0m│\u001b[38;2;53;167;255m \u001b[0m\u001b[38;2;53;167;255m2.54239e-12  \u001b[0m\u001b[38;2;53;167;255m \u001b[0m│\u001b[38;2;248;225;108m \u001b[0m\u001b[38;2;248;225;108m72                   \u001b[0m\u001b[38;2;248;225;108m \u001b[0m│\u001b[38;2;242;66;54m \u001b[0m\u001b[38;2;242;66;54m126.21                  \u001b[0m\u001b[38;2;242;66;54m \u001b[0m│\u001b[38;2;58;125;68m \u001b[0m\u001b[38;2;58;125;68m../data/lens_finding/Spa…\u001b[0m\u001b[38;2;58;125;68m \u001b[0m│\n",
       "│\u001b[38;2;58;125;68m \u001b[0m\u001b[38;2;58;125;68m105907\u001b[0m\u001b[38;2;58;125;68m \u001b[0m│\u001b[38;2;48;76;137m \u001b[0m\u001b[38;2;48;76;137m1      \u001b[0m\u001b[38;2;48;76;137m \u001b[0m│\u001b[38;2;53;167;255m \u001b[0m\u001b[38;2;53;167;255m8.60393e-10  \u001b[0m\u001b[38;2;53;167;255m \u001b[0m│\u001b[38;2;248;225;108m \u001b[0m\u001b[38;2;248;225;108m970                  \u001b[0m\u001b[38;2;248;225;108m \u001b[0m│\u001b[38;2;242;66;54m \u001b[0m\u001b[38;2;242;66;54m2877.71                 \u001b[0m\u001b[38;2;242;66;54m \u001b[0m│\u001b[38;2;58;125;68m \u001b[0m\u001b[38;2;58;125;68m../data/lens_finding/Spa…\u001b[0m\u001b[38;2;58;125;68m \u001b[0m│\n",
       "└────────┴─────────┴───────────────┴───────────────────────┴──────────────────────────┴───────────────────────────┘\n",
       "\u001b[2;3m                                       This data originally has 900 records.                                       \u001b[0m\n"
      ]
     },
     "metadata": {},
     "output_type": "display_data"
    },
    {
     "data": {
      "text/html": [
       "<pre style=\"white-space:pre;overflow-x:auto;line-height:normal;font-family:Menlo,'DejaVu Sans Mono',consolas,'Courier New',monospace\"><span style=\"color: #00ff00; text-decoration-color: #00ff00\">──────────────────────────────────────────────────── </span><span style=\"color: #35a7ff; text-decoration-color: #35a7ff; font-weight: bold\">Test Data</span><span style=\"color: #00ff00; text-decoration-color: #00ff00\"> ────────────────────────────────────────────────────</span>\n",
       "</pre>\n"
      ],
      "text/plain": [
       "\u001b[92m──────────────────────────────────────────────────── \u001b[0m\u001b[1;38;2;53;167;255mTest Data\u001b[0m\u001b[92m ────────────────────────────────────────────────────\u001b[0m\n"
      ]
     },
     "metadata": {},
     "output_type": "display_data"
    },
    {
     "data": {
      "text/html": [
       "<pre style=\"white-space:pre;overflow-x:auto;line-height:normal;font-family:Menlo,'DejaVu Sans Mono',consolas,'Courier New',monospace\"><span style=\"font-style: italic\">                                                     Test Data                                                     </span>\n",
       "┏━━━━━━━━┳━━━━━━━━━┳━━━━━━━━━━━━━━━┳━━━━━━━━━━━━━━━━━━━━━━━┳━━━━━━━━━━━━━━━━━━━━━━━━━━┳━━━━━━━━━━━━━━━━━━━━━━━━━━━┓\n",
       "┃<span style=\"font-weight: bold\"> ID     </span>┃<span style=\"font-weight: bold\"> is_lens </span>┃<span style=\"font-weight: bold\"> Einstein_area </span>┃<span style=\"font-weight: bold\"> numb_pix_lensed_image </span>┃<span style=\"font-weight: bold\"> flux_lensed_image_in_si… </span>┃<span style=\"font-weight: bold\"> img_path                  </span>┃\n",
       "┡━━━━━━━━╇━━━━━━━━━╇━━━━━━━━━━━━━━━╇━━━━━━━━━━━━━━━━━━━━━━━╇━━━━━━━━━━━━━━━━━━━━━━━━━━╇━━━━━━━━━━━━━━━━━━━━━━━━━━━┩\n",
       "│<span style=\"color: #3a7d44; text-decoration-color: #3a7d44\"> 104828 </span>│<span style=\"color: #304c89; text-decoration-color: #304c89\"> 1       </span>│<span style=\"color: #35a7ff; text-decoration-color: #35a7ff\"> 5.11073e-12   </span>│<span style=\"color: #f8e16c; text-decoration-color: #f8e16c\"> 135                   </span>│<span style=\"color: #f24236; text-decoration-color: #f24236\"> 760.195                  </span>│<span style=\"color: #3a7d44; text-decoration-color: #3a7d44\"> ../data/lens_finding/Spa… </span>│\n",
       "│<span style=\"color: #3a7d44; text-decoration-color: #3a7d44\"> 107611 </span>│<span style=\"color: #304c89; text-decoration-color: #304c89\"> 1       </span>│<span style=\"color: #35a7ff; text-decoration-color: #35a7ff\"> 2.69805e-12   </span>│<span style=\"color: #f8e16c; text-decoration-color: #f8e16c\"> 98                    </span>│<span style=\"color: #f24236; text-decoration-color: #f24236\"> 291.418                  </span>│<span style=\"color: #3a7d44; text-decoration-color: #3a7d44\"> ../data/lens_finding/Spa… </span>│\n",
       "│<span style=\"color: #3a7d44; text-decoration-color: #3a7d44\"> 111913 </span>│<span style=\"color: #304c89; text-decoration-color: #304c89\"> 1       </span>│<span style=\"color: #35a7ff; text-decoration-color: #35a7ff\"> 1.816e-12     </span>│<span style=\"color: #f8e16c; text-decoration-color: #f8e16c\"> 202                   </span>│<span style=\"color: #f24236; text-decoration-color: #f24236\"> 1308.34                  </span>│<span style=\"color: #3a7d44; text-decoration-color: #3a7d44\"> ../data/lens_finding/Spa… </span>│\n",
       "│<span style=\"color: #3a7d44; text-decoration-color: #3a7d44\"> 115437 </span>│<span style=\"color: #304c89; text-decoration-color: #304c89\"> 1       </span>│<span style=\"color: #35a7ff; text-decoration-color: #35a7ff\"> 1.48725e-09   </span>│<span style=\"color: #f8e16c; text-decoration-color: #f8e16c\"> 1527                  </span>│<span style=\"color: #f24236; text-decoration-color: #f24236\"> 7123.97                  </span>│<span style=\"color: #3a7d44; text-decoration-color: #3a7d44\"> ../data/lens_finding/Spa… </span>│\n",
       "│<span style=\"color: #3a7d44; text-decoration-color: #3a7d44\"> 101047 </span>│<span style=\"color: #304c89; text-decoration-color: #304c89\"> 1       </span>│<span style=\"color: #35a7ff; text-decoration-color: #35a7ff\"> 1.77965e-09   </span>│<span style=\"color: #f8e16c; text-decoration-color: #f8e16c\"> 6699                  </span>│<span style=\"color: #f24236; text-decoration-color: #f24236\"> 63682.5                  </span>│<span style=\"color: #3a7d44; text-decoration-color: #3a7d44\"> ../data/lens_finding/Spa… </span>│\n",
       "└────────┴─────────┴───────────────┴───────────────────────┴──────────────────────────┴───────────────────────────┘\n",
       "<span style=\"color: #7f7f7f; text-decoration-color: #7f7f7f; font-style: italic\">                                       This data originally has 900 records.                                       </span>\n",
       "</pre>\n"
      ],
      "text/plain": [
       "\u001b[3m                                                     Test Data                                                     \u001b[0m\n",
       "┏━━━━━━━━┳━━━━━━━━━┳━━━━━━━━━━━━━━━┳━━━━━━━━━━━━━━━━━━━━━━━┳━━━━━━━━━━━━━━━━━━━━━━━━━━┳━━━━━━━━━━━━━━━━━━━━━━━━━━━┓\n",
       "┃\u001b[1m \u001b[0m\u001b[1mID    \u001b[0m\u001b[1m \u001b[0m┃\u001b[1m \u001b[0m\u001b[1mis_lens\u001b[0m\u001b[1m \u001b[0m┃\u001b[1m \u001b[0m\u001b[1mEinstein_area\u001b[0m\u001b[1m \u001b[0m┃\u001b[1m \u001b[0m\u001b[1mnumb_pix_lensed_image\u001b[0m\u001b[1m \u001b[0m┃\u001b[1m \u001b[0m\u001b[1mflux_lensed_image_in_si…\u001b[0m\u001b[1m \u001b[0m┃\u001b[1m \u001b[0m\u001b[1mimg_path                 \u001b[0m\u001b[1m \u001b[0m┃\n",
       "┡━━━━━━━━╇━━━━━━━━━╇━━━━━━━━━━━━━━━╇━━━━━━━━━━━━━━━━━━━━━━━╇━━━━━━━━━━━━━━━━━━━━━━━━━━╇━━━━━━━━━━━━━━━━━━━━━━━━━━━┩\n",
       "│\u001b[38;2;58;125;68m \u001b[0m\u001b[38;2;58;125;68m104828\u001b[0m\u001b[38;2;58;125;68m \u001b[0m│\u001b[38;2;48;76;137m \u001b[0m\u001b[38;2;48;76;137m1      \u001b[0m\u001b[38;2;48;76;137m \u001b[0m│\u001b[38;2;53;167;255m \u001b[0m\u001b[38;2;53;167;255m5.11073e-12  \u001b[0m\u001b[38;2;53;167;255m \u001b[0m│\u001b[38;2;248;225;108m \u001b[0m\u001b[38;2;248;225;108m135                  \u001b[0m\u001b[38;2;248;225;108m \u001b[0m│\u001b[38;2;242;66;54m \u001b[0m\u001b[38;2;242;66;54m760.195                 \u001b[0m\u001b[38;2;242;66;54m \u001b[0m│\u001b[38;2;58;125;68m \u001b[0m\u001b[38;2;58;125;68m../data/lens_finding/Spa…\u001b[0m\u001b[38;2;58;125;68m \u001b[0m│\n",
       "│\u001b[38;2;58;125;68m \u001b[0m\u001b[38;2;58;125;68m107611\u001b[0m\u001b[38;2;58;125;68m \u001b[0m│\u001b[38;2;48;76;137m \u001b[0m\u001b[38;2;48;76;137m1      \u001b[0m\u001b[38;2;48;76;137m \u001b[0m│\u001b[38;2;53;167;255m \u001b[0m\u001b[38;2;53;167;255m2.69805e-12  \u001b[0m\u001b[38;2;53;167;255m \u001b[0m│\u001b[38;2;248;225;108m \u001b[0m\u001b[38;2;248;225;108m98                   \u001b[0m\u001b[38;2;248;225;108m \u001b[0m│\u001b[38;2;242;66;54m \u001b[0m\u001b[38;2;242;66;54m291.418                 \u001b[0m\u001b[38;2;242;66;54m \u001b[0m│\u001b[38;2;58;125;68m \u001b[0m\u001b[38;2;58;125;68m../data/lens_finding/Spa…\u001b[0m\u001b[38;2;58;125;68m \u001b[0m│\n",
       "│\u001b[38;2;58;125;68m \u001b[0m\u001b[38;2;58;125;68m111913\u001b[0m\u001b[38;2;58;125;68m \u001b[0m│\u001b[38;2;48;76;137m \u001b[0m\u001b[38;2;48;76;137m1      \u001b[0m\u001b[38;2;48;76;137m \u001b[0m│\u001b[38;2;53;167;255m \u001b[0m\u001b[38;2;53;167;255m1.816e-12    \u001b[0m\u001b[38;2;53;167;255m \u001b[0m│\u001b[38;2;248;225;108m \u001b[0m\u001b[38;2;248;225;108m202                  \u001b[0m\u001b[38;2;248;225;108m \u001b[0m│\u001b[38;2;242;66;54m \u001b[0m\u001b[38;2;242;66;54m1308.34                 \u001b[0m\u001b[38;2;242;66;54m \u001b[0m│\u001b[38;2;58;125;68m \u001b[0m\u001b[38;2;58;125;68m../data/lens_finding/Spa…\u001b[0m\u001b[38;2;58;125;68m \u001b[0m│\n",
       "│\u001b[38;2;58;125;68m \u001b[0m\u001b[38;2;58;125;68m115437\u001b[0m\u001b[38;2;58;125;68m \u001b[0m│\u001b[38;2;48;76;137m \u001b[0m\u001b[38;2;48;76;137m1      \u001b[0m\u001b[38;2;48;76;137m \u001b[0m│\u001b[38;2;53;167;255m \u001b[0m\u001b[38;2;53;167;255m1.48725e-09  \u001b[0m\u001b[38;2;53;167;255m \u001b[0m│\u001b[38;2;248;225;108m \u001b[0m\u001b[38;2;248;225;108m1527                 \u001b[0m\u001b[38;2;248;225;108m \u001b[0m│\u001b[38;2;242;66;54m \u001b[0m\u001b[38;2;242;66;54m7123.97                 \u001b[0m\u001b[38;2;242;66;54m \u001b[0m│\u001b[38;2;58;125;68m \u001b[0m\u001b[38;2;58;125;68m../data/lens_finding/Spa…\u001b[0m\u001b[38;2;58;125;68m \u001b[0m│\n",
       "│\u001b[38;2;58;125;68m \u001b[0m\u001b[38;2;58;125;68m101047\u001b[0m\u001b[38;2;58;125;68m \u001b[0m│\u001b[38;2;48;76;137m \u001b[0m\u001b[38;2;48;76;137m1      \u001b[0m\u001b[38;2;48;76;137m \u001b[0m│\u001b[38;2;53;167;255m \u001b[0m\u001b[38;2;53;167;255m1.77965e-09  \u001b[0m\u001b[38;2;53;167;255m \u001b[0m│\u001b[38;2;248;225;108m \u001b[0m\u001b[38;2;248;225;108m6699                 \u001b[0m\u001b[38;2;248;225;108m \u001b[0m│\u001b[38;2;242;66;54m \u001b[0m\u001b[38;2;242;66;54m63682.5                 \u001b[0m\u001b[38;2;242;66;54m \u001b[0m│\u001b[38;2;58;125;68m \u001b[0m\u001b[38;2;58;125;68m../data/lens_finding/Spa…\u001b[0m\u001b[38;2;58;125;68m \u001b[0m│\n",
       "└────────┴─────────┴───────────────┴───────────────────────┴──────────────────────────┴───────────────────────────┘\n",
       "\u001b[2;3m                                       This data originally has 900 records.                                       \u001b[0m\n"
      ]
     },
     "metadata": {},
     "output_type": "display_data"
    }
   ],
   "source": [
    "df_train, df_test = train_test_split(df, test_size=.1, random_state=32, shuffle=True, stratify=df[\"is_lens\"])\n",
    "df_val, df_test = train_test_split(df_test, test_size=.5, random_state=32, stratify=df_test['is_lens'])\n",
    "\n",
    "\n",
    "view_table(df_train, title=\"Training Data\", rule=True)\n",
    "view_table(df_val, title=\"Validation Data\", rule=True)\n",
    "view_table(df_test, title=\"Test Data\", rule=True)"
   ]
  },
  {
   "cell_type": "code",
   "execution_count": 11,
   "id": "edc89aac-eb73-4405-9cb1-6a8ae307e03b",
   "metadata": {
    "tags": []
   },
   "outputs": [
    {
     "data": {
      "text/html": [
       "<pre style=\"white-space:pre;overflow-x:auto;line-height:normal;font-family:Menlo,'DejaVu Sans Mono',consolas,'Courier New',monospace\"><span style=\"color: #00ff00; text-decoration-color: #00ff00\">────────────────────────────────────── </span><span style=\"color: #35a7ff; text-decoration-color: #35a7ff; font-weight: bold\">Training Data (After Transformation)</span><span style=\"color: #00ff00; text-decoration-color: #00ff00\"> ───────────────────────────────────────</span>\n",
       "</pre>\n"
      ],
      "text/plain": [
       "\u001b[92m────────────────────────────────────── \u001b[0m\u001b[1;38;2;53;167;255mTraining Data \u001b[0m\u001b[1;38;2;53;167;255m(\u001b[0m\u001b[1;38;2;53;167;255mAfter Transformation\u001b[0m\u001b[1;38;2;53;167;255m)\u001b[0m\u001b[92m ───────────────────────────────────────\u001b[0m\n"
      ]
     },
     "metadata": {},
     "output_type": "display_data"
    },
    {
     "data": {
      "text/html": [
       "<pre style=\"white-space:pre;overflow-x:auto;line-height:normal;font-family:Menlo,'DejaVu Sans Mono',consolas,'Courier New',monospace\"><span style=\"font-style: italic\">                                       Training Data (After Transformation)                                        </span>\n",
       "┏━━━━━━━━┳━━━━━━━━━┳━━━━━━━━━━━━━━━━━━━━━━━┳━━━━━━━━━━━━━━━━━━━━━━━┳━━━━━━━━━━━━━━━━━━━━━━━┳━━━━━━━━━━━━━━━━━━━━━━┓\n",
       "┃<span style=\"font-weight: bold\"> ID     </span>┃<span style=\"font-weight: bold\"> is_lens </span>┃<span style=\"font-weight: bold\"> Einstein_area         </span>┃<span style=\"font-weight: bold\"> numb_pix_lensed_image </span>┃<span style=\"font-weight: bold\"> flux_lensed_image_in… </span>┃<span style=\"font-weight: bold\"> img_path             </span>┃\n",
       "┡━━━━━━━━╇━━━━━━━━━╇━━━━━━━━━━━━━━━━━━━━━━━╇━━━━━━━━━━━━━━━━━━━━━━━╇━━━━━━━━━━━━━━━━━━━━━━━╇━━━━━━━━━━━━━━━━━━━━━━┩\n",
       "│<span style=\"color: #3a7d44; text-decoration-color: #3a7d44\"> 102942 </span>│<span style=\"color: #304c89; text-decoration-color: #304c89\"> 1       </span>│<span style=\"color: #35a7ff; text-decoration-color: #35a7ff\"> 0.0817725936076541    </span>│<span style=\"color: #f8e16c; text-decoration-color: #f8e16c\"> 0.08441386610214342   </span>│<span style=\"color: #f24236; text-decoration-color: #f24236\"> 0.003444829092452961  </span>│<span style=\"color: #3a7d44; text-decoration-color: #3a7d44\"> ../data/lens_findin… </span>│\n",
       "│<span style=\"color: #3a7d44; text-decoration-color: #3a7d44\"> 108528 </span>│<span style=\"color: #304c89; text-decoration-color: #304c89\"> 1       </span>│<span style=\"color: #35a7ff; text-decoration-color: #35a7ff\"> 0.011004124266290546  </span>│<span style=\"color: #f8e16c; text-decoration-color: #f8e16c\"> 0.003969304048690129  </span>│<span style=\"color: #f24236; text-decoration-color: #f24236\"> 0.000176848997987401… </span>│<span style=\"color: #3a7d44; text-decoration-color: #3a7d44\"> ../data/lens_findin… </span>│\n",
       "│<span style=\"color: #3a7d44; text-decoration-color: #3a7d44\"> 101163 </span>│<span style=\"color: #304c89; text-decoration-color: #304c89\"> 1       </span>│<span style=\"color: #35a7ff; text-decoration-color: #35a7ff\"> 0.08644749347018281   </span>│<span style=\"color: #f8e16c; text-decoration-color: #f8e16c\"> 0.06972744112198995   </span>│<span style=\"color: #f24236; text-decoration-color: #f24236\"> 0.0017982543875047455 </span>│<span style=\"color: #3a7d44; text-decoration-color: #3a7d44\"> ../data/lens_findin… </span>│\n",
       "│<span style=\"color: #3a7d44; text-decoration-color: #3a7d44\"> 111399 </span>│<span style=\"color: #304c89; text-decoration-color: #304c89\"> 1       </span>│<span style=\"color: #35a7ff; text-decoration-color: #35a7ff\"> 0.0020408715199742447 </span>│<span style=\"color: #f8e16c; text-decoration-color: #f8e16c\"> 0.04154538237629002   </span>│<span style=\"color: #f24236; text-decoration-color: #f24236\"> 0.0027644239601236132 </span>│<span style=\"color: #3a7d44; text-decoration-color: #3a7d44\"> ../data/lens_findin… </span>│\n",
       "│<span style=\"color: #3a7d44; text-decoration-color: #3a7d44\"> 110615 </span>│<span style=\"color: #304c89; text-decoration-color: #304c89\"> 1       </span>│<span style=\"color: #35a7ff; text-decoration-color: #35a7ff\"> 0.9740873941673367    </span>│<span style=\"color: #f8e16c; text-decoration-color: #f8e16c\"> 0.019317279703625297  </span>│<span style=\"color: #f24236; text-decoration-color: #f24236\"> 0.05762970643827283   </span>│<span style=\"color: #3a7d44; text-decoration-color: #3a7d44\"> ../data/lens_findin… </span>│\n",
       "└────────┴─────────┴───────────────────────┴───────────────────────┴───────────────────────┴──────────────────────┘\n",
       "<span style=\"color: #7f7f7f; text-decoration-color: #7f7f7f; font-style: italic\">                                      This data originally has 16200 records.                                      </span>\n",
       "</pre>\n"
      ],
      "text/plain": [
       "\u001b[3m                                       Training Data (After Transformation)                                        \u001b[0m\n",
       "┏━━━━━━━━┳━━━━━━━━━┳━━━━━━━━━━━━━━━━━━━━━━━┳━━━━━━━━━━━━━━━━━━━━━━━┳━━━━━━━━━━━━━━━━━━━━━━━┳━━━━━━━━━━━━━━━━━━━━━━┓\n",
       "┃\u001b[1m \u001b[0m\u001b[1mID    \u001b[0m\u001b[1m \u001b[0m┃\u001b[1m \u001b[0m\u001b[1mis_lens\u001b[0m\u001b[1m \u001b[0m┃\u001b[1m \u001b[0m\u001b[1mEinstein_area        \u001b[0m\u001b[1m \u001b[0m┃\u001b[1m \u001b[0m\u001b[1mnumb_pix_lensed_image\u001b[0m\u001b[1m \u001b[0m┃\u001b[1m \u001b[0m\u001b[1mflux_lensed_image_in…\u001b[0m\u001b[1m \u001b[0m┃\u001b[1m \u001b[0m\u001b[1mimg_path            \u001b[0m\u001b[1m \u001b[0m┃\n",
       "┡━━━━━━━━╇━━━━━━━━━╇━━━━━━━━━━━━━━━━━━━━━━━╇━━━━━━━━━━━━━━━━━━━━━━━╇━━━━━━━━━━━━━━━━━━━━━━━╇━━━━━━━━━━━━━━━━━━━━━━┩\n",
       "│\u001b[38;2;58;125;68m \u001b[0m\u001b[38;2;58;125;68m102942\u001b[0m\u001b[38;2;58;125;68m \u001b[0m│\u001b[38;2;48;76;137m \u001b[0m\u001b[38;2;48;76;137m1      \u001b[0m\u001b[38;2;48;76;137m \u001b[0m│\u001b[38;2;53;167;255m \u001b[0m\u001b[38;2;53;167;255m0.0817725936076541   \u001b[0m\u001b[38;2;53;167;255m \u001b[0m│\u001b[38;2;248;225;108m \u001b[0m\u001b[38;2;248;225;108m0.08441386610214342  \u001b[0m\u001b[38;2;248;225;108m \u001b[0m│\u001b[38;2;242;66;54m \u001b[0m\u001b[38;2;242;66;54m0.003444829092452961 \u001b[0m\u001b[38;2;242;66;54m \u001b[0m│\u001b[38;2;58;125;68m \u001b[0m\u001b[38;2;58;125;68m../data/lens_findin…\u001b[0m\u001b[38;2;58;125;68m \u001b[0m│\n",
       "│\u001b[38;2;58;125;68m \u001b[0m\u001b[38;2;58;125;68m108528\u001b[0m\u001b[38;2;58;125;68m \u001b[0m│\u001b[38;2;48;76;137m \u001b[0m\u001b[38;2;48;76;137m1      \u001b[0m\u001b[38;2;48;76;137m \u001b[0m│\u001b[38;2;53;167;255m \u001b[0m\u001b[38;2;53;167;255m0.011004124266290546 \u001b[0m\u001b[38;2;53;167;255m \u001b[0m│\u001b[38;2;248;225;108m \u001b[0m\u001b[38;2;248;225;108m0.003969304048690129 \u001b[0m\u001b[38;2;248;225;108m \u001b[0m│\u001b[38;2;242;66;54m \u001b[0m\u001b[38;2;242;66;54m0.000176848997987401…\u001b[0m\u001b[38;2;242;66;54m \u001b[0m│\u001b[38;2;58;125;68m \u001b[0m\u001b[38;2;58;125;68m../data/lens_findin…\u001b[0m\u001b[38;2;58;125;68m \u001b[0m│\n",
       "│\u001b[38;2;58;125;68m \u001b[0m\u001b[38;2;58;125;68m101163\u001b[0m\u001b[38;2;58;125;68m \u001b[0m│\u001b[38;2;48;76;137m \u001b[0m\u001b[38;2;48;76;137m1      \u001b[0m\u001b[38;2;48;76;137m \u001b[0m│\u001b[38;2;53;167;255m \u001b[0m\u001b[38;2;53;167;255m0.08644749347018281  \u001b[0m\u001b[38;2;53;167;255m \u001b[0m│\u001b[38;2;248;225;108m \u001b[0m\u001b[38;2;248;225;108m0.06972744112198995  \u001b[0m\u001b[38;2;248;225;108m \u001b[0m│\u001b[38;2;242;66;54m \u001b[0m\u001b[38;2;242;66;54m0.0017982543875047455\u001b[0m\u001b[38;2;242;66;54m \u001b[0m│\u001b[38;2;58;125;68m \u001b[0m\u001b[38;2;58;125;68m../data/lens_findin…\u001b[0m\u001b[38;2;58;125;68m \u001b[0m│\n",
       "│\u001b[38;2;58;125;68m \u001b[0m\u001b[38;2;58;125;68m111399\u001b[0m\u001b[38;2;58;125;68m \u001b[0m│\u001b[38;2;48;76;137m \u001b[0m\u001b[38;2;48;76;137m1      \u001b[0m\u001b[38;2;48;76;137m \u001b[0m│\u001b[38;2;53;167;255m \u001b[0m\u001b[38;2;53;167;255m0.0020408715199742447\u001b[0m\u001b[38;2;53;167;255m \u001b[0m│\u001b[38;2;248;225;108m \u001b[0m\u001b[38;2;248;225;108m0.04154538237629002  \u001b[0m\u001b[38;2;248;225;108m \u001b[0m│\u001b[38;2;242;66;54m \u001b[0m\u001b[38;2;242;66;54m0.0027644239601236132\u001b[0m\u001b[38;2;242;66;54m \u001b[0m│\u001b[38;2;58;125;68m \u001b[0m\u001b[38;2;58;125;68m../data/lens_findin…\u001b[0m\u001b[38;2;58;125;68m \u001b[0m│\n",
       "│\u001b[38;2;58;125;68m \u001b[0m\u001b[38;2;58;125;68m110615\u001b[0m\u001b[38;2;58;125;68m \u001b[0m│\u001b[38;2;48;76;137m \u001b[0m\u001b[38;2;48;76;137m1      \u001b[0m\u001b[38;2;48;76;137m \u001b[0m│\u001b[38;2;53;167;255m \u001b[0m\u001b[38;2;53;167;255m0.9740873941673367   \u001b[0m\u001b[38;2;53;167;255m \u001b[0m│\u001b[38;2;248;225;108m \u001b[0m\u001b[38;2;248;225;108m0.019317279703625297 \u001b[0m\u001b[38;2;248;225;108m \u001b[0m│\u001b[38;2;242;66;54m \u001b[0m\u001b[38;2;242;66;54m0.05762970643827283  \u001b[0m\u001b[38;2;242;66;54m \u001b[0m│\u001b[38;2;58;125;68m \u001b[0m\u001b[38;2;58;125;68m../data/lens_findin…\u001b[0m\u001b[38;2;58;125;68m \u001b[0m│\n",
       "└────────┴─────────┴───────────────────────┴───────────────────────┴───────────────────────┴──────────────────────┘\n",
       "\u001b[2;3m                                      This data originally has 16200 records.                                      \u001b[0m\n"
      ]
     },
     "metadata": {},
     "output_type": "display_data"
    },
    {
     "data": {
      "text/html": [
       "<pre style=\"white-space:pre;overflow-x:auto;line-height:normal;font-family:Menlo,'DejaVu Sans Mono',consolas,'Courier New',monospace\"><span style=\"color: #00ff00; text-decoration-color: #00ff00\">───────────────────────────────────── </span><span style=\"color: #35a7ff; text-decoration-color: #35a7ff; font-weight: bold\">Validation Data (After Transformation)</span><span style=\"color: #00ff00; text-decoration-color: #00ff00\"> ──────────────────────────────────────</span>\n",
       "</pre>\n"
      ],
      "text/plain": [
       "\u001b[92m───────────────────────────────────── \u001b[0m\u001b[1;38;2;53;167;255mValidation Data \u001b[0m\u001b[1;38;2;53;167;255m(\u001b[0m\u001b[1;38;2;53;167;255mAfter Transformation\u001b[0m\u001b[1;38;2;53;167;255m)\u001b[0m\u001b[92m ──────────────────────────────────────\u001b[0m\n"
      ]
     },
     "metadata": {},
     "output_type": "display_data"
    },
    {
     "data": {
      "text/html": [
       "<pre style=\"white-space:pre;overflow-x:auto;line-height:normal;font-family:Menlo,'DejaVu Sans Mono',consolas,'Courier New',monospace\"><span style=\"font-style: italic\">                                      Validation Data (After Transformation)                                       </span>\n",
       "┏━━━━━━━━┳━━━━━━━━━┳━━━━━━━━━━━━━━━━━━━━━━━┳━━━━━━━━━━━━━━━━━━━━━━━┳━━━━━━━━━━━━━━━━━━━━━━━┳━━━━━━━━━━━━━━━━━━━━━━┓\n",
       "┃<span style=\"font-weight: bold\"> ID     </span>┃<span style=\"font-weight: bold\"> is_lens </span>┃<span style=\"font-weight: bold\"> Einstein_area         </span>┃<span style=\"font-weight: bold\"> numb_pix_lensed_image </span>┃<span style=\"font-weight: bold\"> flux_lensed_image_in… </span>┃<span style=\"font-weight: bold\"> img_path             </span>┃\n",
       "┡━━━━━━━━╇━━━━━━━━━╇━━━━━━━━━━━━━━━━━━━━━━━╇━━━━━━━━━━━━━━━━━━━━━━━╇━━━━━━━━━━━━━━━━━━━━━━━╇━━━━━━━━━━━━━━━━━━━━━━┩\n",
       "│<span style=\"color: #3a7d44; text-decoration-color: #3a7d44\"> 100991 </span>│<span style=\"color: #304c89; text-decoration-color: #304c89\"> 0       </span>│<span style=\"color: #35a7ff; text-decoration-color: #35a7ff\"> 0.9852444320427748    </span>│<span style=\"color: #f8e16c; text-decoration-color: #f8e16c\"> 0.0                   </span>│<span style=\"color: #f24236; text-decoration-color: #f24236\"> 0.0                   </span>│<span style=\"color: #3a7d44; text-decoration-color: #3a7d44\"> ../data/lens_findin… </span>│\n",
       "│<span style=\"color: #3a7d44; text-decoration-color: #3a7d44\"> 104325 </span>│<span style=\"color: #304c89; text-decoration-color: #304c89\"> 1       </span>│<span style=\"color: #35a7ff; text-decoration-color: #35a7ff\"> 0.38656543383187664   </span>│<span style=\"color: #f8e16c; text-decoration-color: #f8e16c\"> 0.12172532415983063   </span>│<span style=\"color: #f24236; text-decoration-color: #f24236\"> 0.0036288818037451464 </span>│<span style=\"color: #3a7d44; text-decoration-color: #3a7d44\"> ../data/lens_findin… </span>│\n",
       "│<span style=\"color: #3a7d44; text-decoration-color: #3a7d44\"> 107192 </span>│<span style=\"color: #304c89; text-decoration-color: #304c89\"> 1       </span>│<span style=\"color: #35a7ff; text-decoration-color: #35a7ff\"> 0.0019029739336938784 </span>│<span style=\"color: #f8e16c; text-decoration-color: #f8e16c\"> 0.008203228367292934  </span>│<span style=\"color: #f24236; text-decoration-color: #f24236\"> 0.0012934494625587347 </span>│<span style=\"color: #3a7d44; text-decoration-color: #3a7d44\"> ../data/lens_findin… </span>│\n",
       "│<span style=\"color: #3a7d44; text-decoration-color: #3a7d44\"> 117984 </span>│<span style=\"color: #304c89; text-decoration-color: #304c89\"> 1       </span>│<span style=\"color: #35a7ff; text-decoration-color: #35a7ff\"> 0.0004550572508595171 </span>│<span style=\"color: #f8e16c; text-decoration-color: #f8e16c\"> 0.00952632971685631   </span>│<span style=\"color: #f24236; text-decoration-color: #f24236\"> 0.0002576166429210024 </span>│<span style=\"color: #3a7d44; text-decoration-color: #3a7d44\"> ../data/lens_findin… </span>│\n",
       "│<span style=\"color: #3a7d44; text-decoration-color: #3a7d44\"> 105907 </span>│<span style=\"color: #304c89; text-decoration-color: #304c89\"> 1       </span>│<span style=\"color: #35a7ff; text-decoration-color: #35a7ff\"> 0.4564375130506514    </span>│<span style=\"color: #f8e16c; text-decoration-color: #f8e16c\"> 0.12834083090764753   </span>│<span style=\"color: #f24236; text-decoration-color: #f24236\"> 0.0058739084818968225 </span>│<span style=\"color: #3a7d44; text-decoration-color: #3a7d44\"> ../data/lens_findin… </span>│\n",
       "└────────┴─────────┴───────────────────────┴───────────────────────┴───────────────────────┴──────────────────────┘\n",
       "<span style=\"color: #7f7f7f; text-decoration-color: #7f7f7f; font-style: italic\">                                       This data originally has 900 records.                                       </span>\n",
       "</pre>\n"
      ],
      "text/plain": [
       "\u001b[3m                                      Validation Data (After Transformation)                                       \u001b[0m\n",
       "┏━━━━━━━━┳━━━━━━━━━┳━━━━━━━━━━━━━━━━━━━━━━━┳━━━━━━━━━━━━━━━━━━━━━━━┳━━━━━━━━━━━━━━━━━━━━━━━┳━━━━━━━━━━━━━━━━━━━━━━┓\n",
       "┃\u001b[1m \u001b[0m\u001b[1mID    \u001b[0m\u001b[1m \u001b[0m┃\u001b[1m \u001b[0m\u001b[1mis_lens\u001b[0m\u001b[1m \u001b[0m┃\u001b[1m \u001b[0m\u001b[1mEinstein_area        \u001b[0m\u001b[1m \u001b[0m┃\u001b[1m \u001b[0m\u001b[1mnumb_pix_lensed_image\u001b[0m\u001b[1m \u001b[0m┃\u001b[1m \u001b[0m\u001b[1mflux_lensed_image_in…\u001b[0m\u001b[1m \u001b[0m┃\u001b[1m \u001b[0m\u001b[1mimg_path            \u001b[0m\u001b[1m \u001b[0m┃\n",
       "┡━━━━━━━━╇━━━━━━━━━╇━━━━━━━━━━━━━━━━━━━━━━━╇━━━━━━━━━━━━━━━━━━━━━━━╇━━━━━━━━━━━━━━━━━━━━━━━╇━━━━━━━━━━━━━━━━━━━━━━┩\n",
       "│\u001b[38;2;58;125;68m \u001b[0m\u001b[38;2;58;125;68m100991\u001b[0m\u001b[38;2;58;125;68m \u001b[0m│\u001b[38;2;48;76;137m \u001b[0m\u001b[38;2;48;76;137m0      \u001b[0m\u001b[38;2;48;76;137m \u001b[0m│\u001b[38;2;53;167;255m \u001b[0m\u001b[38;2;53;167;255m0.9852444320427748   \u001b[0m\u001b[38;2;53;167;255m \u001b[0m│\u001b[38;2;248;225;108m \u001b[0m\u001b[38;2;248;225;108m0.0                  \u001b[0m\u001b[38;2;248;225;108m \u001b[0m│\u001b[38;2;242;66;54m \u001b[0m\u001b[38;2;242;66;54m0.0                  \u001b[0m\u001b[38;2;242;66;54m \u001b[0m│\u001b[38;2;58;125;68m \u001b[0m\u001b[38;2;58;125;68m../data/lens_findin…\u001b[0m\u001b[38;2;58;125;68m \u001b[0m│\n",
       "│\u001b[38;2;58;125;68m \u001b[0m\u001b[38;2;58;125;68m104325\u001b[0m\u001b[38;2;58;125;68m \u001b[0m│\u001b[38;2;48;76;137m \u001b[0m\u001b[38;2;48;76;137m1      \u001b[0m\u001b[38;2;48;76;137m \u001b[0m│\u001b[38;2;53;167;255m \u001b[0m\u001b[38;2;53;167;255m0.38656543383187664  \u001b[0m\u001b[38;2;53;167;255m \u001b[0m│\u001b[38;2;248;225;108m \u001b[0m\u001b[38;2;248;225;108m0.12172532415983063  \u001b[0m\u001b[38;2;248;225;108m \u001b[0m│\u001b[38;2;242;66;54m \u001b[0m\u001b[38;2;242;66;54m0.0036288818037451464\u001b[0m\u001b[38;2;242;66;54m \u001b[0m│\u001b[38;2;58;125;68m \u001b[0m\u001b[38;2;58;125;68m../data/lens_findin…\u001b[0m\u001b[38;2;58;125;68m \u001b[0m│\n",
       "│\u001b[38;2;58;125;68m \u001b[0m\u001b[38;2;58;125;68m107192\u001b[0m\u001b[38;2;58;125;68m \u001b[0m│\u001b[38;2;48;76;137m \u001b[0m\u001b[38;2;48;76;137m1      \u001b[0m\u001b[38;2;48;76;137m \u001b[0m│\u001b[38;2;53;167;255m \u001b[0m\u001b[38;2;53;167;255m0.0019029739336938784\u001b[0m\u001b[38;2;53;167;255m \u001b[0m│\u001b[38;2;248;225;108m \u001b[0m\u001b[38;2;248;225;108m0.008203228367292934 \u001b[0m\u001b[38;2;248;225;108m \u001b[0m│\u001b[38;2;242;66;54m \u001b[0m\u001b[38;2;242;66;54m0.0012934494625587347\u001b[0m\u001b[38;2;242;66;54m \u001b[0m│\u001b[38;2;58;125;68m \u001b[0m\u001b[38;2;58;125;68m../data/lens_findin…\u001b[0m\u001b[38;2;58;125;68m \u001b[0m│\n",
       "│\u001b[38;2;58;125;68m \u001b[0m\u001b[38;2;58;125;68m117984\u001b[0m\u001b[38;2;58;125;68m \u001b[0m│\u001b[38;2;48;76;137m \u001b[0m\u001b[38;2;48;76;137m1      \u001b[0m\u001b[38;2;48;76;137m \u001b[0m│\u001b[38;2;53;167;255m \u001b[0m\u001b[38;2;53;167;255m0.0004550572508595171\u001b[0m\u001b[38;2;53;167;255m \u001b[0m│\u001b[38;2;248;225;108m \u001b[0m\u001b[38;2;248;225;108m0.00952632971685631  \u001b[0m\u001b[38;2;248;225;108m \u001b[0m│\u001b[38;2;242;66;54m \u001b[0m\u001b[38;2;242;66;54m0.0002576166429210024\u001b[0m\u001b[38;2;242;66;54m \u001b[0m│\u001b[38;2;58;125;68m \u001b[0m\u001b[38;2;58;125;68m../data/lens_findin…\u001b[0m\u001b[38;2;58;125;68m \u001b[0m│\n",
       "│\u001b[38;2;58;125;68m \u001b[0m\u001b[38;2;58;125;68m105907\u001b[0m\u001b[38;2;58;125;68m \u001b[0m│\u001b[38;2;48;76;137m \u001b[0m\u001b[38;2;48;76;137m1      \u001b[0m\u001b[38;2;48;76;137m \u001b[0m│\u001b[38;2;53;167;255m \u001b[0m\u001b[38;2;53;167;255m0.4564375130506514   \u001b[0m\u001b[38;2;53;167;255m \u001b[0m│\u001b[38;2;248;225;108m \u001b[0m\u001b[38;2;248;225;108m0.12834083090764753  \u001b[0m\u001b[38;2;248;225;108m \u001b[0m│\u001b[38;2;242;66;54m \u001b[0m\u001b[38;2;242;66;54m0.0058739084818968225\u001b[0m\u001b[38;2;242;66;54m \u001b[0m│\u001b[38;2;58;125;68m \u001b[0m\u001b[38;2;58;125;68m../data/lens_findin…\u001b[0m\u001b[38;2;58;125;68m \u001b[0m│\n",
       "└────────┴─────────┴───────────────────────┴───────────────────────┴───────────────────────┴──────────────────────┘\n",
       "\u001b[2;3m                                       This data originally has 900 records.                                       \u001b[0m\n"
      ]
     },
     "metadata": {},
     "output_type": "display_data"
    },
    {
     "data": {
      "text/html": [
       "<pre style=\"white-space:pre;overflow-x:auto;line-height:normal;font-family:Menlo,'DejaVu Sans Mono',consolas,'Courier New',monospace\"><span style=\"color: #00ff00; text-decoration-color: #00ff00\">──────────────────────────────────────── </span><span style=\"color: #35a7ff; text-decoration-color: #35a7ff; font-weight: bold\">Test Data (After Transformation)</span><span style=\"color: #00ff00; text-decoration-color: #00ff00\"> ─────────────────────────────────────────</span>\n",
       "</pre>\n"
      ],
      "text/plain": [
       "\u001b[92m──────────────────────────────────────── \u001b[0m\u001b[1;38;2;53;167;255mTest Data \u001b[0m\u001b[1;38;2;53;167;255m(\u001b[0m\u001b[1;38;2;53;167;255mAfter Transformation\u001b[0m\u001b[1;38;2;53;167;255m)\u001b[0m\u001b[92m ─────────────────────────────────────────\u001b[0m\n"
      ]
     },
     "metadata": {},
     "output_type": "display_data"
    },
    {
     "data": {
      "text/html": [
       "<pre style=\"white-space:pre;overflow-x:auto;line-height:normal;font-family:Menlo,'DejaVu Sans Mono',consolas,'Courier New',monospace\"><span style=\"font-style: italic\">                                         Test Data (After Transformation)                                          </span>\n",
       "┏━━━━━━━━┳━━━━━━━━━┳━━━━━━━━━━━━━━━━━━━━━━━┳━━━━━━━━━━━━━━━━━━━━━━━┳━━━━━━━━━━━━━━━━━━━━━━━┳━━━━━━━━━━━━━━━━━━━━━━┓\n",
       "┃<span style=\"font-weight: bold\"> ID     </span>┃<span style=\"font-weight: bold\"> is_lens </span>┃<span style=\"font-weight: bold\"> Einstein_area         </span>┃<span style=\"font-weight: bold\"> numb_pix_lensed_image </span>┃<span style=\"font-weight: bold\"> flux_lensed_image_in… </span>┃<span style=\"font-weight: bold\"> img_path             </span>┃\n",
       "┡━━━━━━━━╇━━━━━━━━━╇━━━━━━━━━━━━━━━━━━━━━━━╇━━━━━━━━━━━━━━━━━━━━━━━╇━━━━━━━━━━━━━━━━━━━━━━━╇━━━━━━━━━━━━━━━━━━━━━━┩\n",
       "│<span style=\"color: #3a7d44; text-decoration-color: #3a7d44\"> 104828 </span>│<span style=\"color: #304c89; text-decoration-color: #304c89\"> 1       </span>│<span style=\"color: #35a7ff; text-decoration-color: #35a7ff\"> 0.0018202343188443936 </span>│<span style=\"color: #f8e16c; text-decoration-color: #f8e16c\"> 0.017861868219105584  </span>│<span style=\"color: #f24236; text-decoration-color: #f24236\"> 0.0015516907048992272 </span>│<span style=\"color: #3a7d44; text-decoration-color: #3a7d44\"> ../data/lens_findin… </span>│\n",
       "│<span style=\"color: #3a7d44; text-decoration-color: #3a7d44\"> 107611 </span>│<span style=\"color: #304c89; text-decoration-color: #304c89\"> 1       </span>│<span style=\"color: #35a7ff; text-decoration-color: #35a7ff\"> 0.0005377968657090021 </span>│<span style=\"color: #f8e16c; text-decoration-color: #f8e16c\"> 0.012966393225721089  </span>│<span style=\"color: #f24236; text-decoration-color: #f24236\"> 0.0005948350118592243 </span>│<span style=\"color: #3a7d44; text-decoration-color: #3a7d44\"> ../data/lens_findin… </span>│\n",
       "│<span style=\"color: #3a7d44; text-decoration-color: #3a7d44\"> 111913 </span>│<span style=\"color: #304c89; text-decoration-color: #304c89\"> 1       </span>│<span style=\"color: #35a7ff; text-decoration-color: #35a7ff\"> 6.895145084334555e-05 </span>│<span style=\"color: #f8e16c; text-decoration-color: #f8e16c\"> 0.026726647261180205  </span>│<span style=\"color: #f24236; text-decoration-color: #f24236\"> 0.0026705503414885057 </span>│<span style=\"color: #3a7d44; text-decoration-color: #3a7d44\"> ../data/lens_findin… </span>│\n",
       "│<span style=\"color: #3a7d44; text-decoration-color: #3a7d44\"> 115437 </span>│<span style=\"color: #304c89; text-decoration-color: #304c89\"> 1       </span>│<span style=\"color: #35a7ff; text-decoration-color: #35a7ff\"> 0.7896374792956952    </span>│<span style=\"color: #f8e16c; text-decoration-color: #f8e16c\"> 0.2020375760783276    </span>│<span style=\"color: #f24236; text-decoration-color: #f24236\"> 0.01454126642635238   </span>│<span style=\"color: #3a7d44; text-decoration-color: #3a7d44\"> ../data/lens_findin… </span>│\n",
       "│<span style=\"color: #3a7d44; text-decoration-color: #3a7d44\"> 101047 </span>│<span style=\"color: #304c89; text-decoration-color: #304c89\"> 1       </span>│<span style=\"color: #35a7ff; text-decoration-color: #35a7ff\"> 0.9450599602284291    </span>│<span style=\"color: #f8e16c; text-decoration-color: #f8e16c\"> 0.8863455940725059    </span>│<span style=\"color: #f24236; text-decoration-color: #f24236\"> 0.12998709977669548   </span>│<span style=\"color: #3a7d44; text-decoration-color: #3a7d44\"> ../data/lens_findin… </span>│\n",
       "└────────┴─────────┴───────────────────────┴───────────────────────┴───────────────────────┴──────────────────────┘\n",
       "<span style=\"color: #7f7f7f; text-decoration-color: #7f7f7f; font-style: italic\">                                       This data originally has 900 records.                                       </span>\n",
       "</pre>\n"
      ],
      "text/plain": [
       "\u001b[3m                                         Test Data (After Transformation)                                          \u001b[0m\n",
       "┏━━━━━━━━┳━━━━━━━━━┳━━━━━━━━━━━━━━━━━━━━━━━┳━━━━━━━━━━━━━━━━━━━━━━━┳━━━━━━━━━━━━━━━━━━━━━━━┳━━━━━━━━━━━━━━━━━━━━━━┓\n",
       "┃\u001b[1m \u001b[0m\u001b[1mID    \u001b[0m\u001b[1m \u001b[0m┃\u001b[1m \u001b[0m\u001b[1mis_lens\u001b[0m\u001b[1m \u001b[0m┃\u001b[1m \u001b[0m\u001b[1mEinstein_area        \u001b[0m\u001b[1m \u001b[0m┃\u001b[1m \u001b[0m\u001b[1mnumb_pix_lensed_image\u001b[0m\u001b[1m \u001b[0m┃\u001b[1m \u001b[0m\u001b[1mflux_lensed_image_in…\u001b[0m\u001b[1m \u001b[0m┃\u001b[1m \u001b[0m\u001b[1mimg_path            \u001b[0m\u001b[1m \u001b[0m┃\n",
       "┡━━━━━━━━╇━━━━━━━━━╇━━━━━━━━━━━━━━━━━━━━━━━╇━━━━━━━━━━━━━━━━━━━━━━━╇━━━━━━━━━━━━━━━━━━━━━━━╇━━━━━━━━━━━━━━━━━━━━━━┩\n",
       "│\u001b[38;2;58;125;68m \u001b[0m\u001b[38;2;58;125;68m104828\u001b[0m\u001b[38;2;58;125;68m \u001b[0m│\u001b[38;2;48;76;137m \u001b[0m\u001b[38;2;48;76;137m1      \u001b[0m\u001b[38;2;48;76;137m \u001b[0m│\u001b[38;2;53;167;255m \u001b[0m\u001b[38;2;53;167;255m0.0018202343188443936\u001b[0m\u001b[38;2;53;167;255m \u001b[0m│\u001b[38;2;248;225;108m \u001b[0m\u001b[38;2;248;225;108m0.017861868219105584 \u001b[0m\u001b[38;2;248;225;108m \u001b[0m│\u001b[38;2;242;66;54m \u001b[0m\u001b[38;2;242;66;54m0.0015516907048992272\u001b[0m\u001b[38;2;242;66;54m \u001b[0m│\u001b[38;2;58;125;68m \u001b[0m\u001b[38;2;58;125;68m../data/lens_findin…\u001b[0m\u001b[38;2;58;125;68m \u001b[0m│\n",
       "│\u001b[38;2;58;125;68m \u001b[0m\u001b[38;2;58;125;68m107611\u001b[0m\u001b[38;2;58;125;68m \u001b[0m│\u001b[38;2;48;76;137m \u001b[0m\u001b[38;2;48;76;137m1      \u001b[0m\u001b[38;2;48;76;137m \u001b[0m│\u001b[38;2;53;167;255m \u001b[0m\u001b[38;2;53;167;255m0.0005377968657090021\u001b[0m\u001b[38;2;53;167;255m \u001b[0m│\u001b[38;2;248;225;108m \u001b[0m\u001b[38;2;248;225;108m0.012966393225721089 \u001b[0m\u001b[38;2;248;225;108m \u001b[0m│\u001b[38;2;242;66;54m \u001b[0m\u001b[38;2;242;66;54m0.0005948350118592243\u001b[0m\u001b[38;2;242;66;54m \u001b[0m│\u001b[38;2;58;125;68m \u001b[0m\u001b[38;2;58;125;68m../data/lens_findin…\u001b[0m\u001b[38;2;58;125;68m \u001b[0m│\n",
       "│\u001b[38;2;58;125;68m \u001b[0m\u001b[38;2;58;125;68m111913\u001b[0m\u001b[38;2;58;125;68m \u001b[0m│\u001b[38;2;48;76;137m \u001b[0m\u001b[38;2;48;76;137m1      \u001b[0m\u001b[38;2;48;76;137m \u001b[0m│\u001b[38;2;53;167;255m \u001b[0m\u001b[38;2;53;167;255m6.895145084334555e-05\u001b[0m\u001b[38;2;53;167;255m \u001b[0m│\u001b[38;2;248;225;108m \u001b[0m\u001b[38;2;248;225;108m0.026726647261180205 \u001b[0m\u001b[38;2;248;225;108m \u001b[0m│\u001b[38;2;242;66;54m \u001b[0m\u001b[38;2;242;66;54m0.0026705503414885057\u001b[0m\u001b[38;2;242;66;54m \u001b[0m│\u001b[38;2;58;125;68m \u001b[0m\u001b[38;2;58;125;68m../data/lens_findin…\u001b[0m\u001b[38;2;58;125;68m \u001b[0m│\n",
       "│\u001b[38;2;58;125;68m \u001b[0m\u001b[38;2;58;125;68m115437\u001b[0m\u001b[38;2;58;125;68m \u001b[0m│\u001b[38;2;48;76;137m \u001b[0m\u001b[38;2;48;76;137m1      \u001b[0m\u001b[38;2;48;76;137m \u001b[0m│\u001b[38;2;53;167;255m \u001b[0m\u001b[38;2;53;167;255m0.7896374792956952   \u001b[0m\u001b[38;2;53;167;255m \u001b[0m│\u001b[38;2;248;225;108m \u001b[0m\u001b[38;2;248;225;108m0.2020375760783276   \u001b[0m\u001b[38;2;248;225;108m \u001b[0m│\u001b[38;2;242;66;54m \u001b[0m\u001b[38;2;242;66;54m0.01454126642635238  \u001b[0m\u001b[38;2;242;66;54m \u001b[0m│\u001b[38;2;58;125;68m \u001b[0m\u001b[38;2;58;125;68m../data/lens_findin…\u001b[0m\u001b[38;2;58;125;68m \u001b[0m│\n",
       "│\u001b[38;2;58;125;68m \u001b[0m\u001b[38;2;58;125;68m101047\u001b[0m\u001b[38;2;58;125;68m \u001b[0m│\u001b[38;2;48;76;137m \u001b[0m\u001b[38;2;48;76;137m1      \u001b[0m\u001b[38;2;48;76;137m \u001b[0m│\u001b[38;2;53;167;255m \u001b[0m\u001b[38;2;53;167;255m0.9450599602284291   \u001b[0m\u001b[38;2;53;167;255m \u001b[0m│\u001b[38;2;248;225;108m \u001b[0m\u001b[38;2;248;225;108m0.8863455940725059   \u001b[0m\u001b[38;2;248;225;108m \u001b[0m│\u001b[38;2;242;66;54m \u001b[0m\u001b[38;2;242;66;54m0.12998709977669548  \u001b[0m\u001b[38;2;242;66;54m \u001b[0m│\u001b[38;2;58;125;68m \u001b[0m\u001b[38;2;58;125;68m../data/lens_findin…\u001b[0m\u001b[38;2;58;125;68m \u001b[0m│\n",
       "└────────┴─────────┴───────────────────────┴───────────────────────┴───────────────────────┴──────────────────────┘\n",
       "\u001b[2;3m                                       This data originally has 900 records.                                       \u001b[0m\n"
      ]
     },
     "metadata": {},
     "output_type": "display_data"
    }
   ],
   "source": [
    "scaler = MinMaxScaler()\n",
    "df_train[['Einstein_area', 'numb_pix_lensed_image', 'flux_lensed_image_in_sigma']] = scaler.fit_transform(df_train[['Einstein_area', \n",
    "                                                                                                                    'numb_pix_lensed_image', \n",
    "                                                                                                                    'flux_lensed_image_in_sigma']].values)\n",
    "\n",
    "df_val[['Einstein_area', 'numb_pix_lensed_image', 'flux_lensed_image_in_sigma']] = scaler.transform(df_val[['Einstein_area', \n",
    "                                                                                                                    'numb_pix_lensed_image', \n",
    "                                                                                                                    'flux_lensed_image_in_sigma']].values)\n",
    "\n",
    "\n",
    "df_test[['Einstein_area', 'numb_pix_lensed_image', 'flux_lensed_image_in_sigma']] = scaler.transform(df_test[['Einstein_area', \n",
    "                                                                                                                    'numb_pix_lensed_image', \n",
    "                                                                                                                    'flux_lensed_image_in_sigma']].values)\n",
    "\n",
    "\n",
    "\n",
    "\n",
    "\n",
    "view_table(df_train, title=\"Training Data (After Transformation)\", rule=True)\n",
    "view_table(df_val, title=\"Validation Data (After Transformation)\", rule=True)\n",
    "view_table(df_test, title=\"Test Data (After Transformation)\", rule=True)"
   ]
  },
  {
   "cell_type": "code",
   "execution_count": 12,
   "id": "0c36b4f2-28c3-4724-aa61-fc0165716a4a",
   "metadata": {
    "tags": []
   },
   "outputs": [],
   "source": [
    "train_dm = LitLensFindingDataLoader(df_train, batch_sz=32)\n",
    "val_dm = LitLensFindingDataLoader(df_val, batch_sz=128)\n",
    "test_dm = LitLensFindingDataLoader(df_test, batch_sz=128)\n",
    "\n",
    "\n",
    "train_dm.setup(stage=\"train\")\n",
    "val_dm.setup(stage=\"val\")\n",
    "test_dm.setup(stage=\"test\")\n",
    "\n",
    "train_dl = train_dm.train_dataloader()\n",
    "val_dl = val_dm.val_dataloader()\n",
    "test_dl = test_dm.test_dataloader()"
   ]
  },
  {
   "cell_type": "markdown",
   "id": "395f8b67-caa4-4c1e-85eb-baf5834f119a",
   "metadata": {},
   "source": [
    "# Efficient-b2 Model"
   ]
  },
  {
   "cell_type": "code",
   "execution_count": 13,
   "id": "aeeba9ac-866b-41d1-acda-a11ca4aeda2c",
   "metadata": {
    "tags": []
   },
   "outputs": [],
   "source": [
    "class LitEffnetLensFinding(pl.LightningModule):\n",
    "    def __init__(self, wandb_log: Optional['wandb.Api']=None, lr: Optional[float]=1e-4, \n",
    "                 min_lr: Optional[float]=1e-6, T_0: Optional[int]=100, weight_decay: Optional[float]=1e-6):\n",
    "        \n",
    "        super().__init__()\n",
    "        self.wandb_log = wandb_log\n",
    "        self.lr = lr\n",
    "        self.min_lr = min_lr\n",
    "        self.T_0 = T_0\n",
    "        self.weight_decay = weight_decay\n",
    "        \n",
    "        \n",
    "        self.img_model = torchvision.models.efficientnet_b2(weights=torchvision.models.EfficientNet_B2_Weights.IMAGENET1K_V1)\n",
    "        self.img_model.classifier[-1] = nn.Identity()\n",
    "        \n",
    "        self.feat_model = nn.Sequential(\n",
    "            nn.LazyLinear(256),\n",
    "            nn.LazyBatchNorm1d(),\n",
    "            nn.SiLU(),\n",
    "            nn.LazyLinear(512),\n",
    "            nn.SiLU()\n",
    "        )\n",
    "        \n",
    "        self.classifier = nn.LazyLinear(1)\n",
    "        \n",
    "        self.accuracy = torchmetrics.Accuracy(task=\"binary\", num_classes=1, average=\"weighted\")\n",
    "        self.aucroc = torchmetrics.AUROC(task=\"binary\", num_classes=1, average=\"macro\")\n",
    "        self.f1_score = torchmetrics.F1Score(task=\"binary\", num_classes=1, average=\"weighted\")\n",
    "        \n",
    "        self.train_res = defaultdict(lambda : list())\n",
    "        self.val_res = defaultdict(lambda : list())\n",
    "        self.test_res = defaultdict(lambda: list())\n",
    "        \n",
    "        \n",
    "    def forward(self, img, feats):\n",
    "        \n",
    "        img_rep = self.img_model(img)\n",
    "        feat_rep = self.feat_model(feats)\n",
    "        \n",
    "        x = torch.concatenate([img_rep, feat_rep], axis=1)\n",
    "        \n",
    "        out = self.classifier(x)\n",
    "        \n",
    "        return out\n",
    "    \n",
    "    def compute_loss(self, logits, y):\n",
    "        \n",
    "        y = y.type_as(logits)\n",
    "        return F.binary_cross_entropy_with_logits(logits, y)\n",
    "    \n",
    "    def compute_metrics(self, logits, y):\n",
    "        \n",
    "        return {\n",
    "            \"accuracy\" : self.accuracy(F.sigmoid(logits), y),\n",
    "            \"f1_score\" : self.f1_score(F.sigmoid(logits), y),\n",
    "            \"aucroc\" : self.aucroc(logits, y)\n",
    "        }\n",
    "    \n",
    "    \n",
    "    def common_step(self, batch, batch_idx):\n",
    "        img, feat, y = batch[\"img\"], batch[\"other_feats\"], batch[\"label\"]\n",
    "        logits = self(img, feat)\n",
    "        \n",
    "        y = y.reshape(-1, 1)\n",
    "        loss = self.compute_loss(logits, y)\n",
    "        \n",
    "        metrics = self.compute_metrics(logits, y)\n",
    "        \n",
    "        return loss, metrics\n",
    "        \n",
    "        \n",
    "    \n",
    "    def training_step(self, batch, batch_idx):\n",
    "        \n",
    "        loss, metrics = self.common_step(batch, batch_idx)\n",
    "        \n",
    "        self.log(\"train_loss\", loss, on_step=False, on_epoch=True, logger=True, prog_bar=True)\n",
    "        \n",
    "        self.train_res['loss'].append(loss)\n",
    "        \n",
    "        for k, v in metrics.items():\n",
    "            self.train_res[k].append(v)\n",
    "            \n",
    "        return loss\n",
    "    \n",
    "    \n",
    "    def validation_step(self, batch, batch_idx):\n",
    "        \n",
    "        loss, metrics = self.common_step(batch, batch_idx)\n",
    "        \n",
    "        self.log(\"val_loss\", loss, on_step=False, on_epoch=True, logger=True, prog_bar=True)\n",
    "        \n",
    "        self.val_res['loss'].append(loss)\n",
    "        \n",
    "        for k, v in metrics.items():\n",
    "            self.val_res[k].append(v)\n",
    "            \n",
    "        return loss\n",
    "    \n",
    "    def test_step(self, batch, batch_idx):\n",
    "        \n",
    "        loss, metrics = self.common_step(batch, batch_idx)\n",
    "        \n",
    "        self.log(\"test_loss\", loss, on_step=False, on_epoch=True, logger=True, prog_bar=True)\n",
    "        \n",
    "        self.test_res['loss'].append(loss)\n",
    "        \n",
    "        for k, v in metrics.items():\n",
    "            self.test_res[k].append(v)\n",
    "            \n",
    "        return loss\n",
    "    \n",
    "    \n",
    "    \n",
    "    def on_train_epoch_end(self):\n",
    "        \n",
    "        res = defaultdict(lambda : list())\n",
    "        \n",
    "        for k, v in self.train_res.items():\n",
    "            res[k] = torch.stack(v).mean()\n",
    "            \n",
    "            \n",
    "        if self.wandb_log is not None:\n",
    "            for k, v in res.items():\n",
    "                self.wandb_log.log({f\"train/{k}\":v})\n",
    "                \n",
    "        for k in self.train_res.keys():\n",
    "            self.train_res[k].clear()\n",
    "            \n",
    "        del res\n",
    "                \n",
    "    def on_validation_epoch_end(self):\n",
    "        \n",
    "        res = defaultdict(lambda : list())\n",
    "        \n",
    "        for k, v in self.val_res.items():\n",
    "            res[k] = torch.stack(v).mean()\n",
    "            \n",
    "        self.log(\"val_aucroc\", res[\"aucroc\"], on_step=False, on_epoch=True, logger=True, prog_bar=True)\n",
    "        if self.wandb_log is not None:\n",
    "            for k, v in res.items():\n",
    "                self.wandb_log.log({f\"val/{k}\":v})\n",
    "                \n",
    "        for k in self.val_res.keys():\n",
    "            self.val_res[k].clear()\n",
    "            \n",
    "        del res\n",
    "        \n",
    "    def on_test_epoch_end(self):\n",
    "        \n",
    "        res = defaultdict(lambda : list())\n",
    "        \n",
    "        for k, v in self.test_res.items():\n",
    "            res[k] = torch.stack(v).mean()\n",
    "            self.log(f\"test_{k}\", torch.stack(v).mean(), logger=True, prog_bar=False)\n",
    "                \n",
    "        for k in self.test_res.keys():\n",
    "            self.test_res[k].clear()\n",
    "            \n",
    "        return res\n",
    "    \n",
    "    def configure_optimizers(self):\n",
    "        optimizer = torch.optim.AdamW(self.parameters(), lr=self.lr, weight_decay=self.weight_decay)\n",
    "        lr_scheduler = torch.optim.lr_scheduler.CosineAnnealingWarmRestarts(optimizer, self.T_0, eta_min=self.min_lr)\n",
    "        \n",
    "        return {\n",
    "            \"optimizer\" : optimizer,\n",
    "            \"lr_scheduler\" : lr_scheduler\n",
    "        }\n",
    "            \n",
    "        "
   ]
  },
  {
   "cell_type": "code",
   "execution_count": 14,
   "id": "c387a9d4-6ea7-41ad-936e-57eafaf43c9c",
   "metadata": {
    "tags": []
   },
   "outputs": [
    {
     "name": "stderr",
     "output_type": "stream",
     "text": [
      "\u001b[34m\u001b[1mwandb\u001b[0m: Currently logged in as: \u001b[33mlmorningstar\u001b[0m. Use \u001b[1m`wandb login --relogin`\u001b[0m to force relogin\n"
     ]
    },
    {
     "data": {
      "application/vnd.jupyter.widget-view+json": {
       "model_id": "fb8f21a8546e42a39d75a95da3569b06",
       "version_major": 2,
       "version_minor": 0
      },
      "text/plain": [
       "VBox(children=(Label(value='Waiting for wandb.init()...\\r'), FloatProgress(value=0.016667944000316008, max=1.0…"
      ]
     },
     "metadata": {},
     "output_type": "display_data"
    },
    {
     "data": {
      "text/html": [
       "Tracking run with wandb version 0.14.0"
      ],
      "text/plain": [
       "<IPython.core.display.HTML object>"
      ]
     },
     "metadata": {},
     "output_type": "display_data"
    },
    {
     "data": {
      "text/html": [
       "Run data is saved locally in <code>/home/darthvader/research/gsoc_23/Task-2/wandb/run-20230402_235406-tlfh4vig</code>"
      ],
      "text/plain": [
       "<IPython.core.display.HTML object>"
      ]
     },
     "metadata": {},
     "output_type": "display_data"
    },
    {
     "data": {
      "text/html": [
       "Syncing run <strong><a href='https://wandb.ai/lmorningstar/GSoC23-Task2/runs/tlfh4vig' target=\"_blank\">effnet_metrics</a></strong> to <a href='https://wandb.ai/lmorningstar/GSoC23-Task2' target=\"_blank\">Weights & Biases</a> (<a href='https://wandb.me/run' target=\"_blank\">docs</a>)<br/>"
      ],
      "text/plain": [
       "<IPython.core.display.HTML object>"
      ]
     },
     "metadata": {},
     "output_type": "display_data"
    },
    {
     "data": {
      "text/html": [
       " View project at <a href='https://wandb.ai/lmorningstar/GSoC23-Task2' target=\"_blank\">https://wandb.ai/lmorningstar/GSoC23-Task2</a>"
      ],
      "text/plain": [
       "<IPython.core.display.HTML object>"
      ]
     },
     "metadata": {},
     "output_type": "display_data"
    },
    {
     "data": {
      "text/html": [
       " View run at <a href='https://wandb.ai/lmorningstar/GSoC23-Task2/runs/tlfh4vig' target=\"_blank\">https://wandb.ai/lmorningstar/GSoC23-Task2/runs/tlfh4vig</a>"
      ],
      "text/plain": [
       "<IPython.core.display.HTML object>"
      ]
     },
     "metadata": {},
     "output_type": "display_data"
    },
    {
     "name": "stderr",
     "output_type": "stream",
     "text": [
      "/home/darthvader/miniconda3/envs/mlenv/lib/python3.10/site-packages/lightning/fabric/connector.py:562: UserWarning: 16 is supported for historical reasons but its usage is discouraged. Please set your precision to 16-mixed instead!\n",
      "  rank_zero_warn(\n",
      "Using 16bit Automatic Mixed Precision (AMP)\n",
      "GPU available: True (cuda), used: True\n",
      "TPU available: False, using: 0 TPU cores\n",
      "IPU available: False, using: 0 IPUs\n",
      "HPU available: False, using: 0 HPUs\n",
      "/home/darthvader/miniconda3/envs/mlenv/lib/python3.10/site-packages/torch/nn/modules/lazy.py:180: UserWarning: Lazy modules are a new feature under heavy development so changes to the API or functionality can happen at any moment.\n",
      "  warnings.warn('Lazy modules are a new feature under heavy development '\n",
      "/home/darthvader/miniconda3/envs/mlenv/lib/python3.10/site-packages/lightning/pytorch/callbacks/model_checkpoint.py:612: UserWarning: Checkpoint directory /home/darthvader/research/gsoc_23/Task-2/checkpoints exists and is not empty.\n",
      "  rank_zero_warn(f\"Checkpoint directory {dirpath} exists and is not empty.\")\n",
      "LOCAL_RANK: 0 - CUDA_VISIBLE_DEVICES: [0]\n",
      "/home/darthvader/miniconda3/envs/mlenv/lib/python3.10/site-packages/lightning/pytorch/utilities/model_summary/model_summary.py:411: UserWarning: A layer with UninitializedParameter was found. Thus, the total number of parameters detected may be inaccurate.\n",
      "  warning_cache.warn(\n"
     ]
    },
    {
     "data": {
      "text/html": [
       "<pre style=\"white-space:pre;overflow-x:auto;line-height:normal;font-family:Menlo,'DejaVu Sans Mono',consolas,'Courier New',monospace\">┏━━━┳━━━━━━━━━━━━┳━━━━━━━━━━━━━━━━┳━━━━━━━━┓\n",
       "┃<span style=\"color: #800080; text-decoration-color: #800080; font-weight: bold\">   </span>┃<span style=\"color: #800080; text-decoration-color: #800080; font-weight: bold\"> Name       </span>┃<span style=\"color: #800080; text-decoration-color: #800080; font-weight: bold\"> Type           </span>┃<span style=\"color: #800080; text-decoration-color: #800080; font-weight: bold\"> Params </span>┃\n",
       "┡━━━╇━━━━━━━━━━━━╇━━━━━━━━━━━━━━━━╇━━━━━━━━┩\n",
       "│<span style=\"color: #7f7f7f; text-decoration-color: #7f7f7f\"> 0 </span>│ img_model  │ EfficientNet   │  7.7 M │\n",
       "│<span style=\"color: #7f7f7f; text-decoration-color: #7f7f7f\"> 1 </span>│ feat_model │ Sequential     │      0 │\n",
       "│<span style=\"color: #7f7f7f; text-decoration-color: #7f7f7f\"> 2 </span>│ classifier │ LazyLinear     │      0 │\n",
       "│<span style=\"color: #7f7f7f; text-decoration-color: #7f7f7f\"> 3 </span>│ accuracy   │ BinaryAccuracy │      0 │\n",
       "│<span style=\"color: #7f7f7f; text-decoration-color: #7f7f7f\"> 4 </span>│ aucroc     │ BinaryAUROC    │      0 │\n",
       "│<span style=\"color: #7f7f7f; text-decoration-color: #7f7f7f\"> 5 </span>│ f1_score   │ BinaryF1Score  │      0 │\n",
       "└───┴────────────┴────────────────┴────────┘\n",
       "</pre>\n"
      ],
      "text/plain": [
       "┏━━━┳━━━━━━━━━━━━┳━━━━━━━━━━━━━━━━┳━━━━━━━━┓\n",
       "┃\u001b[1;35m \u001b[0m\u001b[1;35m \u001b[0m\u001b[1;35m \u001b[0m┃\u001b[1;35m \u001b[0m\u001b[1;35mName      \u001b[0m\u001b[1;35m \u001b[0m┃\u001b[1;35m \u001b[0m\u001b[1;35mType          \u001b[0m\u001b[1;35m \u001b[0m┃\u001b[1;35m \u001b[0m\u001b[1;35mParams\u001b[0m\u001b[1;35m \u001b[0m┃\n",
       "┡━━━╇━━━━━━━━━━━━╇━━━━━━━━━━━━━━━━╇━━━━━━━━┩\n",
       "│\u001b[2m \u001b[0m\u001b[2m0\u001b[0m\u001b[2m \u001b[0m│ img_model  │ EfficientNet   │  7.7 M │\n",
       "│\u001b[2m \u001b[0m\u001b[2m1\u001b[0m\u001b[2m \u001b[0m│ feat_model │ Sequential     │      0 │\n",
       "│\u001b[2m \u001b[0m\u001b[2m2\u001b[0m\u001b[2m \u001b[0m│ classifier │ LazyLinear     │      0 │\n",
       "│\u001b[2m \u001b[0m\u001b[2m3\u001b[0m\u001b[2m \u001b[0m│ accuracy   │ BinaryAccuracy │      0 │\n",
       "│\u001b[2m \u001b[0m\u001b[2m4\u001b[0m\u001b[2m \u001b[0m│ aucroc     │ BinaryAUROC    │      0 │\n",
       "│\u001b[2m \u001b[0m\u001b[2m5\u001b[0m\u001b[2m \u001b[0m│ f1_score   │ BinaryF1Score  │      0 │\n",
       "└───┴────────────┴────────────────┴────────┘\n"
      ]
     },
     "metadata": {},
     "output_type": "display_data"
    },
    {
     "data": {
      "text/html": [
       "<pre style=\"white-space:pre;overflow-x:auto;line-height:normal;font-family:Menlo,'DejaVu Sans Mono',consolas,'Courier New',monospace\"><span style=\"font-weight: bold\">Trainable params</span>: 7.7 M                                                                                            \n",
       "<span style=\"font-weight: bold\">Non-trainable params</span>: 0                                                                                            \n",
       "<span style=\"font-weight: bold\">Total params</span>: 7.7 M                                                                                                \n",
       "<span style=\"font-weight: bold\">Total estimated model params size (MB)</span>: 30                                                                         \n",
       "</pre>\n"
      ],
      "text/plain": [
       "\u001b[1mTrainable params\u001b[0m: 7.7 M                                                                                            \n",
       "\u001b[1mNon-trainable params\u001b[0m: 0                                                                                            \n",
       "\u001b[1mTotal params\u001b[0m: 7.7 M                                                                                                \n",
       "\u001b[1mTotal estimated model params size (MB)\u001b[0m: 30                                                                         \n"
      ]
     },
     "metadata": {},
     "output_type": "display_data"
    },
    {
     "data": {
      "application/vnd.jupyter.widget-view+json": {
       "model_id": "5637ab70dd42443b9185c39ef9d98ae9",
       "version_major": 2,
       "version_minor": 0
      },
      "text/plain": [
       "Output()"
      ]
     },
     "metadata": {},
     "output_type": "display_data"
    },
    {
     "data": {
      "text/html": [
       "<pre style=\"white-space:pre;overflow-x:auto;line-height:normal;font-family:Menlo,'DejaVu Sans Mono',consolas,'Courier New',monospace\">/home/darthvader/miniconda3/envs/mlenv/lib/python3.10/site-packages/torchmetrics/utilities/prints.py:36: \n",
       "UserWarning: No negative samples in targets, false positive value should be meaningless. Returning zero tensor in \n",
       "false positive score\n",
       "  warnings.warn(*args, **kwargs)\n",
       "</pre>\n"
      ],
      "text/plain": [
       "/home/darthvader/miniconda3/envs/mlenv/lib/python3.10/site-packages/torchmetrics/utilities/prints.py:36: \n",
       "UserWarning: No negative samples in targets, false positive value should be meaningless. Returning zero tensor in \n",
       "false positive score\n",
       "  warnings.warn(*args, **kwargs)\n"
      ]
     },
     "metadata": {},
     "output_type": "display_data"
    },
    {
     "name": "stderr",
     "output_type": "stream",
     "text": [
      "Epoch 0, global step 507: 'val_aucroc' reached 0.84739 (best 0.84739), saving model to '/home/darthvader/research/gsoc_23/Task-2/checkpoints/best_effnet_chkpt.ckpt' as top 1\n",
      "Metric val_aucroc improved. New best score: 0.847\n",
      "Epoch 1, global step 1014: 'val_aucroc' reached 0.85364 (best 0.85364), saving model to '/home/darthvader/research/gsoc_23/Task-2/checkpoints/best_effnet_chkpt.ckpt' as top 1\n",
      "Metric val_aucroc improved by 0.006 >= min_delta = 0.0. New best score: 0.854\n",
      "Epoch 2, global step 1521: 'val_aucroc' reached 0.85782 (best 0.85782), saving model to '/home/darthvader/research/gsoc_23/Task-2/checkpoints/best_effnet_chkpt.ckpt' as top 1\n",
      "Metric val_aucroc improved by 0.004 >= min_delta = 0.0. New best score: 0.858\n",
      "Epoch 3, global step 2028: 'val_aucroc' reached 0.86148 (best 0.86148), saving model to '/home/darthvader/research/gsoc_23/Task-2/checkpoints/best_effnet_chkpt.ckpt' as top 1\n",
      "Metric val_aucroc improved by 0.004 >= min_delta = 0.0. New best score: 0.861\n",
      "Epoch 4, global step 2535: 'val_aucroc' reached 0.86184 (best 0.86184), saving model to '/home/darthvader/research/gsoc_23/Task-2/checkpoints/best_effnet_chkpt.ckpt' as top 1\n",
      "Metric val_aucroc improved by 0.000 >= min_delta = 0.0. New best score: 0.862\n",
      "Epoch 5, global step 3042: 'val_aucroc' was not in top 1\n",
      "Epoch 6, global step 3549: 'val_aucroc' was not in top 1\n",
      "Epoch 7, global step 4056: 'val_aucroc' was not in top 1\n",
      "Monitored metric val_aucroc did not improve in the last 3 records. Best score: 0.862. Signaling Trainer to stop.\n"
     ]
    },
    {
     "data": {
      "text/html": [
       "<pre style=\"white-space:pre;overflow-x:auto;line-height:normal;font-family:Menlo,'DejaVu Sans Mono',consolas,'Courier New',monospace\"></pre>\n"
      ],
      "text/plain": []
     },
     "metadata": {},
     "output_type": "display_data"
    },
    {
     "data": {
      "text/html": [
       "<pre style=\"white-space:pre;overflow-x:auto;line-height:normal;font-family:Menlo,'DejaVu Sans Mono',consolas,'Courier New',monospace\">\n",
       "</pre>\n"
      ],
      "text/plain": [
       "\n"
      ]
     },
     "metadata": {},
     "output_type": "display_data"
    }
   ],
   "source": [
    "run = wandb.init(project=\"GSoC23-Task2\", name=\"effnet_metrics\", config=WANDB_CONFIG)\n",
    "\n",
    "torch.cuda.empty_cache()\n",
    "\n",
    "if not os.path.exists(\"./checkpoints\"):\n",
    "    os.mkdir(\"./checkpoints\")\n",
    "    \n",
    "early_stop = pl.callbacks.EarlyStopping(monitor=\"val_aucroc\", mode=\"max\", patience=3, verbose=True)\n",
    "model_checkpt = pl.callbacks.ModelCheckpoint(dirpath=\"./checkpoints\", filename=\"best_effnet_chkpt\", \n",
    "                                             monitor=\"val_aucroc\", mode=\"max\", save_top_k=1, save_on_train_epoch_end=False, \n",
    "                                             verbose=True)\n",
    "\n",
    "prog_bar = pl.callbacks.RichProgressBar()\n",
    "\n",
    "trainer = pl.Trainer(accelerator=\"gpu\", \n",
    "                     devices=1, \n",
    "                     precision=16, \n",
    "                     max_epochs=10000, \n",
    "                     callbacks=[early_stop, model_checkpt, prog_bar])\n",
    "\n",
    "model = LitEffnetLensFinding(wandb_log=run)\n",
    "\n",
    "trainer.fit(model, train_dataloaders=train_dl, val_dataloaders=val_dl)"
   ]
  },
  {
   "cell_type": "markdown",
   "id": "789e62d9-8d48-4e1b-8abc-c38f6ad3f600",
   "metadata": {},
   "source": [
    "# Model Testing"
   ]
  },
  {
   "cell_type": "code",
   "execution_count": 16,
   "id": "b81e519d-4153-44b2-81e9-4fd6ea6c4259",
   "metadata": {
    "tags": []
   },
   "outputs": [
    {
     "name": "stderr",
     "output_type": "stream",
     "text": [
      "/home/darthvader/miniconda3/envs/mlenv/lib/python3.10/site-packages/torch/nn/modules/lazy.py:180: UserWarning: Lazy modules are a new feature under heavy development so changes to the API or functionality can happen at any moment.\n",
      "  warnings.warn('Lazy modules are a new feature under heavy development '\n"
     ]
    }
   ],
   "source": [
    "trained_model = LitEffnetLensFinding.load_from_checkpoint(\"./checkpoints/best_effnet_chkpt.ckpt\")\n",
    "trained_model.freeze()"
   ]
  },
  {
   "cell_type": "code",
   "execution_count": 20,
   "id": "a28fa5f5-b81a-439e-9a95-8aff278b29fc",
   "metadata": {
    "tags": []
   },
   "outputs": [
    {
     "name": "stderr",
     "output_type": "stream",
     "text": [
      "Using 16bit Automatic Mixed Precision (AMP)\n",
      "GPU available: True (cuda), used: True\n",
      "TPU available: False, using: 0 TPU cores\n",
      "IPU available: False, using: 0 IPUs\n",
      "HPU available: False, using: 0 HPUs\n",
      "LOCAL_RANK: 0 - CUDA_VISIBLE_DEVICES: [0]\n"
     ]
    },
    {
     "data": {
      "application/vnd.jupyter.widget-view+json": {
       "model_id": "efad45920e5449ba9fdc00c50e7bc040",
       "version_major": 2,
       "version_minor": 0
      },
      "text/plain": [
       "Output()"
      ]
     },
     "metadata": {},
     "output_type": "display_data"
    },
    {
     "data": {
      "text/html": [
       "<pre style=\"white-space:pre;overflow-x:auto;line-height:normal;font-family:Menlo,'DejaVu Sans Mono',consolas,'Courier New',monospace\">┏━━━━━━━━━━━━━━━━━━━━━━━━━━━┳━━━━━━━━━━━━━━━━━━━━━━━━━━━┓\n",
       "┃<span style=\"font-weight: bold\">        Test metric        </span>┃<span style=\"font-weight: bold\">       DataLoader 0        </span>┃\n",
       "┡━━━━━━━━━━━━━━━━━━━━━━━━━━━╇━━━━━━━━━━━━━━━━━━━━━━━━━━━┩\n",
       "│<span style=\"color: #008080; text-decoration-color: #008080\">       test_accuracy       </span>│<span style=\"color: #800080; text-decoration-color: #800080\">        0.923828125        </span>│\n",
       "│<span style=\"color: #008080; text-decoration-color: #008080\">        test_aucroc        </span>│<span style=\"color: #800080; text-decoration-color: #800080\">    0.9940434694290161     </span>│\n",
       "│<span style=\"color: #008080; text-decoration-color: #008080\">       test_f1_score       </span>│<span style=\"color: #800080; text-decoration-color: #800080\">    0.9418744444847107     </span>│\n",
       "│<span style=\"color: #008080; text-decoration-color: #008080\">         test_loss         </span>│<span style=\"color: #800080; text-decoration-color: #800080\">    0.2131374478340149     </span>│\n",
       "└───────────────────────────┴───────────────────────────┘\n",
       "</pre>\n"
      ],
      "text/plain": [
       "┏━━━━━━━━━━━━━━━━━━━━━━━━━━━┳━━━━━━━━━━━━━━━━━━━━━━━━━━━┓\n",
       "┃\u001b[1m \u001b[0m\u001b[1m       Test metric       \u001b[0m\u001b[1m \u001b[0m┃\u001b[1m \u001b[0m\u001b[1m      DataLoader 0       \u001b[0m\u001b[1m \u001b[0m┃\n",
       "┡━━━━━━━━━━━━━━━━━━━━━━━━━━━╇━━━━━━━━━━━━━━━━━━━━━━━━━━━┩\n",
       "│\u001b[36m \u001b[0m\u001b[36m      test_accuracy      \u001b[0m\u001b[36m \u001b[0m│\u001b[35m \u001b[0m\u001b[35m       0.923828125       \u001b[0m\u001b[35m \u001b[0m│\n",
       "│\u001b[36m \u001b[0m\u001b[36m       test_aucroc       \u001b[0m\u001b[36m \u001b[0m│\u001b[35m \u001b[0m\u001b[35m   0.9940434694290161    \u001b[0m\u001b[35m \u001b[0m│\n",
       "│\u001b[36m \u001b[0m\u001b[36m      test_f1_score      \u001b[0m\u001b[36m \u001b[0m│\u001b[35m \u001b[0m\u001b[35m   0.9418744444847107    \u001b[0m\u001b[35m \u001b[0m│\n",
       "│\u001b[36m \u001b[0m\u001b[36m        test_loss        \u001b[0m\u001b[36m \u001b[0m│\u001b[35m \u001b[0m\u001b[35m   0.2131374478340149    \u001b[0m\u001b[35m \u001b[0m│\n",
       "└───────────────────────────┴───────────────────────────┘\n"
      ]
     },
     "metadata": {},
     "output_type": "display_data"
    },
    {
     "data": {
      "text/html": [
       "<pre style=\"white-space:pre;overflow-x:auto;line-height:normal;font-family:Menlo,'DejaVu Sans Mono',consolas,'Courier New',monospace\"></pre>\n"
      ],
      "text/plain": []
     },
     "metadata": {},
     "output_type": "display_data"
    },
    {
     "data": {
      "text/html": [
       "<pre style=\"white-space:pre;overflow-x:auto;line-height:normal;font-family:Menlo,'DejaVu Sans Mono',consolas,'Courier New',monospace\">\n",
       "</pre>\n"
      ],
      "text/plain": [
       "\n"
      ]
     },
     "metadata": {},
     "output_type": "display_data"
    }
   ],
   "source": [
    "new_trainer = pl.Trainer(accelerator=\"gpu\", devices=1, precision=16, callbacks=[pl.callbacks.RichProgressBar()])\n",
    "test_res = new_trainer.test(trained_model, dataloaders=test_dl)\n",
    "\n",
    "if not os.path.exists(\"./results\"):\n",
    "    os.mkdir(\"./results\")\n",
    "\n",
    "    \n",
    "with open(\"./results/effnet_res.json\", \"w\") as fp:\n",
    "    json.dump(test_res, fp)"
   ]
  },
  {
   "cell_type": "code",
   "execution_count": 21,
   "id": "75982fdd-3787-40d9-bc35-535a8b76ced8",
   "metadata": {
    "tags": []
   },
   "outputs": [],
   "source": [
    "results = defaultdict(lambda : list())\n",
    "\n",
    "for res_files in os.listdir('./results/'):\n",
    "    if res_files.startswith('.'):\n",
    "        continue\n",
    "        \n",
    "    with open(os.path.join('./results', res_files)) as fp:\n",
    "        data = json.load(fp)\n",
    "        results['model_name'].append(res_files.split(\"_\")[0])\n",
    "        for keys, values in data[0].items():\n",
    "            results[keys].append(values)"
   ]
  },
  {
   "cell_type": "code",
   "execution_count": 23,
   "id": "373b75e6-836c-48f1-adfb-e2d4423a1d5c",
   "metadata": {
    "tags": []
   },
   "outputs": [
    {
     "data": {
      "image/png": "[encoded data removed]",
      "text/plain": [
       "<Figure size 800x500 with 1 Axes>"
      ]
     },
     "metadata": {},
     "output_type": "display_data"
    }
   ],
   "source": [
    "results = pd.DataFrame(results)\n",
    "\n",
    "plt.figure(figsize=(8, 5))\n",
    "sns.set_style(\"whitegrid\")\n",
    "plt.title(\"Comparison of AUC-ROC Scores for different models\", weight=\"bold\", fontsize=14)\n",
    "sns.barplot(x=\"model_name\", y=\"test_aucroc\", data=results, palette=[MY_COLORS[-1], MY_COLORS[0]])\n",
    "plt.xlabel(\"Model Name\")\n",
    "plt.ylabel(\"Test AUC-ROC\")\n",
    "sns.despine()\n",
    "plt.show()"
   ]
  },
  {
   "cell_type": "code",
   "execution_count": null,
   "id": "8e592ae2-86b4-4574-ad2c-a73660ee371e",
   "metadata": {},
   "outputs": [],
   "source": []
  }
 ],
 "metadata": {
  "kernelspec": {
   "display_name": "Python 3 (ipykernel)",
   "language": "python",
   "name": "python3"
  },
  "language_info": {
   "codemirror_mode": {
    "name": "ipython",
    "version": 3
   },
   "file_extension": ".py",
   "mimetype": "text/x-python",
   "name": "python",
   "nbconvert_exporter": "python",
   "pygments_lexer": "ipython3",
   "version": "3.10.10"
  }
 },
 "nbformat": 4,
 "nbformat_minor": 5
}
